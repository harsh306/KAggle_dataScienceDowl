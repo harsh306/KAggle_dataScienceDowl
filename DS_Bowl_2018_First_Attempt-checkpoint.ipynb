{
 "cells": [
  {
   "cell_type": "code",
   "execution_count": 1,
   "metadata": {},
   "outputs": [
    {
     "name": "stderr",
     "output_type": "stream",
     "text": [
      "/home/xiaozhouzou/anaconda/lib/python3.6/site-packages/h5py/__init__.py:34: FutureWarning: Conversion of the second argument of issubdtype from `float` to `np.floating` is deprecated. In future, it will be treated as `np.float64 == np.dtype(float).type`.\n",
      "  from ._conv import register_converters as _register_converters\n"
     ]
    }
   ],
   "source": [
    "import numpy as np # linear algebra\n",
    "import pandas as pd # data processing, CSV file I/O (e.g. pd.read_csv)\n",
    "import random\n",
    "import skimage.io\n",
    "import matplotlib.pyplot as plt\n",
    "from skimage import transform\n",
    "import os\n",
    "import shutil\n",
    "from tqdm import tqdm\n",
    "import tensorflow as tf\n",
    "from subprocess import check_output\n",
    "\n",
    "%matplotlib inline"
   ]
  },
  {
   "cell_type": "code",
   "execution_count": 2,
   "metadata": {
    "collapsed": true
   },
   "outputs": [],
   "source": [
    "DATA_DIR = '/home/xiaozhouzou/Kaggle_Problems/DataBowl_2018/Data/training_set'\n",
    "\n",
    "BATCH_SIZE = 64\n",
    "\n",
    "RESIZED_HEIGHT = 560\n",
    "RESIZED_WIDTH = 560\n",
    "N_CHANNELS = 4"
   ]
  },
  {
   "cell_type": "code",
   "execution_count": 3,
   "metadata": {
    "collapsed": true
   },
   "outputs": [],
   "source": [
    "def read_image_labels(image_id):\n",
    "    # most of the content in this function is taken from 'Example Metric Implementation' kernel \n",
    "    # by 'William Cukierski'\n",
    "    image_file = os.path.join(DATA_DIR, \"{}/images/{}.png\".format(image_id,image_id))\n",
    "    mask_file = os.path.join(DATA_DIR, \"{}/masks/*.png\".format(image_id))\n",
    "    image = skimage.io.imread(image_file)\n",
    "    masks = skimage.io.imread_collection(mask_file).concatenate()    \n",
    "    height, width, _ = image.shape\n",
    "    num_masks = masks.shape[0]\n",
    "    labels = np.zeros((height, width), np.uint16)\n",
    "    for index in range(0, num_masks):\n",
    "        labels[masks[index] > 0] = index + 1\n",
    "    return image, labels\n",
    "\n",
    "def data_aug(image,label,angel=30,resize_rate=0.9):\n",
    "    flip = random.randint(0, 1)\n",
    "    size = image.shape[0]\n",
    "    rsize = random.randint(np.floor(resize_rate*size),size)\n",
    "    w_s = random.randint(0,size - rsize)\n",
    "    h_s = random.randint(0,size - rsize)\n",
    "    sh = random.random()/2-0.25\n",
    "    rotate_angel = random.random()/180*np.pi*angel\n",
    "    # Create Afine transform\n",
    "    afine_tf = transform.AffineTransform(shear=sh,rotation=rotate_angel)\n",
    "    # Apply transform to image data\n",
    "    image = transform.warp(image, inverse_map=afine_tf,mode='edge')\n",
    "    label = transform.warp(label, inverse_map=afine_tf,mode='edge')\n",
    "    # Randomly corpping image frame\n",
    "    image = image[w_s:w_s+size,h_s:h_s+size,:]\n",
    "    label = label[w_s:w_s+size,h_s:h_s+size]\n",
    "    # Ramdomly flip frame\n",
    "    if flip:\n",
    "        image = image[:,::-1,:]\n",
    "        label = label[:,::-1]\n",
    "    return image, label"
   ]
  },
  {
   "cell_type": "code",
   "execution_count": 4,
   "metadata": {
    "collapsed": true
   },
   "outputs": [],
   "source": [
    "def make_data_augmentation(image_ids,split_num):\n",
    "    for ax_index, image_id in tqdm(enumerate(image_ids),total=len(image_ids)):\n",
    "        image,labels = read_image_labels(image_id)\n",
    "        if not os.path.exists(os.path.join(DATA_DIR, \"{}/augs/\".format(image_id))):\n",
    "            os.makedirs(os.path.join(DATA_DIR, \"{}/augs/\".format(image_id)))\n",
    "        if not os.path.exists(os.path.join(DATA_DIR, \"{}/augs_masks/\".format(image_id))):\n",
    "            os.makedirs(os.path.join(DATA_DIR, \"{}/augs_masks/\".format(image_id)))\n",
    "            \n",
    "        # also save the original image in augmented file \n",
    "        plt.imsave(fname=os.path.join(DATA_DIR, \"{}/augs/{}.png\".format(image_id,image_id)), arr = image)\n",
    "        plt.imsave(fname=os.path.join(DATA_DIR, \"{}/augs_masks/{}.png\".format(image_id,image_id)),arr = labels)\n",
    "\n",
    "        for i in range(split_num):\n",
    "            new_image, new_labels = data_aug(image,labels,angel=5,resize_rate=0.9)\n",
    "            aug_img_dir = os.path.join(DATA_DIR, \"{}/augs/{}_{}.png\".format(image_id,image_id,i))\n",
    "            aug_mask_dir = os.path.join(DATA_DIR, \"{}/augs_masks/{}_{}.png\".format(image_id,image_id,i))\n",
    "            plt.imsave(fname=aug_img_dir, arr = new_image)\n",
    "            plt.imsave(fname=aug_mask_dir,arr = new_labels)\n",
    "\n",
    "def clean_data_augmentation(image_ids):\n",
    "    for ax_index, image_id in tqdm(enumerate(image_ids),total=len(image_ids)):\n",
    "        if os.path.exists(os.path.join(DATA_DIR, \"{}/augs/\".format(image_id))):\n",
    "            shutil.rmtree(os.path.join(DATA_DIR, \"{}/augs/\".format(image_id)))\n",
    "        if os.path.exists(os.path.join(DATA_DIR, \"{}/augs_masks/\".format(image_id))):\n",
    "            shutil.rmtree(os.path.join(DATA_DIR, \"{}/augs_masks/\".format(image_id)))"
   ]
  },
  {
   "cell_type": "code",
   "execution_count": 3,
   "metadata": {
    "collapsed": true
   },
   "outputs": [],
   "source": [
    "IMAGE_IDS = check_output([\"ls\", DATA_DIR]).decode(\"utf8\").split()\n",
    "SPLIT_NUM = 10"
   ]
  },
  {
   "cell_type": "code",
   "execution_count": 31,
   "metadata": {},
   "outputs": [
    {
     "data": {
      "text/plain": [
       "False"
      ]
     },
     "execution_count": 31,
     "metadata": {},
     "output_type": "execute_result"
    }
   ],
   "source": [
    "'augs_masks' in IMAGE_IDS"
   ]
  },
  {
   "cell_type": "code",
   "execution_count": 32,
   "metadata": {},
   "outputs": [
    {
     "data": {
      "text/plain": [
       "['00071198d059ba7f5914a526d124d28e6d010c92466da21d4a04cd5413362552',\n",
       " '003cee89357d9fe13516167fd67b609a164651b21934585648c740d2c3d86dc1',\n",
       " '00ae65c1c6631ae6f2be1a449902976e6eb8483bf6b0740d00530220832c6d3e',\n",
       " '0121d6759c5adb290c8e828fc882f37dfaf3663ec885c663859948c154a443ed',\n",
       " '01d44a26f6680c42ba94c9bc6339228579a95d0e2695b149b7cc0c9592b21baf',\n",
       " '0280fa8f60f6bcae0f97d93c28f60be194f9309ff610dc5845e60455b0f87c21',\n",
       " '0287e7ee5b007c91ae2bd7628d09735e70496bc6127ecb7f3dd043e04ce37426',\n",
       " '02903040e19ddf92f452907644ad3822918f54af41dd85e5a3fe3e1b6d6f9339',\n",
       " '03398329ced0c23b9ac3fac84dd53a87d9ffe4d9d10f1b5fe8df8fac12380776',\n",
       " '03b9306f44e9b8951461623dcbd615550cdcf36ea93b203f2c8fa58ed1dffcbe',\n",
       " '03f583ec5018739f4abb9b3b4a580ac43bd933c4337ad8877aa18b1dfb59fc9a',\n",
       " '0402a81e75262469925ea893b6706183832e85324f7b1e08e634129f5d522cdd',\n",
       " '04acab7636c4cf61d288a5962f15fa456b7bde31a021e5deedfbf51288e4001e',\n",
       " '05040e2e959c3f5632558fc9683fec88f0010026c555b499066346f67fdd0e13',\n",
       " '0532c64c2fd0c4d3188cc751cdfd566b1cfba3d269358717295bab1504c7c275',\n",
       " '05a8f65ebd0b30d3b210f30b4d640c847c2e710d0d135e0aeeaccbe1988e3b6e',\n",
       " '06350c7cc618be442c15706db7a68e91f313758d224de4608f9b960106d4f9ca',\n",
       " '06c779330d6d3447be21df2b9f05d1088f5b3b50dc48724fc130b1fd2896a68c',\n",
       " '072ff14c1d3245bf49ad6f1d4c71cdb18f1cb78a8e06fd2f53767e28f727cb81',\n",
       " '07761fa39f60dc37022dbbe8d8694595fd5b77ceb2af2a2724768c8e524d6770',\n",
       " '077f026f4ab0f0bcc0856644d99cbf639e443ec4f067d7b708bc6cecac609424',\n",
       " '07fb37aafa6626608af90c1e18f6a743f29b6b233d2e427dcd1102df6a916cf5',\n",
       " '08151b19806eebd58e5acec7e138dbfbb1761f41a1ab9620466584ecc7d5fada',\n",
       " '08275a5b1c2dfcd739e8c4888a5ee2d29f83eccfa75185404ced1dc0866ea992',\n",
       " '08ae2741df2f5ac815c0f272a8c532b5167ee853be9b939b9b8b7fa93560868a',\n",
       " '091944f1d2611c916b98c020bd066667e33f4639159b2a92407fe5a40788856d',\n",
       " '094afe36759e7daffe12188ab5987581d405b06720f1d5acf3f2614f404df380',\n",
       " '0a7d30b252359a10fd298b638b90cb9ada3acced4e0c0e5a3692013f432ee4e9',\n",
       " '0acd2c223d300ea55d0546797713851e818e5c697d073b7f4091b96ce0f3d2fe',\n",
       " '0b0d577159f0d6c266f360f7b8dfde46e16fa665138bf577ec3c6f9c70c0cd1e',\n",
       " '0b2e702f90aee4fff2bc6e4326308d50cf04701082e718d4f831c8959fbcda93',\n",
       " '0bda515e370294ed94efd36bd53782288acacb040c171df2ed97fd691fc9d8fe',\n",
       " '0bf33d3db4282d918ec3da7112d0bf0427d4eafe74b3ee0bb419770eefe8d7d6',\n",
       " '0bf4b144167694b6846d584cf52c458f34f28fcae75328a2a096c8214e01c0d0',\n",
       " '0c2550a23b8a0f29a7575de8c61690d3c31bc897dd5ba66caec201d201a278c2',\n",
       " '0c6507d493bf79b2ba248c5cca3d14df8b67328b89efa5f4a32f97a06a88c92c',\n",
       " '0d2bf916cc8de90d02f4cd4c23ea79b227dbc45d845b4124ffea380c92d34c8c',\n",
       " '0d3640c1f1b80f24e94cc9a5f3e1d9e8db7bf6af7d4aba920265f46cadc25e37',\n",
       " '0ddd8deaf1696db68b00c600601c6a74a0502caaf274222c8367bdc31458ae7e',\n",
       " '0e21d7b3eea8cdbbed60d51d72f4f8c1974c5d76a8a3893a7d5835c85284132e',\n",
       " '0e4c2e2780de7ec4312f0efcd86b07c3738d21df30bb4643659962b4da5505a3',\n",
       " '0e5edb072788c7b1da8829b02a49ba25668b09f7201cf2b70b111fc3b853d14f',\n",
       " '0ea221716cf13710214dcd331a61cea48308c3940df1d28cfc7fd817c83714e1',\n",
       " '1023509cf8d4c155467800f89508690be9513431992f470594281cd37dbd020d',\n",
       " '10328b822b836e67b547b4144e0b7eb43747c114ce4cacd8b540648892945b00',\n",
       " '10ba6cbee4873b32d5626a118a339832ba2b15d8643f66dddcd7cb2ec80fbc28',\n",
       " '11a0170f44e3ab4a8d669ae8ea9546d3a32ebfe6486d9066e5648d30b4e1cb69',\n",
       " '12aeefb1b522b283819b12e4cfaf6b13c1264c0aadac3412b4edd2ace304cb40',\n",
       " '12f89395ad5d21491ab9cec137e247652451d283064773507d7dc362243c5b8e',\n",
       " '136000dc18fa6def2d6c98d4d0b2084d13c22eaffe82e26c665bcaa2a9e51261',\n",
       " '139946af9e2c7ef4f0298e622b831dbef5e5c0cd088eb5bc3382f8df9355443d',\n",
       " '13c8ff1f49886e91c98ce795c93648ad8634c782ff57eb928ce29496b0425057',\n",
       " '13f2bec0a24c70345372febb14c4352877b1b6c1b01896246048e83c345c0914',\n",
       " '1400420310c9094361a8a243545187f1d4c2365e081b3bb08c5fa29c7491a55b',\n",
       " '14cc1424c59808274e123db51292e9dbb5b037ef3e7c767a8c45c9ac733b91bf',\n",
       " '15039b3acccc4257a1a442646a89b6e596b5eb4531637e6d8fa1c43203722c99',\n",
       " '150b0ffa318c87b31d78af0e87d60390dbcd84b5f228a8c1fb3225cbe5df3e3f',\n",
       " '1609b1b8480ee52652a644403b3f7d5511410a016750aa3b9a4c8ddb3e893e8e',\n",
       " '1631352dbafb8a90f11219fffd3bea368a30bc3bad3bbe0e84e19bd720df4945',\n",
       " '16c3d5935ba94b720becc24b7a05741c26149e221e3401924080f41e2f891368',\n",
       " '1740b0a67ca337ea31648b57c81bcfbb841c7bb5cad185199a9f4da596d531b9',\n",
       " '175dbb364bfefc9537931144861c9b6e08934df3992782c669c6fe4234319dfc',\n",
       " '1815cf307859b3e13669041d181aa3b3dbbac1a95aef4c42164b223110c09168',\n",
       " '193ffaa5272d5c421ae02130a64d98ad120ec70e4ed97a72cdcd4801ce93b066',\n",
       " '19f0653c33982a416feed56e5d1ce6849fd83314fd19dfa1c5b23c6b66e9868a',\n",
       " '1a11552569160f0b1ea10bedbd628ce6c14f29edec5092034c2309c556df833e',\n",
       " '1a75de9e11303142864efed27e69ea1960dbd82ca910de221a777ed2caf35a6b',\n",
       " '1a75e9f15481d11084fe66bc2a5afac6dc5bec20ed56a7351a6d65ef0fe8762b',\n",
       " '1b2bf5933b0fb82918d278983bee66e9532b53807c3638efd9af66d20a2bae88',\n",
       " '1b44d22643830cd4f23c9deadb0bd499fb392fb2cd9526d81547d93077d983df',\n",
       " '1b518cd2ea84a389c267662840f3d902d0129fab27696215db2488de6d4316c5',\n",
       " '1b6044e4858a9b7cee9b0028d8e54fbc8fb72e6c4424ab5b9f3859bfc72b33c5',\n",
       " '1bd0f2b3000b7c7723f25335fabfcdddcdf4595dd7de1b142d52bb7a186885f0',\n",
       " '1c2f9e121fc207efff79d46390df1a740566b683ff56a96d8cabe830a398dd2e',\n",
       " '1c681dfa5cf7e413305d2e90ee47553a46e29cce4f6ed034c8297e511714f867',\n",
       " '1c8b905c9519061d6d091e702b45274f4485c80dcf7fb1491e6b2723f5002180',\n",
       " '1d02c4b5921e916b9ddfb2f741fd6cf8d0e571ad51eb20e021c826b5fb87350e',\n",
       " '1d4a5e729bb96b08370789cad0791f6e52ce0ffe1fcc97a04046420b43c851dd',\n",
       " '1d5f4717e179a03675a5aac3fc1c862fb442ddc3e373923016fd6b1430da889b',\n",
       " '1db1cddf28e305c9478519cfac144eee2242183fe59061f1f15487e925e8f5b5',\n",
       " '1e488c42eb1a54a3e8412b1f12cde530f950f238d71078f2ede6a85a02168e1f',\n",
       " '1e61ecf354cb93a62a9561db87a53985fb54e001444f98112ed0fc623fad793e',\n",
       " '1e8408fbb1619e7a0bcdd0bcd21fae57e7cb1f297d4c79787a9d0f5695d77073',\n",
       " '1ec74a26e772966df764e063f1391109a60d803cff9d15680093641ed691bf72',\n",
       " '1ee4a111f0e0bb9b001121b94ff98ca736fad03797b25285fe33a47046b3e4b0',\n",
       " '1f0008060150b5b93084ae2e4dabd160ab80a95ce8071a321b80ec4e33b58aca',\n",
       " '1f6b7cead15344593b32d5f2345fc26713dc74d9b31306c824209d67da401fd8',\n",
       " '1f9e429c12f4477221b5b855a5f494fda2ef6d064ff75b061ffaf093e91758c5',\n",
       " '20468e8779c43e089dc0ff30f25e6cf3872d5aa6a0fdad6f8aca382da43e8582',\n",
       " '20b20ab049372d184c705acebe7af026d3580f5fd5a72ed796e3622e1685af2f',\n",
       " '20c37b1ad2f510ed7396969e855fe93d0d05611738f6e706e8ca1d1aed3ded45',\n",
       " '20e209f6ffa120a72712e1b4c1d3e24d1339227e2936abd4bbd49a636fada423',\n",
       " '212b858a66f0d23768b8e3e1357704fc2f4cf4bbe7eed8cd59b5d01031d553e6',\n",
       " '21408476af0506331e8b5d49b385833e5ef1fbb90815fbf9af9d19b4bb145f76',\n",
       " '220b37f4ca7cab486d2b71cd87a46ee7411a5aa142799d96ed98015ab5ba538a',\n",
       " '2227fd9b01d67c2bcdb407d3205214e6dfeff9fd0725828e3b3651959942ff4a',\n",
       " '2246874c8b5ba218d01ad8153a201ad4660195f3e4c65da6b9d4ccaf82cb7edf',\n",
       " '2255d5aba044256bb92f6b7cbed0fca46d972c7b6b1a59dcbe7f682c5777d074',\n",
       " '2349e95ece2857c89db7e4a8be8c88af0b45f3c4262608120cb3bd6ef51fd241',\n",
       " '237802ac5005f9cf782367156c46c383efd9e05088e5768ca883cbbe24abadb1',\n",
       " '23830d0e51245fc0c9e410efa4c17d2a7d83a0104a3777130119ab892de47a4e',\n",
       " '243443ae303cc09cfbea85bfd22b0c4f026342f3dfc3aa1076f27867910d025b',\n",
       " '245b995878370ef4ea977568b2b67f93d4ecaa9308761b9d3e148e0803780183',\n",
       " '24a20f2a529cede5695df2422a3986505b5826bb10b10781d6db2074cf3de7b3',\n",
       " '27c30f9011492f234e4587c9a4b53c787037d486f658821196fe354240ac3c47',\n",
       " '2817299fd3b88670e86a9db5651ba24333c299d1d41e5491aabfcd95aee84174',\n",
       " '2869fad54664677e81bacbf00c2256e89a7b90b69d9688c9342e2c736ff5421c',\n",
       " '28d33efef218392e79e385906deb88055d94b65ad217de78c07e85476f80f45a',\n",
       " '295ac4ecf2ee0211c065cf5dbb93b1eb8e61347153447209cd110e9c3e355e81',\n",
       " '29780b28e6a75fac7b96f164a1580666513199794f1b19a5df8587fe0cb59b67',\n",
       " '29dd28df98ee51b4ab1a87f5509538ecc3e4697fc57c40c6165658f61b0d8e3a',\n",
       " '29ea4f6eb4545f43868a9b40a60000426bf8dfd9d062546656a37bd2a2aaf9ec',\n",
       " '2a1a294e21d76efd0399e4eb321b45f44f7510911acd92c988480195c5b4c812',\n",
       " '2a2032c4ed78f3fc64de7e5efd0bec26a81680b07404eaa54a1744b7ab3f8365',\n",
       " '2ab91a4408860ae8339689ed9f87aa9359de1bdd4ca5c2eab7fff7724dbd6707',\n",
       " '2abc40c118bc7303592c8bb95a80361e27560854b8971ab34dcf91966575b1f2',\n",
       " '2ad489c11ed8b77a9d8a2339ac64ffc38e79281c03a2507db4688fd3186c0fe5',\n",
       " '2b50b1e3fa5c5aa39bc84ebfaea9961b7199c4d2488ae0b48d0b3459807d59d2',\n",
       " '2bf594e9d06f78b4b79d7ffb395497a0a91126b6b0d710d7a9cee21f5c3bd177',\n",
       " '2c61fdcb36fd1b2944895af6204279e9f6c164ba894198b40c8b7a3c9bf500ea',\n",
       " '2c83c86dd4e5dacc024b55629375567fb8e320a82ef86f541cfe54764040fc25',\n",
       " '2c840a94d216f5ef4e499b53ae885e9b022cbf639e004ec788436093837823b2',\n",
       " '2cfa61bef6542dd359717e9131ce6f076c415a3bd7f48cb093b0d7f3b2ca785d',\n",
       " '2cfa857e63be1b418c91ad5ea1f8d136fd1b80fc856e1d4277274c3dea28011c',\n",
       " '2d53d7ec0c579fffd6710c956288537d46c719a93c6a04ac0d6550f75a6a6493',\n",
       " '2dd3356f2dcf470aec4003800744dfec6490e75d88011e1d835f4f3d60f88e7a',\n",
       " '2dd9d8c797fc695665326fc8fd0eb5cd292139fa478ccb5acb7fb352f7030063',\n",
       " '2dec81a678ddcac2b110acffe82427d857695180bd841e3f9736a554acf832af',\n",
       " '2e172afb1f43b359f1f0208da9386aefe97c0c1afe202abfe6ec09cdca820990',\n",
       " '2e2d29fc44444a85049b162eb359a523dec108ccd5bd75022b25547491abf0c7',\n",
       " '2f929b067a59f88530b6bfa6f6889bc3a38adf88d594895973d1c8b2549fd93d',\n",
       " '30311520606ec99b6a810ae1a9a753df991777d374212423bb075c408a98ed74',\n",
       " '305a8baaf726d7c9e695bff31d3a6a61445999a4732f0a3e6174dc9dcbe43931',\n",
       " '308084bdd358e0bd3dc7f2b409d6f34cc119bce30216f44667fc2be43ff31722',\n",
       " '309ba76b12ecb5ce28b99f3445b2b5dc54c0564c3c0e24c17e4c89a94a5d0535',\n",
       " '30f65741053db713b3f328d31d3234b6fedbe31df65c1a8ea29be28146cab789',\n",
       " '317832f90f02c5e916b2ac0f3bcb8da9928d8e400b747b2c68e544e56adacf6b',\n",
       " '319b6cb8b0d24b38db5e3c6fbb13b062e2766d9af5ff9bccb8f439ac0d870e52',\n",
       " '33618678c167c5e07be02c49d0c43bcd90493ba5d83110a631409a4d3ccc1e51',\n",
       " '337b6eed0726f07531cd467cd62b6676c31a8c9e716bdbc49433986c022252cf',\n",
       " '33a5b0ff232b425796ee6a9dd5b516ff9aad54ca723b4ec490bf5cd9b2e2a731',\n",
       " '33d0a9b24c25852ce35274b4b1777484ccd21f44dbe35491cc926e5948c1ce3e',\n",
       " '3441821ebea04face181c9e2f4d0d09727c764827ac51b9e7fbadbebabeab225',\n",
       " '3477024fd843e46097840360f9cdee24b76bf5c593ed27a9aee7a5728a06aa51',\n",
       " '34c9f4eb2af8b8f46b1d88b74bde16f4614cd08948c2f1d817eb629afc512e7a',\n",
       " '351771edfc5db5665ded8aa4940257276b6526663c76e3b60b92a52584d8943c',\n",
       " '353ab00e964f71aa720385223a9078b770b7e3efaf5be0f66e670981f68fe606',\n",
       " '356d9903d16074f152fe8f2f0ef555d9959c53264228eae7373cad5cf35d4e85',\n",
       " '3582166ee20755856adf4882a8bfacb616fce4247911605a109c4862de421bcd',\n",
       " '358e47eaa1e9222252793fe0fb8c77028d4e0d4360b95a07c9fe6df6a2066556',\n",
       " '3594684b9ea0e16196f498815508f8d364d55fea2933a2e782122b6f00375d04',\n",
       " '35ca5f142a7d7a3e4b59f1a767a31f87cb00d66348226bc64094ee3d1e46531c',\n",
       " '371a67232f7c871ec11332292c83cd9bb16063b91d58e86f0b76ef8817bc9465',\n",
       " '37ed50eea5a1e0bade3e6753793b6caeb061cd4c2f365658c257f69cab1f6288',\n",
       " '3852c7e45bd885b9537e276861ab50b99bb42f0f8e717d2f88174c62862ca3ff',\n",
       " '3874755f6222e83006fdad4d664ec0d9697c13af4fbe24b2f9a059bb13075186',\n",
       " '3934a094e8537841e973342c7f8880606f7a2712b14930340d6f6c2afe178c25',\n",
       " '3a22fe593d9606d4f137461dd6802fd3918f9fbf36f4a65292be69670365e2ca',\n",
       " '3a3fee427e6ef7dfd0d82681e2bcee2d054f80287aea7dfa3fa4447666f929b9',\n",
       " '3a508d2dc03db46e7f97a2a30eabb62ab2886f3cedfea303de8f6a42e50d20eb',\n",
       " '3ab9cab6212fabd723a2c5a1949c2ded19980398b56e6080978e796f45cbbc90',\n",
       " '3b0709483b1e86449cc355bb797e841117ba178c6ae1ed955384f4da6486aa20',\n",
       " '3b3f516ebc9a16cff287a5ffd3a1861a345a6d38bedbba74f1c0b0e0eac62afd',\n",
       " '3b75fc03a1d12b29bd2870eb1f6fdb44174dbd1118dfc11c31f127bd87bd27ef',\n",
       " '3b957237bc1e09740b58a414282393d3a91dde996b061e7061f4198fb03dab2e',\n",
       " '3bf7873f11823f4b64422f49c8248dd95c0d01f9ae9075ae3d233bbb21a3d875',\n",
       " '3bfa8b3b01fd24a28477f103063d17368a7398b27331e020f3a0ef59bf68c940',\n",
       " '3bfd6bb152310f93daa6f4e1867c10572946e874b3a30c9ba8e0fcdeb590300b',\n",
       " '3ca8181367fc1258a418f7bf5044533c83e02a59c1a96def043295c429c297a8',\n",
       " '3d0ca3498d97edebd28dbc7035eced40baa4af199af09cbb7251792accaa69fe',\n",
       " '3ebd2ab34ba86e515feb79ffdeb7fc303a074a98ba39949b905dbde3ff4b7ec0',\n",
       " '3f9fc8e63f87e8a56d3eaef7db26f1b6db874d19f12abd5a752821b78d47661e',\n",
       " '40946065f7e4b6038599fbfd419f2a67e7635b6f89db3ed6c0d67c8801521af1',\n",
       " '40b00d701695d8ea5d59f95ac39e18004040c96d17fbc1a539317c674eca084b',\n",
       " '40bcdad218ac5f0885fc247d88fcad9f729f55c81c79d241a8f1559b6d8c0574',\n",
       " '4185b9369fc8bdcc7e7c68f2129b9a7442237cd0f836a4b6d13ef64bf0ef572a',\n",
       " '4193474b2f1c72f735b13633b219d9cabdd43c21d9c2bb4dfc4809f104ba4c06',\n",
       " '420f43d21dbaba42bf8c0995b3a2c85537876d594433770c6c6f3d6b779ec15f',\n",
       " '4217e25defac94ff465157d53f5a24b8a14045b763d8606ec4a97d71d99ee381',\n",
       " '431b9b0c520a28375b5a0c18d0a5039dd62cbca7c4a0bcc25af3b763d4a81bec',\n",
       " '4327d27591871e9c8d317071a390d1b3dcedad05a9746175b005c41ea0d797b2',\n",
       " '43cf6b2ec0b0745ac2b87b4d8780f62e9050d3f5d50a1fcefa42d166191e84c6',\n",
       " '442c4eb0185698fe7d148c108a46f74abd399aecda2f4f22981a1671cd95dd7d',\n",
       " '449a9c32e53a37c8a86e01c199155c8da3958b631088e10f6fe43c2119defe51',\n",
       " '449f41710769584b5e4eca8ecb4c76d5272605f27da2949e6285de0860d2cbc0',\n",
       " '449fe932622db3b49366a260ddd20077219f96fb2dc0f912ad4f60b087876f3b',\n",
       " '44ab6a09eedee848b072ea3acd0f4e781f9c43b8d4e3d62598e1024584bf0b01',\n",
       " '4590d7d47f521df62f3bcb0bf74d1bca861d94ade614d8afc912d1009d607b94',\n",
       " '4596961c789d3b41916492918797724fe75128239fefc516c3ee75322b7926f0',\n",
       " '45c3bdef1819ba7029990e159f61543ed25781d13fb4dc5d4de52e803debd7d3',\n",
       " '45cc00f2ef95da6698bf590663e319d7c0ed4fb99d42dd3cf4060887da74fb81',\n",
       " '45f059cf21d85ecfce0eb93260516f1e2443d210e9a52f9ae2271d604aa3fcc5',\n",
       " '4829177d0b36abdd92c4ef0c7834cbc49f95232076bdd7e828f1f7cbb5ed80ec',\n",
       " '483b89aa683542f1c63e62f5f71ae8ae1f959caf1c379cd61230a71cd1036732',\n",
       " '4948e3dfe0483c2198b9616612071ead5474dffd223071cf0a567aea9aca0b9e',\n",
       " '49edc2f7715100fb0390916e52b3fd11a921f02e59509dc987f67840a36250fc',\n",
       " '4a424e0cb845cf6fd4d9fe62875552c7b89a4e0276cf16ebf46babe4656a794e',\n",
       " '4ae4f936a9ade472764dad80f60f7168e4be067aa66ce9d06d60ebe34951dca4',\n",
       " '4b274461c6d001a7a9aeaf5952b40ac4934d1be96b9c176edfd628a8f77e6df2',\n",
       " '4bf6a5ec42032bb8dbbb10d25fdc5211b2fe1ce44b6e577ef89dbda17697d819',\n",
       " '4c032609d377bd980e01f888e0b298600bf8af0e33c4271a1f3aaf76964dce06',\n",
       " '4c465a54e329ec7b0f4bc5f6acdfd3192707d6c0fbdf557339485581c5a6b3c1',\n",
       " '4ca5081854df7bbcaa4934fcf34318f82733a0f8c05b942c2265eea75419d62f',\n",
       " '4cbd6c37f3a55a538d759d440344c287cac66260d3047a83f429e63e7a0f7f20',\n",
       " '4d09672bcf5a2661eea00891bbb8191225a06619a849aece37ad10d9dedbde3e',\n",
       " '4d14a3629b6af6de86d850be236b833a7bfcbf6d8665fd73c6dc339e06c14607',\n",
       " '4d2cff9a0c8df3a7ef6100fda6f66e865a7670af6a18564767d8019b9ed2fd7b',\n",
       " '4d40de30a3db3bc4f241cb7f48e8497c11e8f20a99bf55788bdce17242029745',\n",
       " '4d4ebfcae4374165ea6ae7c7e18fd0ba5014c3c860ee2489c59e25ddd45e7a32',\n",
       " '4d4f254f3b8b4408d661df3735591554b2f6587ce1952928d619b48010d55467',\n",
       " '4dbbb275960ab9e4ec2c66c8d3000f7c70c8dce5112df591b95db84e25efa6e9',\n",
       " '4e07a653352b30bb95b60ebc6c57afbc7215716224af731c51ff8d430788cd40',\n",
       " '4e1c889de3764694d0dea41e5682fedb265eaf2cdbe72ff6c1f518747d709464',\n",
       " '4e23ecf65040f86420e0201134e538951acdeda84fbb274311f995682044dd64',\n",
       " '4e92129f4e8066d6f560d6022cd343a2245939aa49d8b06cddbd9bfc7e7eeb0e',\n",
       " '4ee5850b63549794eb3ecd3d5f5673164ac16936e36ecc3700da886e3b616149',\n",
       " '4ff152d76db095f75c664dd48e41e8c9953fd0e784535883916383165e28a08e',\n",
       " '50a7ea80dd73232a17f98b5c83f62ec89989e892fe25b79b36f99b3872a7d182',\n",
       " '514ccfc78cb55988a238d3ac9dc83460aa88382c95d56bcc0559962d9fe481ef',\n",
       " '516a0e20327d6dfcedcf57e3056115e4fb29cdf4cb349003bdfc75c9b7f5c2cf',\n",
       " '52a4ac5a875be7a6c886035d54fb63f5f397dc43508c4831898f6b2f8debc7f3',\n",
       " '52a6b8ae4c8e0a8a07a31b8e3f401d8811bf1942969c198e51dfcbd98520aa60',\n",
       " '538b7673d507014d83af238876e03617396b70fe27f525f8205a4a96900fbb8e',\n",
       " '53ad09e4348767bece0165884bf40c10b72ae18444e3f414a850442f02385efc',\n",
       " '5419302571113e9aa74c7c0a9575333ca539b871a16c86ee92b35170b4ddc52e',\n",
       " '54793624413c7d0e048173f7aeee85de3277f7e8d47c82e0a854fe43e879cd12',\n",
       " '547ef286ee5f4e5dce533e982e6992ada67b7d727fdd3cfa6576f24c631a7ae6',\n",
       " '5488e8df5440ee5161fdfae3aeccd2ee396636430065c90e3f1f73870a975991',\n",
       " '54cb3328e778d87f76062b0550e3bc190f46384acd8efbe58c297265d1906e84',\n",
       " '54fe2d3416951cbc48f8718624c86a7ae58b6022a7fa75591b13f625cf53658b',\n",
       " '55f98f43c152aa0dc8bea513f8ba558cc57494b81ae4ee816977816e79629c50',\n",
       " '55ff2b0ec48b76e10c7ee18add5794005cd551697f96af865c763d50da78dd9c',\n",
       " '564fa390d9a9c26f986bf860d9091cbd84244bc1c8e3c9369f2f2e5b5fd99b92',\n",
       " '56d0da5b663ddd49955478c00ca03118c367ff7dd6a646b8c875b0acb207d1c5',\n",
       " '573a657d5e5fcb9574a758b0ab34b09c79d7ba374ceb71227c3dc88f009a3f6b',\n",
       " '573e1480b500c395f8d3f1800e1998bf553af0d3d43039333d33cf37d08f64e5',\n",
       " '57b49733c5a3c268b013553635a826e6a1b10e699bbd19c3b842375fe0adf344',\n",
       " '57bd029b19c1b382bef9db3ac14f13ea85e36a6053b92e46caedee95c05847ab',\n",
       " '57d88f45e479ce3821839b2706d667758c63ac769d76800d815c73d2507c1e42',\n",
       " '58406ed8ef944831c413c3424dc2b07e59aef13eb1ff16acbb3402b38b5de0bd',\n",
       " '589f86dee5b480a88dd4f77eeaffe2c4d70aefdf879a4096dde1fa4d41055b8f',\n",
       " '58c593bcb98386e7fd42a1d34e291db93477624b164e83ab2afa3caa90d1d921',\n",
       " '58cc121d37fb7f1b4a5252024d88415936781e540252b8f734faeedd29b682d5',\n",
       " '5908488d940e846cc121c768758da9b1bd5b9922417e20c9101a4e254fa98af8',\n",
       " '5953af5080d981b554529971903d8bee9871457a4361b51f04ba04f43793dd8f',\n",
       " '5afb7932e9c7328f4fb1d7a8166a3699d6cdc5192b93758a75e9956f1513c5a3',\n",
       " '5afcbfd0dd64392aa1e233b996d0bfb4354ee7119f30ae111c33d0fe4df11590',\n",
       " '5b0bde771bc67c505d1b59405cbcad0a2766ec3ee4e35852e959552c1b454233',\n",
       " '5b12df18e4ae4df5af06052584cf0e6bef58ee2a220653890636eef88a944e14',\n",
       " '5b2ccfb94dedf2ec8797c0404fc324888e35ab903c41bb26f070552033ca8e6c',\n",
       " '5ba4facefc949c920d7054813a3e846b000969da2ed860148bdfd18456f59bcc',\n",
       " '5bb8508ff8ec8683fc6a8aa6bd470f6feb3af4eccdca07f51a1ebc9dad67cfb8',\n",
       " '5bda829acd824821bc1f3f6573cf065d364653d5322f033a4af943f7a6170566',\n",
       " '5c235b945b25b9905b9b0429ce59f1db51d0d0c7d48c2c21ab9f3ca54b0715e6',\n",
       " '5c6eb9a47852754d4e45eceb9a696c64c7cfe304afc5ea491cdfef11d55c17f3',\n",
       " '5cc036b65f7f2d5480e2be111a561f3713ac021683a9a9138dc49492a29ce856',\n",
       " '5d21acedb3015c1208b31778561f8b1079cca7487399300390c3947f691e3974',\n",
       " '5d2c98fd6fda3c7d739461c3b3d4a0c7f8456121a14519dc5955a1775227b053',\n",
       " '5d58600efa0c2667ec85595bf456a54e2bd6e6e9a5c0dff42d807bc9fe2b822e',\n",
       " '5d75a63972ef643efd7c42f20668b167f2af43635d6263962d84e62e7609ab51',\n",
       " '5ddbfba2519484316e4b7ccabfa605e6e6fd96c3d87ac8cdfd2c134571a15311',\n",
       " '5e263abff938acba1c0cff698261c7c00c23d7376e3ceacc3d5d4a655216b16d',\n",
       " '5ef4442e5b8b0b4cf824b61be4050dfd793d846e0a6800afa4425a2f66e91456',\n",
       " '5f9d29d6388c700f35a3c29fa1b1ce0c1cba6667d05fdb70bd1e89004dcf71ed',\n",
       " '602f267432e7a573e1092f1cf48135c82d0fbc8722bc028b9330ec801a40bb18',\n",
       " '6034456567632f4b48dc3dfbb98534b5953c151990f4235df6c912c0a9c08397',\n",
       " '608ff81c8a0c8b622f6648a9c7f935d85f0c503f515ef2ac3728387be1953ee8',\n",
       " '60cb718759bff13f81c4055a7679e81326f78b6a193a2d856546097c949b20ff',\n",
       " '610f32e2d9d270d740aec501dcf0c89595e4e623468ad43272adab90520a8f96',\n",
       " '615985773f1469fbc00915b3e82d1d4942051c09ddea2667e37ad361ed2e9d59',\n",
       " '619429303c1af7540916509fe7900cf483eba4391b06aac87ff7f66ca1ab6483',\n",
       " '61a15ccbfebb9d2fc54c068472a75d7babfb3f48fea008470e7db807585f9510',\n",
       " '61dc249314d7b965eb4561ec739eab9b0f60af55c97b25ced8cb2a42a0be128e',\n",
       " '62057502c387145ed4f8f7f0d5e5bedcb72d3bcec15fa71cb0310dee32871461',\n",
       " '623cf6987b3fac8f384c09f40d98c5e739c097aa9a9627054542aa27f7d38db1',\n",
       " '62570c4ff1c5ab6d9d383aba9f25e604768520b4266afd40fdf4734a694c8bc3',\n",
       " '63d981a107091e1e3059102ce08870744dde173afe324bc2274c17d42f661778',\n",
       " '648636ee314d7bdba3ab2fc0fe49a863de35c3e2caf619039f678df67b526868',\n",
       " '64eeef16fdc4e26523d27bfa71a1d38d2cb2e4fa116c0d0ea56b1322f806f0b9',\n",
       " '65c8527c16a016191118e8adc3d307fe3a73d37cbe05597a95aebd75daf8d051',\n",
       " '66236902b874b7e4b3891db63a69f6d56f6edcec6aca7ba3c6871d73e7b4c34f',\n",
       " '66612c188d73e931e1863af2c99d2af782c32f65fd97d224abb40bbadb87263f',\n",
       " '670ebd9d674be236b9bf0b28650ad3f68e1891b06e16a9021fd069ca7ef32b78',\n",
       " '673baf65ae5c571d6be452eb41e79ef3fc2eb3fd238e621c6b7621763b429989',\n",
       " '68f833de9f8c631cedd7031b8ed9b908c42cbbc1e14254722728a8b7d596fd4c',\n",
       " '693bc64581275f04fc456da74f031d583733360a1f6032fa38b3fbf592ff4352',\n",
       " '6aa7dd0c88bec4f96cdd497f9c37779733033d9ec6513307461302d36bd32ac7',\n",
       " '6ab24e7e1f6c9fdd371c5edae1bbb20abeeb976811f8ab2375880b4483860f4d',\n",
       " '6af82abb29539000be4696884fc822d3cafcb2105906dc7582c92dccad8948c5',\n",
       " '6b0ac2ab04c09dced54058ec504a4947f8ecd5727dfca7e0b3f69de71d0d31c7',\n",
       " '6b61ab2e3ff0e2c7a55fd71e290b51e142555cf82bc7574fc27326735e8acbd1',\n",
       " '6b6d4e6ff52de473a4b6f8bd0f11ae22242d508cc4117ff38ec39cbb88088aaa',\n",
       " '6b72b61b80060a9e79a4747f9c5d5af135af9db466681c2d1086f784c7130699',\n",
       " '6bc8cda54f5b66a2a27d962ac219f8075bf7cc43b87ba0c9e776404370429e80',\n",
       " '6bd18a218d25247dc456aed124c066a6397fb93086e860e4d04014bfa9c9555d',\n",
       " '6bd330234b763b77796d4804de8e224881c0fc8dd02650fa708b2edfd8c7461f',\n",
       " '6c67b78e8164801059375ed9a607f61e67a7ae347e92e36a7f20514224541d56',\n",
       " '6c85029f850d392791e13f74963391054ff54e508967bbd091ee510e9e58e011',\n",
       " '6d327ab4f0e3604fa6e9b8041c7e6db86ab809890d886c691f6e59c9168b7fbe',\n",
       " '6eefe1f0d9c2d2c2380db3ecd2113a566ace7dfc917687bb5033b4af5b8293aa',\n",
       " '6f8197baf738986a1ec3b6ba92b567863d897a739376b7cec5599ad6cecafdfc',\n",
       " '6fb82031f7fc5f4fa6e0bc2ef3421db19036b5c2cdd2725009ab465d66d61d72',\n",
       " '6fc83b33896f58a4a067d8fdcf51f15d4ae9be05d8c3815d23336f1f2a8c45a1',\n",
       " '6fe2df6de1d962b90146c822bcefc84d0d3d6926fdfbacd3acdc9de830ee5622',\n",
       " '700afb1cd830a808e3c6125749612e5d23fd9f9726049a9e0c2061997514e1a7',\n",
       " '70827e40a7155391984e56703c6df3392fb4a94bbd6c7008da6a6ca3244965d9',\n",
       " '708eb41a3fc8f2b6cd1f529cdf38dc4ad5d5f00ad30bdcba92884f37ff78d614',\n",
       " '709e094e39629a9ca21e187f007b331074694e443db40289447c1111f7e267e7',\n",
       " '718751b439c05bdd589f04fcef321a86be3ecb35292a435138e295e05eb2e771',\n",
       " '724b6b7044522f6d5ea35b55f8fa71d0a45a28687be2b7cac3149943ab816eec',\n",
       " '72b18a405555ad491721e29454e5cd325055ce81a9e78524b56f2c058a4d2327',\n",
       " '72e8c49dea44787114fd191f9e97e260f961c6e7ae4715bc95cc91db8d91a4e3',\n",
       " '74a7785530687a11ecd073e772f90912d9967d02407a192bfab282c35f55ab94',\n",
       " '75120baa6abcbfe750a4eb223b8c10ae6bc3bebdda7b00d9a78bc2472fa28625',\n",
       " '751f421d322940d6efe3bd570a66ecda16d08a1b90bc32a6d7ae1af89856fd49',\n",
       " '76a372bfd3fad3ea30cb163b560e52607a8281f5b042484c3a0fc6d0aa5a7450',\n",
       " '76c44d1addac92a65f1331f2d93f4e3b130bd4e538a6e5239c3ac1f4c403608a',\n",
       " '76c4f14e35210f87a29e93c46dbb25c8f5dc5c04d1d3134672708bcdfbc7e959',\n",
       " '76faaed50ed6ea6814ac36199964b86fb09ba7f41a6f213bceaa80d625adc2e1',\n",
       " '7773ac91af61ed041701b7c3b649598e3707cf04c0577f464fd31be687f538fe',\n",
       " '777f7c4269279951ae05b56e806745e613297d411d048c0bce8964afd7d71a4b',\n",
       " '7798ca1ddb3133563e290c36228bc8f8f3c9f224e096f442ef0653856662d121',\n",
       " '77ceeb87f560775ac150b8b9b09684ed3e806d0af6f26cce8f10c5fc280f5df2',\n",
       " '785555c0cbb49dad835635217085287a8cc61c27d26f0e106b70c1dfd05784dc',\n",
       " '7978812d0e2e034ee1f9c141f019705582fcaa290e4a01c6c75a62753285cb23',\n",
       " '797945873ca2a95f028671714b71eb3f883efe9dae7fcd3fc0ea1521efb73aaa',\n",
       " '79dfcbc9361edd3a1ffe81a5bdaa22a197ad1341f3fa64b86a646c2607d6b324',\n",
       " '79fe419488ba98494e3baa35c6fef9662eda1efe325d0ab0ac002f5383245d96',\n",
       " '7aa1aaa5e032a980f434c8ed63efb57ab0d338d6154c47f7bb75afdc89f43c04',\n",
       " '7aae06bc4558829473071defec0b7ab3bfa9c5005548a13da95596bb6a66d105',\n",
       " '7ac468eb217b7058d22c1711285d21949b4121bf3fa3217e3e51453666ebecff',\n",
       " '7af09f98ec299ba0658d759eebc4c34e1c98289ea6ce37f233e9f5e4e2fc84f4',\n",
       " '7b38c9173ebe69b4c6ba7e703c0c27f39305d9b2910f46405993d2ea7a963b80',\n",
       " '7b5987a24dd57325e82812371b3f4df7edc528e0526754ba94cf3a1ea4df25d2',\n",
       " '7ba20aa731cc21af74a8d940254176cbad1bdc44f240b550341c6d9c27509daa',\n",
       " '7c0157913223365720209ac83ff2e0b1b2b460173acd615c67646014093a2b97',\n",
       " '7c318172e976ae5a962c9c7a4e9fe46d7fb985765ddd3a3e2108e893a90b92b2',\n",
       " '7d40ea6ead1bec903f26d9046d291aedcb12a584b4d3b337ea252b34c7d86072',\n",
       " '7f2b154541166210f468d89bb0a7184f10e51168a181dbb8b686c14654ffa317',\n",
       " '7f34dfccd1bc2e2466ee3d6f74ff05821a0e5404e9cf2c9568da26b59f7afda5',\n",
       " '7f38885521586fc6011bef1314a9fb2aa1e4935bd581b2991e1d963395eab770',\n",
       " '7f4d7b549d0f1a110191e2aded872943d85892bc30667f19fe9de97a5370b08e',\n",
       " '7f55678298adb736987d9fb5d1d2daefb08fe5bf4d81b2380bedf9449f79cc38',\n",
       " '8055957570d7b38f0acecdb56f3078a963a1a7307ca03fcca62212e0e95e5845',\n",
       " '80632d6be60c8462e50d51bcf5caf15308931603095d6b5e772a115cd0d0470c',\n",
       " '813f41ef376c3cbcc9d6e2ce6a51c2ee068226d1c1b13404eb238dcfdd447c97',\n",
       " '815524d88283ba10ad597b87aa1967671db776df8004a0c4291b67fc2624c22a',\n",
       " '8175a55b711c948fe383bd3b91b6ca1b9e048a5241e0be13aff31ce2674fbe6d',\n",
       " '81e2dd950e6df28a4fe202a40afa98b202981f65a5ca05b389749290eb87c883',\n",
       " '831218e6a1a54b23d4be56c5799854e7eb978811b89215319dc138900bd563e6',\n",
       " '84e642d75ae6ece8147272418b6fe13d04db8d076fe306c4acedc329fceab564',\n",
       " '84eeec681987753029eb83ea5f3ff7e8b5697783cdb2035f2882d40c9a3f1029',\n",
       " '853a4c67900c411abd04467f7bc7813d3c58a5f565c8b0807e13c6e6dea21344',\n",
       " '866a8cba7bfe1ea73e383d6cf492e53752579140c8b833bb56839a55bf79d855',\n",
       " '86f9087eb1d0875ffb1a28cca7645b14d6c66f995c7d96aa13969d2f8115d533',\n",
       " '876423522bdec1602917b94163a21e05fc7b692045219b7bc96cdaf638c33c25',\n",
       " '87ea72894f6534b28e740cc34cf5c9eb75d0d8902687fce5fcc08a92e9f41386',\n",
       " '88678981648b184b23b6c04999f29210cbe351f85b61d2bf99e306fd67a2998a',\n",
       " '88d5a03f8ecd459f076a06e0d5035149193bfdd727c30905de19054dcb9018ae',\n",
       " '89be66f88612aae541f5843abcd9c015832b5d6c54a28103b3019f7f38df8a6d',\n",
       " '8a26b134fe9343c0c794513dae7787b7ac1debec3bb2a7096ab0b874a31d8175',\n",
       " '8a65e41c630d85c0004ce1772ff66fbc87aca34cb165f695255b39343fcfc832',\n",
       " '8aa1a883f61f0bb5af3d3d60acaaf33af45ef4fbffaac15ae838bc1ce37b6fbf',\n",
       " '8b12e18670e4b24d03567d1e17c0c24fadf0ea2c1e763983dd6bb4c44b7376a6',\n",
       " '8b77284d6f37ab3fc826139ebadaec3b9d81c552fe525c3547bbbd6c65ac0d83',\n",
       " '8bef203fce625e4d8c89dca728158be4662dfdfdcd4dc73a6aa39a908c1631bc',\n",
       " '8c3ef7aa7ed29b62a65b1c394d2b4a24aa3da25aebfdf3d29dbfc8ad1b08e95a',\n",
       " '8cdbdda8b3a64c97409c0160bcfb06eb8e876cedc3691aa63ca16dbafae6f948',\n",
       " '8d05fb18ee0cda107d56735cafa6197a31884e0a5092dc6d41760fb92ae23ab4',\n",
       " '8d29c5a03e0560c8f9338e8eb7bccf47930149c8173f9ba4b9279fb87d86cf6d',\n",
       " '8d9b4205ddb10fa49a2973b4f3a2dc6923407ae015081e1a52c4b4c2fe8faa53',\n",
       " '8de0b1a2e8f614af29fe5fafeaa5bdf55e6b3e65edf36355f19b707f7649ce2b',\n",
       " '8e507d58f4c27cd2a82bee79fe27b069befd62a46fdaed20970a95a2ba819c7b',\n",
       " '8e8a7a14749d0b2e48de3d10e2e80063f17b165ad921c8afc0623f08500f3259',\n",
       " '8ecdb93582b2d5270457b36651b62776256ade3aaa2d7432ae65c14f07432d49',\n",
       " '8efed2e62c919e6d70a2ab548b1a33014877fe8a23f177ef25a9dee25ffe8842',\n",
       " '8f27ebc74164eddfe989a98a754dcf5a9c85ef599a1321de24bcf097df1814ca',\n",
       " '8f6597cd978c060378177df76e554d0578b97eab471e237dbe0adc0dd0d93d63',\n",
       " '8f6e49e474ebb649a1e99662243d51a46cc9ba0c9c8f1efe2e2b662a81b48de1',\n",
       " '8f94a80b95a881d0efdec36affc915dca9609f4cba8134c4a91b219d418778aa',\n",
       " '8fdc34509a0c3721f7b5e235c8a93e1f553343aa17ad103a1e89e3509a3e1570',\n",
       " '91cc2e0d4d6e2c1ad59a8d63bcbe3e2ea8bc7f8e642e942a0113450181e73379',\n",
       " '92e7e86e765e05ce331c07a6d14f0a696eac7ee40058699243900f40b696d7aa',\n",
       " '92f31f591929a30e4309ab75185c96ff4314ce0a7ead2ed2c2171897ad1da0c7',\n",
       " '930f246a8e4ff273a72a6e4b3cf8e8caff94fca4eaf1dbe6f93ba37b8195c0a0',\n",
       " '93c5638e7e6433b5c9cc87c152bcbe28873d2f9d6a392cca0642520807542a77',\n",
       " '93cfd412c7de5210bbd262ec3a602cfea65072e9272e9fce9b5339a5b9436eb7',\n",
       " '942d56861fc83e195e9c559a000bb86627d8682f8dcc2300818458e5b6850dd0',\n",
       " '94519eb45cbe1573252623b7ea06a8b43c19c930f5c9b685edb639d0db719ab0',\n",
       " '947c0d94c8213ac7aaa41c4efc95d854246550298259cf1bb489654d0e969050',\n",
       " '94a5a37c3b1153d5c5aef2eca53c960b9f21f2ef1758209d7ec502ec324b03a3',\n",
       " '9520aff4efe87bd8f3901652fa2dde9b4bc9c679325966145ce00c1ca33f35de',\n",
       " '953211bcc0192e2298087d30e708dba68def9e0c13a3ff3326a18b0962c63adc',\n",
       " '958114e5f37d5e1420b410bd716753b3e874b175f2b6958ebf1ec2bdf776e41f',\n",
       " '9586e48a9a4353f11898a6a4b7475a91574e8af82e99c4b7a5e1f1b18f345f7a',\n",
       " '9620c33d8ef2772dbc5bd152429f507bd7fafb27e12109003292b671e556b089',\n",
       " '97126a9791f0c1176e4563ad679a301dac27c59011f579e808bbd6e9f4cd1034',\n",
       " '97158b2fe38783d88d4e44ba1b7bc6c84f225f8b35fcccc2f9265c65f14e7c8b',\n",
       " '9774c82396327929fea05e40ae153cabf0107178b2ae3e40a5709b409793887e',\n",
       " '98a463483fe3a56deacc8bc00ab8aa62668bd40ad0c70bbe7deb10d3e4aeb0c0',\n",
       " '98c5ead89cd066637efd5c93a6edc55c85908eb66807471f0d246d5457341f9c',\n",
       " '9a71a416f98971aa14f63ef91242654cc9191a1414ce8bbd38066fe94559aa4f',\n",
       " '9b25b8ffd5f52b6c3d235a42d51d380503d1f80b61ef0f62eeb696f5977c38e6',\n",
       " '9bb6e39d5f4415bc7554842ee5d1280403a602f2ba56122b87f453a62d37c06e',\n",
       " '9bf9f3dcadeb152a9a26b23e2fb199dcf9b2b17660b1646326f5b10cbf51eaee',\n",
       " '9c95eae11da041189e84cda20bdfb75716a6594684de4b6ce12a9aaadbb874c9',\n",
       " '9cbc0700317361236a9fca2eb1f8f79e3a7da17b1970c179cf453921a6136001',\n",
       " '9cdac2870cfe65b6cb61bd151020068a3b427118a27343767b07ea39483fee32',\n",
       " '9d429167633b4d9d7f41544a461975cf8e688a3affa6a8916799202874809f2a',\n",
       " '9e4f8ec60a0d622a02c0e16eedcc0101f88ddefbcec2383946c4572b57a1e43a',\n",
       " '9ebcfaf2322932d464f15b5662cae4d669b2d785b8299556d73fffcae8365d32',\n",
       " '9f073db4acd7e634fd578af50d4e77218742f63a4d423a99808d6fd7cb0d3cdb',\n",
       " '9facc652efe19f634639585d692a53dd6c2a8e2f0c9baebdfd85b9b41ec58851',\n",
       " '9fb32aba1c2fd53273dca9abefac944ba747f578da82dfaa1249f332a2324944',\n",
       " 'a022908f1b7880838dbc0411e50828e64b4f5e0263afdf04295e30bb2ff58005',\n",
       " 'a02ec007ae8feddb758078b1dfb8010c26886fd3c8babdc308ead8b4a63acbdb',\n",
       " 'a0325cb7aa59e9c0a75e64ba26855d8032c46161aa4bca0c01bac5e4a836485e',\n",
       " 'a08166d91d2cca263d2dd52764dc25c9c582b7a5ece2b802749fa4be33187c49',\n",
       " 'a0afead3b4fe393f6a6159de040ecb2e66f8a89090abf0d0bf5b8e1d38ae667c',\n",
       " 'a0de55384fada5cbc46bd7a41f6feeef93b67d088497c7316079ccec39c2a834',\n",
       " 'a101a00fea63f0c43abe5323f4f890bec881eb0caa3bc8498991ff5fd207ed91',\n",
       " 'a102535b0e88374bea4a1cfd9ee7cb3822ff54f4ab2a9845d428ec22f9ee2288',\n",
       " 'a1777737270c5f96c4523dff76e4097756f8f7d4c9d59bac079e31f9510deabd',\n",
       " 'a1f50f101bc471e2d6967ebdb8ba81150588609e769f3b960f0801e4da5fdc6f',\n",
       " 'a22b7882fa85b9f0fcef659a7b82bfcddf01710f9a7617a9e036e84ac6901841',\n",
       " 'a246bcaa64af48ee5ca181cd594c0fc43466e7614406eb8bc01199a16ebc95d0',\n",
       " 'a31deaf0ac279d5f34fb2eca80cc2abce6ef30bd64e7aca40efe4b2ba8e9ad3d',\n",
       " 'a3a1b8f9794ef589b71faa9f35fd97ad6761c4488718fbcf766e95e31afa8606',\n",
       " 'a3a65623e079af7988b0c1cf1e54041003c6d730c91ecf200b71c47b93a67ed6',\n",
       " 'a486f6ed4b8781e7883e433d06a83dd66db3e8b36d45b9976c4214820ee22629',\n",
       " 'a4c44fc5f5bf213e2be6091ccaed49d8bf039d78f6fbd9c4d7b7428cfcb2eda4',\n",
       " 'a4c729efb5059893a8b62c7abeba171cb516836f8a20468f6b176dfe2f6f84d1',\n",
       " 'a5e695fce80dc03efb6665a9ec14500ab47f4ee9f6437531388dd3cc32c90db1',\n",
       " 'a5fe0b7412dd152c41f7afc34ffdf276d4261b6942fa6d36803648e90f2cfc06',\n",
       " 'a6001531274f9ad16e0ced40380f9667b9149558dea7053f7a7db18f5cd028c0',\n",
       " 'a6515d73077866808ad4cb837ecdac33612527b8a1041e82135e40fce2bb9380',\n",
       " 'a6593632dcbbe4c9e9429a9cec573d26fd8c91a47d554d315f25e7c2e0280ee3',\n",
       " 'a65bbfc5673e8053b6ce49f39c79cf3a846fe5cc46dd93105f74fb07cf44606d',\n",
       " 'a6e81120d1cb9f71f8a25f90a5d56c4b714a642fc496a705e38921fd90a3f69c',\n",
       " 'a7a581e6760df4701941670e73d72533e3b0fbd7563488ad92772b41f7709710',\n",
       " 'a7f6194ddbeaefb1da571226a97785d09ccafc5893ce3c77078d2040bccfcb77',\n",
       " 'a7f767ca9770b160f234780e172aeb35a50830ba10dc49c526f4712451abe1d2',\n",
       " 'a815a986800a95de0957116c6585deea8ffb6ee09ad00ccc687306937ac698d0',\n",
       " 'a891bbc89143bca7a717386144eb061ec2d599cba24681389bcb3a2fedb8ff8c',\n",
       " 'a90401357d50e1376354ae6e5f56a2e4dff3fdb5a4e8d50316673b2b8f1f293b',\n",
       " 'a90cad45551d62c5cfa89517df8eb5e8f2f87f1a6e6678e606907afcbad91731',\n",
       " 'a9d884ba0929dac87c2052ce5b15034163685317d7cff45c40b0f7bd9bd4d9e7',\n",
       " 'aa47f0b303b1d525b52452ae3a8553b2d61d719a28aee547e2ef1fc6730a078f',\n",
       " 'aa4d989d262c618ac2793579e200cc71b3767f84698ae5f669867f23cdfe2568',\n",
       " 'aa58ba4512955771b4f9b459cb4e6a8adb71d11cd6cae662ec2df31d688a5fe0',\n",
       " 'aa83f5b4fca02ae43a6b9456ab42707b0beabc6e7c5c4e66c0d2572fb80f3615',\n",
       " 'aaa52100fafaa50877e777229cdf6cde7c422f145ff6719449b80631d9a3b0f6',\n",
       " 'abbfff07379bceb69dba41dad8b0db5eb80cc8baf3d4af87b7ee20b0dac32215',\n",
       " 'abc781c8721fe04b877a7e324494eb75aa5bce94950a0e4e4d7d6ffc9e74da62',\n",
       " 'abd8dde78f8d37b68b28da67459371ed65f0a575523e94bc4ecbc88e6fedf0d0',\n",
       " 'ac782d2cad7f515ce7276926209820e386248e3d619b2df81e22d5e3c160b7cb',\n",
       " 'ac8169a0debed11560f3f0e246c05ea82d03c66346f1576cc8268554cb3f549f',\n",
       " 'ad473063dab4bf4f2461d9a99a9c0166d4871f156516d9e0a523484e7cf2258d',\n",
       " 'ad9d305cbf193d4250743ead466bdaefe910835d7e352c544e22320e8336f5c1',\n",
       " 'adc315bd40d699fd4e4effbcce81cd7162851007f485d754ad3b0472f73a86df',\n",
       " 'ae570a676961482848b5097038ef5e407df7a66a8e1c9b0567da599565a6b142',\n",
       " 'ae9f76b5360df3f60f3cdd389652b96e823080bb830dd8c79e7f1e597d51bc1c',\n",
       " 'af576e8ec3a8d0b57eb6a311299e9e4fd2047970d3dd9d6f52e54ea6a91109da',\n",
       " 'af6b6173c59450bc76b2cc461cf233921fbfdb6feb8dd6da03a0d44193221fd0',\n",
       " 'af8621ef0db8c26b0bce6385bd5609b584bfd678fcf7a234b8a15e6bb05c15ac',\n",
       " 'afa272dc01825d4b929b3bfc79a10f68dd3c163c450d858b964d1ce0bc93e131',\n",
       " 'b0d6dfcc95e4d087d232378f860fc3ef9f95ea5a4c26d623a0be091f820a793f',\n",
       " 'b0defa611b75645c0283464ee4163917bad382d335b61e8509f065bf371fa15f',\n",
       " 'b0e35e06b85da49bfe3ea737711a72b551a6add446e30eabb01aa683a79873c5',\n",
       " 'b1a239838c7dbb34ffea851ad537899f24da62f4e3f3fd6d835ff7b922f27313',\n",
       " 'b1e3aeb0c56261c17eb71c747d116057b8da7e8c8a6845bdc01b2b3ee2299229',\n",
       " 'b1eb0123fe2d8c825694b193efb7b923d95effac9558ee4eaf3116374c2c94fe',\n",
       " 'b1f23c4d27afed8af7b6b64793a3760bfea31b65f582d48aaa62d2b988ef2eac',\n",
       " 'b214800de5ed4cc558f44d569495970f93c8c047f8e464c51d4bd5c276118423',\n",
       " 'b24ea5c268469a95ed155eeaf809e36030b78a2eb530a0cb2380cdc1ccdb7dd1',\n",
       " 'b2c23ddb04531158da6a0abcaca78fec0ae5c6f64f60166e4f36f4a161efd76f',\n",
       " 'b2c5d8653c621207e97b699e5c4c05d13df4f02d9db3e594b1f0c22e5b746aae',\n",
       " 'b3a9f4c9035a0df7e033b18c63bfb0f0d87ff5a4d9aa8bdf417159bb733abb80',\n",
       " 'b3b1626f8ad156acb2963d1faa6a368f9378a266c3b90d9321087fdc5b3032b4',\n",
       " 'b3bfd873fca7ff9b2e90f507dfdbe165bb8c153399b6ba5829aa59bae677a91d',\n",
       " 'b4d902d42c93dea77b541456f8d905f35eeb24fc3a5b0b15b5678d78e0aabe0c',\n",
       " 'b4de1e3eec159d8af1bd5447696f8996c31709edaf33e26ba9613816705847db',\n",
       " 'b560dba92fbf2af785739efced50d5866c86dc4dada9be3832138bef4c3524d2',\n",
       " 'b61d3fb0d0ebbee018346e0adeff9e9178f33aa95262779b3c196f93b4ace895',\n",
       " 'b67a6e5da8b1cfa5319d94a7d3f8b706725753346c37a4636bf7382e98b3c5df',\n",
       " 'b6c9b58de0388891221b8f7a83cbf0b8f8379b51b5c9a127bf43a4fc49f1cc48',\n",
       " 'b6d50fa22380ae3a7e8c52c5bc44a254e7b2596fd8927980dbe2c160cb5689b5',\n",
       " 'b6edad733399c83c8eb7a59c0d37b54e10cc0d59894e39ff843884d84f61dee1',\n",
       " 'b76ff33ae9da28f9cd8bdce465d45f1eca399db3ffa83847535708e0d511fe38',\n",
       " 'b7a86f4968071e0f963fa87ef314fdd1b6c73a66355431cc53a37e193ba6be9b',\n",
       " 'b82548ab19466b461614e6055aaf49fbc24c03a2d20e65575b680c7c28268807',\n",
       " 'b8fdc02d915206bb2564e1f7da962f2b9d9d491b11afa00a76622b7932366480',\n",
       " 'b909aa8f6f4bec37c3fb6ff5a85d166162d07983506fcc57be742b0f9dbafbf7',\n",
       " 'b98681c74842c4058bd2f88b06063731c26a90da083b1ef348e0ec734c58752b',\n",
       " 'ba3997edd3fcb2f823ecdf870d2b607f08bff848f72a5cf72340bae5aca7c5ce',\n",
       " 'bb481eae02085bbae08742f702b9ab7d8b2ff9df2fbefeee9fac51f7c77dd01f',\n",
       " 'bb61fc17daf8bdd4e16fdcf50137a8d7762bec486ede9249d92e511fcb693676',\n",
       " 'bb8ebf465c968a5f6f715de5d9e2e664afd1bcaa533e0e3352ecea1cc5b6fb0d',\n",
       " 'bbce7ebc40323a0eff6574d0c3842f50f907f55fbfb46c777f0ed9a49e98ff9b',\n",
       " 'bbfc4aab5645637680fa0ef00925eea733b93099f1944c0aea09b78af1d4eef2',\n",
       " 'bc115ff727e997a88f7cfe4ce817745731a6c753cb9fab6a36e7e66b415a1d3d',\n",
       " 'bde3727f3a9e8b2b58f383ebc762b2157eb50cdbff23e69b025418b43967556b',\n",
       " 'be1916d0e5592c17f971315b5de720ef6894173087399daed94a52ef109c1572',\n",
       " 'be26966900aa0e5b41d5a8ecafe04281b37deb05c5cd027968d7b74143398174',\n",
       " 'be771d6831e3f8f1af4696bc08a582f163735db5baf9906e4729acc6a05e1187',\n",
       " 'bf4a61bb81589c9a67e3343408befd3e135af5e88b50c17f998f2131d24bc271',\n",
       " 'bf566e75d5cb0196de4139573f8bbbda0fa38d5048edf7267fe8793dcc094a66',\n",
       " 'bf7691b0a79811fa068b7408cbce636a73f01ef9e971a95da1a2d96df73782b6',\n",
       " 'bfe8ef193a68a0a86a5e4ae1ddc27bda3f9ffe170494395be4030ba72737c565',\n",
       " 'bff985591dd5d6303018a6e9a3dcfb336771a414ad4605c24ce1c1155fc86a96',\n",
       " 'c00ae67f72816daee468474026e30705003b2d3501f123579a4f0a6366b66aa1',\n",
       " 'c0152b1a260e71f9823d17f4fbb4bf7020d5dce62b4a12b3099c1c8e52a1c43a',\n",
       " 'c043d5ac9dd466052e53491d0d513b0684f493d320b820f6dc2e05330ce58ec3',\n",
       " 'c04fa1a74a980d790ba6f3e595fd9851f14370bb71c7cbb7846c33ca9d72687f',\n",
       " 'c0c4a829c8d33d16a02f5dc0411597329f4b4d726ed6a22b5530cf6c8e106c4e',\n",
       " 'c0f172831b8017c769ff0e80f85b096ac939e79de3d524e0826fbb95221365da',\n",
       " 'c15c652c08153fb781a5349123ab8f80bb2a8680a41eb8e89e547ae01b7a5441',\n",
       " 'c169a7782a69ea2f38f64d2739de189e88adbcfd4a829721def8c89ecabe8b71',\n",
       " 'c1afe66cd139f996fd984f5f2622903730ec2f1192d90608154f07f7ef6cdb4b',\n",
       " 'c2a646a819f59a4e816e0ee8ea00ba10d5de9ac20b5a435c41192637790dabee',\n",
       " 'c304a1fdf3bca2f4b4580d2cac59942e2224a7678001bf5ed9d9852f57708932',\n",
       " 'c322c72b9d411e631580fee9312885088b4bb14ed297aa4b246ec943533b3ffb',\n",
       " 'c35e6e3ea39a718e1b7aff66e4cc678efd662f9b5336b74d69c1d6bca7aaf288',\n",
       " 'c395870ad9f5a3ae651b50efab9b20c3e6b9aea15d4c731eb34c0cf9e3800a72',\n",
       " 'c3bec1066aae20f48b82975e7e8b684cd67635a8baf211e4d9e3e13bc54c5d06',\n",
       " 'c44ed955eb2e5c8d820b01477e122b32eff6dd475343e11229c33d8af3473b22',\n",
       " 'c53326fe49fc26b7fe602b9d8c0c2da2cb157690b44c2b9351a93f8d9bd8043d',\n",
       " 'c620631271a56407d6d69fa1a69451ca99c50dcc30e29db04cf6fb7cacbde8cb',\n",
       " 'c6216cdc42f61bc345434986db42e2ef9b9741aee3210b7a808e952e319d2305',\n",
       " 'c6de542205b891eed5c40e6d8ae3d03a6ca39b26dc445b4dbc64340d4d64dd2d',\n",
       " 'c75139ef0546d2240b37afb3219eb74a06b7977818697d5c3138796472483af3',\n",
       " 'c7d546766518703580f63d5d8f11d54971044753f53c0b257d19c2f99d4bfdd0',\n",
       " 'c89ac06daef5c819309f03d6a35792d1a8a66abb8cb3414013ffe71d3dd9fe96',\n",
       " 'c8ca945abc29d262a5525e4c2585541bba33fa77c86a47c94575d8e5b54c83fb',\n",
       " 'c901794d1a421d52e5734500c0a2a8ca84651fb93b19cec2f411855e70cae339',\n",
       " 'c96109cbebcf206f20035cbde414e43872074eee8d839ba214feed9cd36277a1',\n",
       " 'c9f305be17312bdb9530fb4f1adc6d29730ddbe0e74730cbf031de174bf437b7',\n",
       " 'cab4875269f44a701c5e58190a1d2f6fcb577ea79d842522dcab20ccb39b7ad2',\n",
       " 'cb4df20a83b2f38b394c67f1d9d4aef29f9794d5345da3576318374ec3a11490',\n",
       " 'cbca32daaae36a872a11da4eaff65d1068ff3f154eedc9d3fc0c214a4e5d32bd',\n",
       " 'cbff60361ded0570e5d50429a1aa51d81471819bc9b38359f03cfef76de0038c',\n",
       " 'cc88627344305b9a9b07f8bd042cb074c7a834c13de67ff4b24914ac68f07f6e',\n",
       " 'cdab367b30db47061df837c1ae9fa875d6057614f797332d37d3513517d6c694',\n",
       " 'ce37f6dd0615d45e66e41a8f2ed6fbc0bbe3103a290394ad474207507710eacc',\n",
       " 'ce88df7356d9d4a8d5944a93768f4c4b593de2d35616f7448c2b37b9fd60dd1f',\n",
       " 'ce9e1a58b58940039ae841466198b72ea21cc90584039a9294b47f5aef17ddfa',\n",
       " 'cf26c41245febfe67c2a1682cc4ee8752ee40ae3e49610314f45923b8bf5b08a',\n",
       " 'cfabf7379c5591d40aa4a20c86b4197c6a25ab55887a9fca4f06c2dfc0f0e973',\n",
       " 'd0f2a00d3155c243048bc48944aef93fb08e2258d1fa5f9ccadd9140082bc22f',\n",
       " 'd1b173875e2261f55014bd27bd7174b9ae1c769338c1b31b5d737e9e60175993',\n",
       " 'd1ba6089cae2f90cb7275ece10ca393c25f60ea17e5c9c3cea2399d31fd41869',\n",
       " 'd1dbc6ee7c44a7027e935d040e496793186b884a1028d0e26284a206c6f5aff0',\n",
       " 'd256b32adda37f2301c9e46f34b7f9a36cce273256369ceb5dc2c73c3007e3c4',\n",
       " 'd2815f2f616d92be35c7e8dcfe592deec88516aef9ffc9b21257f52b7d6d0354',\n",
       " 'd2ce593bddf9998ce3b76328c0151d0ba4b644c293aca7f6254e521c448b305f',\n",
       " 'd32ea6d318626ca14a967d0c1ad3218aebfe636624a8d1173f5150dde8ff38cf',\n",
       " 'd35f25c8e3f7fca5232fc4d5e3faf14b025b20b3731af77fe971a5e2e9d69d28',\n",
       " 'd3ce382f190ee24729bd2e80684c11bef72bc9c733cdbbc19a17d2c1b2e775f7',\n",
       " 'd4d6c683f249d82518431603bf0206d05f2114ac871a99ffade0f5f61cf167e1',\n",
       " 'd4d88391bc399a3715440d4da9f8b7a973e010dc1edd9551df2e5a538685add5',\n",
       " 'd52958107d0b1f0288f50f346a833df3df485b92d5516cfcb536e73ab7adafd0',\n",
       " 'd6a880b1f6056f3086679de5c810e7af87cdf3bbbd0533a83e3681817fce40fc',\n",
       " 'd751ccb64fa767a65a966061218438bd1860695d96bbef11fdb2f0d3b8dedba8',\n",
       " 'd7d12a2acc47a94961aeb56fd56e8a0873016af75f5dd10915de9db8af8e4f5e',\n",
       " 'd7db360fabfce9828559a21f6bffff589ae868e0dc6101d7c1212de34a25e3cb',\n",
       " 'd7ec8003735996458b56ccb8ae34d080eb2a6adabef931323239632515b4b220',\n",
       " 'd7fc0d0a7339211f2433829c6553b762e2b9ef82cfe218d58ecae6643fa8e9c7',\n",
       " 'd827a7d80fc67487a3237135e0d43ae01b7bbcb135e1a167601fc974a8348c51',\n",
       " 'd8607b21411c9c8ab532faaeba15f8818a92025897950f94ee4da4f74f53660a',\n",
       " 'd910b2b1be8406caecfe31a503d412ffc4e3d488286242ebc7381836121dd4ef',\n",
       " 'da31f2aa8601afec5c45180a2c448cb9c4a8ec7b35e75190d6ba3588f69058c8',\n",
       " 'da5f98f2b8a64eee735a398de48ed42cd31bf17a6063db46a9e0783ac13cd844',\n",
       " 'da79a2b105f055ce75404a04bf53bbb51d518d9381af7b4ac714c137f101d920',\n",
       " 'da8ca06ccbb4e2a8718f7c2939ef6cc3a4088981f660842ad885a8273e740d55',\n",
       " 'dabfee30b46d23569c63fa7253ef10b2407fbe8023035a5030252313cb718097',\n",
       " 'dad607a203483439fcbc2acecd0a39fb5e5a94a32a94348f5c802c79cfeb6e7c',\n",
       " 'dae976f161fe42dc58dee87d4bf2eb9f65736597cab0114138641b2a39a5c42b',\n",
       " 'db45946a4412a2137674ec075b6892ccd682b77826aba618210569bbc65cf2b0',\n",
       " 'dbbfe08a52688d0ac8de9161cbb17cb201e3991aacab8ab8a77fe0e203a69481',\n",
       " 'dbe5ad05b6f87018159a3228c1d1725892a1bfb9fa9f8fcc2e8bfe70d69d0355',\n",
       " 'dd54adb80393de7769b9853c0aa2ee9b240905d0e99c59d4ccd99401f327aa05',\n",
       " 'ddf1bf458312de2895dd9cc5ce7ec9d334ad54c35edc96ad6001d20b1d8588d8',\n",
       " 'dec1764c00e8b3c4bf1fc7a2fda341279218ff894186b0c2664128348683c757',\n",
       " 'df33b11184427e05c8a450f921586685975fe975f57315e686a0f26fddb93db1',\n",
       " 'df53d0b6c2c4e45d759b2c474011e2b2b32552cd100ca4b22388ab9ca1750ee2',\n",
       " 'df5cdd0ebe1bdf8dc870bc294b8f08961e083bc7f9be69e268454aa9091808b9',\n",
       " 'df9a4212ecb67bb4e58eba62f293b91f9d6f1dde73e38fa891c75661d419fc97',\n",
       " 'e1bcb583985325d0ef5f3ef52957d0371c96d4af767b13e48102bca9d5351a9b',\n",
       " 'e216ec5063d3562b793e434c491051bd8867f6c2e571e41137c7c560cc0e6a03',\n",
       " 'e23e11414ee645b51081fb202d38b793f0c8ef2940f8228ded384899d21b02c2',\n",
       " 'e2d22d3d283915df8350d039278e314a23e6e8f2b41bdfc16df849e22dd13b36',\n",
       " 'e321cfa987e77c21373a0f8b1236c83d6636306949a82a7f5b07fc0838e7777f',\n",
       " 'e414b54f2036bcab61b9c0a966f65adf4b169097c13c740e03d6292ac076258c',\n",
       " 'e4537e7893e631f3ba6ae5b1023e24b233c78249a31c2f5e561f6c4cad88fcf6',\n",
       " 'e49fc2b4f1f39d481a6525225ab3f688be5c87f56884456ad54c953315efae83',\n",
       " 'e4ae1ceddb279bac30273ca7ac480025ce2e7287328f5272234b5bbca6d13135',\n",
       " 'e4fc936ba57a936aaa5941ccc70946ab18fcebcb6e8d85a097c584aff9ca4d88',\n",
       " 'e50ac10d1dce6496d092d966784ed3795969128ca0bc58199a36d558ed529203',\n",
       " 'e52960d31f8bddf85400259beb4521383f5ceface1080be3429f2f926cc9b5c2',\n",
       " 'e5384c905e9879cb6e8ff5250fb03155bc1db035d8dde458eece9078b7de8ff1',\n",
       " 'e5a6c5e01e6a4ef676a2d975374e995dd55792ea317a8e110bebc37da83a4ce8',\n",
       " 'e5a7b8a9924b26b3abf039255a8a3bb00258f4966f68ff3349560b4350af9367',\n",
       " 'e5aeb5b3577abbebe8982b5dd7d22c4257250ad3000661a42f38bf9248d291fd',\n",
       " 'e5f8ad0f0a43af8ca57e31e16800108abdfb44a7e962a71d246f72d2dbde42bf',\n",
       " 'e66a97b2c77f3d66a7d3cebbc6a36c8c6259368a397f7b67647ed80ad53aa776',\n",
       " 'e66f25e175abab08ecb4e5f6859db64a211e0ddffb262d7e727b9d9bd4aad2d2',\n",
       " 'e7a3a7c99483c243742b6cfa74e81cd48f126dcef004016ad0151df6c16a6243',\n",
       " 'e81c758e1ca177b0942ecad62cf8d321ffc315376135bcbed3df932a6e5b40c0',\n",
       " 'e856511ac1c34d24320eb7c56c05a4a3340d06667b4f5b8e8df615d415c7f650',\n",
       " 'e9b8ad127f2163438b6236c74938f43d7b4863aaf39a16367f4af59bfd96597b',\n",
       " 'ea00f5a91ca75e745d675201cc62d7db266f8e2787033e15a7dd5f1cc5c0ad72',\n",
       " 'ea94ba4b01d1bd5f7768d10e0ac547743791033df545c71fcec442d0cb5cb5e7',\n",
       " 'ead9464a50a17f74bf1b6471d94ecce8d887cf518c8fedc6c6048eb948bc4e49',\n",
       " 'eb1df8ed879d04b36980b0958a0e8fc446ad08c0bdcf3b5f42e3db023187c7e5',\n",
       " 'eb96fc6cbf6880bf05c4309857ae33844a4bc2152e228eff31024e5265cf9fc3',\n",
       " 'ebc18868864ad075548cc1784f4f9a237bb98335f9645ee727dac8332a3e3716',\n",
       " 'ec031f176dafe0b36547068ce42eab39428ec7995dac1b3ea52d1db79b61fdeb',\n",
       " 'ec486143ecfec847c22cd8cbc207d85312bcf38e61c9b9a805e0d12add62da8d',\n",
       " 'ecb36c90cdd20245d89173c106f3c6a2d124d07bdea0ae202fb1efa49b0cd169',\n",
       " 'ed4b8e0d756836be7acb2e2b7799c473b52424e3092a71d3c6d23558e500dc4c',\n",
       " 'ed5be4b63e9506ad64660dd92a098ffcc0325195298c13c815a73773f1efc279',\n",
       " 'ed8c31b001a0c23c33402f94a5ee6b0209e0c6419eb52d5d02255513e3a672fc',\n",
       " 'edd36ed822e7ed760ff73e0524df22aa5bf5c565efcdc6c39603239c0896e7a8',\n",
       " 'ee927e8255096971ddae1bd975cf80c4ad7c847c82d0b5f5dd2ddfe5407007ee',\n",
       " 'eeb142344e9de3250ab748f93940bf06be70d5078337680998468a134a101698',\n",
       " 'ef3ef194e5657fda708ecbd3eb6530286ed2ba23c88efb9f1715298975c73548',\n",
       " 'ef6634efb46567d87b811be786b18c4cd0e2cda23d79b65d6afe0d259ef3ade6',\n",
       " 'f01a9742c43a69f087700a43893f713878e537bae8e44f76b957f09519601ad6',\n",
       " 'f0a75e0322f11cead4219aa530673fe5eef67580fb6fccc254963c9fc6b58aa1',\n",
       " 'f0c9f135c62572f3669a75b2c735e4477dc77fac85e653426ee2b3bcfbed7aaf',\n",
       " 'f113626a04125d97b27f21b45a0ce9a686d73dee7b5dbc0725d49194ba0203bd',\n",
       " 'f20eb4592e7d3cf58d421a9c34832d33adcdcbd0e17b7bf009a013847608da27',\n",
       " 'f26f4c2c70c38fe12e00d5a814d5116691f2ca548908126923fd76ddd665ed24',\n",
       " 'f29fd9c52e04403cd2c7d43b6fe2479292e53b2f61969d25256d2d2aca7c6a81',\n",
       " 'f35ab34528e3e2d2589d24cbffc0e10024dfc474a68585d0b5feb7b05aa0067f',\n",
       " 'f43169e3d8b4f71e687945b9e72cbfdfe2e40e68842568e6a30c60d64c1378b6',\n",
       " 'f487cc82271cf84b4414552aa8b0a9d82d902451ebe8e8bc639d4121c1672ff7',\n",
       " 'f4b7c24baf69b8752c49d0eb5db4b7b5e1524945d48e54925bff401d5658045d',\n",
       " 'f4c4db3df4ff0de90f44b027fc2e28c16bf7e5c75ea75b0a9762bbb7ac86e7a3',\n",
       " 'f4faa3a409014db1865074c5f66a0255f71ae3faba03265da0b3b91f68e8a8f0',\n",
       " 'f534b43bf37ff946a310a0f08315d76c3fb3394681cf523acef7c0682240072a',\n",
       " 'f67e72b7fe0b1e3648ea745ffd395c80705c89b0c0c48227991fe6f5815b2a18',\n",
       " 'f6863b83d75e5927b30e2e326405b588293283c25aaef2251b30c343296b9cb1',\n",
       " 'f6b16c885c0b2bc0d0eb2bb2eeb0a2753ebafb5a7a91da10e89b0b0478984637',\n",
       " 'f6cb37ebf29c225284c8415962f7287abe7007fae8fe3d8a3899b608b832d7d5',\n",
       " 'f728de04267283f0b4daab9a840e7433b2c6034baf195fd526850439c9297687',\n",
       " 'f73e37957c74f554be132986f38b6f1d75339f636dfe2b681a0cf3f88d2733af',\n",
       " 'f7e5dcfc9c93183c668c5a4ab028d5faad54fb54298711f2caae0508aa978300',\n",
       " 'f7eaaf420b5204c4a42577428b7cd897a53ef07b759ccbba3ed30a3548ca5605',\n",
       " 'f81ca7ee25e733ff37240c34c8e3044d9937bb0166e315952ebde3f237ecb86f',\n",
       " 'f8e74d4006dd68c1dbe68df7be905835e00d8ba4916f3b18884509a15fdc0b55',\n",
       " 'f93ec5e683d81005ffc2a84a1c0299b2406ad14b764b824e013f7ca3a13833b5',\n",
       " 'f952cc65376009cfad8249e53b9b2c0daaa3553e897096337d143c625c2df886',\n",
       " 'f9ac03b0344ce8c48bc058448541f9211a1e5f4c94fdaf633dd534328d8610ab',\n",
       " 'f9ea1a1159c33f39bbe5f18bb278d961188b40508277eab7c0b4b91219b37b5d',\n",
       " 'fa73f24532b3667718ede7ac5c2e24ad7d3cae17b0a42ed17bbb81b15c28f4ae',\n",
       " 'fa751ff3a6332c95cb5cb1d28563553914295e9e7d35c4b6bd267241e8a0787c',\n",
       " 'fadeb0ab092833f27daaeb3e24223eb090f9536b83f68cde8f49df7c544f711b',\n",
       " 'fc22db33a2495f58f118bc182c0087e140df14ccb8dad51373e1a54381f683de',\n",
       " 'fc345dac2205deb169bd70197f07f053bada80b61ffa69fdfb490758323ead69',\n",
       " 'fc5452f612a0f972fe55cc677055ede662af6723b5c1615ad539b8a4bd279bdb',\n",
       " 'fc9269fb2e651cd4a32b65ae164f79b0a2ea823e0a83508c85d7985a6bed43cf',\n",
       " 'fd8065bcb1afdbed19e028465d5d00cd2ecadc4558de05c6fa28bea3c817aa22',\n",
       " 'fdda64c47361b0d1a146e5b7b48dc6b7de615ea80b31f01227a3b16469589528',\n",
       " 'fe80a2cf3c93dafad8c364fdd1646b0ba4db056cdb7bdb81474f957064812bba',\n",
       " 'fec226e45f49ab81ab71e0eaa1248ba09b56a328338dce93a43f4044eababed5',\n",
       " 'feffce59a1a3eb0a6a05992bb7423c39c7d52865846da36d89e2a72c379e5398',\n",
       " 'ff3407842ada5bc18be79ae453e5bdaa1b68afc842fc22fa618ac6e6599d0bb3',\n",
       " 'ff3e512b5fb860e5855d0c05b6cf5a6bcc7792e4be1f0bdab5a00af0e18435c0',\n",
       " 'ff599c7301daa1f783924ac8cbe3ce7b42878f15a39c2d19659189951f540f48']"
      ]
     },
     "execution_count": 32,
     "metadata": {},
     "output_type": "execute_result"
    }
   ],
   "source": [
    "IMAGE_IDS"
   ]
  },
  {
   "cell_type": "code",
   "execution_count": null,
   "metadata": {
    "collapsed": true
   },
   "outputs": [],
   "source": [
    "some fact:\n",
    "    images have different sizes\n",
    "    the images are not grayscale, instead they are rgba"
   ]
  },
  {
   "cell_type": "code",
   "execution_count": 4,
   "metadata": {
    "collapsed": true
   },
   "outputs": [],
   "source": [
    "ROUND_NUM = len(IMAGE_IDS) // BATCH_SIZE\n",
    "\n",
    "\n",
    "def get_next_batch(idx):\n",
    "    if idx > ROUND_NUM:\n",
    "        idx = 0\n",
    "        np.random.shuffle(IMAGE_IDS)\n",
    "    next_image_ids = IMAGE_IDS[idx*BATCH_SIZE : (idx+1)*BATCH_SIZE]\n",
    "    idx += 1\n",
    "    image_data = np.zeros(shape=(BATCH_SIZE, RESIZED_HEIGHT, RESIZED_WIDTH, N_CHANNELS))\n",
    "    image_masks = np.zeros(shape=(BATCH_SIZE, RESIZED_HEIGHT, RESIZED_WIDTH, 1))\n",
    "    for batch_idx, _id in enumerate(next_image_ids):\n",
    "        selected_split = random.randint(0, SPLIT_NUM)\n",
    "        if selected_split == SPLIT_NUM:\n",
    "            image_path = os.path.join(DATA_DIR, \"{}/augs/{}.png\".format(_id,_id))\n",
    "            image_data[batch_idx] = transform.resize(\n",
    "                skimage.io.imread(image_path), output_shape=(RESIZED_HEIGHT, RESIZED_WIDTH))\n",
    "            image_mask_path = os.path.join(DATA_DIR, \"{}/augs_masks/{}.png\".format(_id,_id))\n",
    "            image_masks[batch_idx] = np.reshape(transform.resize(\n",
    "                skimage.io.imread(image_mask_path, as_grey=True), \n",
    "                output_shape=(RESIZED_HEIGHT, RESIZED_WIDTH)),\n",
    "                                        newshape=[RESIZED_HEIGHT, RESIZED_WIDTH, 1])\n",
    "        else:\n",
    "            image_path = os.path.join(DATA_DIR, \n",
    "                                      \"{}/augs/{}_{}.png\".format(_id,_id,selected_split))\n",
    "            image_data[batch_idx] = transform.resize(\n",
    "                skimage.io.imread(image_path), output_shape=(RESIZED_HEIGHT, RESIZED_WIDTH))\n",
    "            image_mask_path = os.path.join(DATA_DIR, \n",
    "                                    \"{}/augs_masks/{}.png\".format(_id,_id,selected_split))\n",
    "            image_masks[batch_idx] = np.reshape(transform.resize(\n",
    "                skimage.io.imread(image_mask_path, as_grey=True), \n",
    "                output_shape=(RESIZED_HEIGHT, RESIZED_WIDTH)), \n",
    "                                        newshape=[RESIZED_HEIGHT, RESIZED_WIDTH, 1])\n",
    "    return idx, image_data, image_masks"
   ]
  },
  {
   "cell_type": "code",
   "execution_count": 62,
   "metadata": {
    "collapsed": true
   },
   "outputs": [],
   "source": [
    "image_id = image_ids[random.randint(0,len(image_ids))]\n",
    "test_img_path = os.path.join(DATA_DIR, \"{}/images/{}.png\".format(image_id,image_id))\n",
    "test_mask = skimage.io.imread(test_img_path)\n",
    "test_mask_grey = skimage.io.imread(test_img_path, as_grey=True)"
   ]
  },
  {
   "cell_type": "code",
   "execution_count": 68,
   "metadata": {},
   "outputs": [
    {
     "data": {
      "text/plain": [
       "'4d14a3629b6af6de86d850be236b833a7bfcbf6d8665fd73c6dc339e06c14607'"
      ]
     },
     "execution_count": 68,
     "metadata": {},
     "output_type": "execute_result"
    }
   ],
   "source": [
    "image_id"
   ]
  },
  {
   "cell_type": "code",
   "execution_count": 64,
   "metadata": {},
   "outputs": [
    {
     "data": {
      "text/plain": [
       "(256, 320, 4)"
      ]
     },
     "execution_count": 64,
     "metadata": {},
     "output_type": "execute_result"
    }
   ],
   "source": [
    "test_mask.shape"
   ]
  },
  {
   "cell_type": "code",
   "execution_count": 65,
   "metadata": {},
   "outputs": [
    {
     "data": {
      "text/plain": [
       "(256, 320)"
      ]
     },
     "execution_count": 65,
     "metadata": {},
     "output_type": "execute_result"
    }
   ],
   "source": [
    "test_mask_grey.shape"
   ]
  },
  {
   "cell_type": "code",
   "execution_count": 66,
   "metadata": {},
   "outputs": [
    {
     "data": {
      "text/plain": [
       "<matplotlib.image.AxesImage at 0x7f3c304283c8>"
      ]
     },
     "execution_count": 66,
     "metadata": {},
     "output_type": "execute_result"
    },
    {
     "data": {
      "image/png": "[encoded data removed]",
      "text/plain": [
       "<matplotlib.figure.Figure at 0x7f3c38165390>"
      ]
     },
     "metadata": {},
     "output_type": "display_data"
    }
   ],
   "source": [
    "plt.imshow(test_mask)"
   ]
  },
  {
   "cell_type": "code",
   "execution_count": 67,
   "metadata": {},
   "outputs": [
    {
     "data": {
      "text/plain": [
       "<matplotlib.image.AxesImage at 0x7f3c38280a90>"
      ]
     },
     "execution_count": 67,
     "metadata": {},
     "output_type": "execute_result"
    },
    {
     "data": {
      "image/png": "[encoded data removed]",
      "text/plain": [
       "<matplotlib.figure.Figure at 0x7f3c33e72b38>"
      ]
     },
     "metadata": {},
     "output_type": "display_data"
    }
   ],
   "source": [
    "plt.imshow(test_mask_grey)"
   ]
  },
  {
   "cell_type": "code",
   "execution_count": 28,
   "metadata": {},
   "outputs": [
    {
     "data": {
      "text/plain": [
       "(520, 696, 4)"
      ]
     },
     "execution_count": 28,
     "metadata": {},
     "output_type": "execute_result"
    }
   ],
   "source": [
    "test_mask.shape"
   ]
  },
  {
   "cell_type": "code",
   "execution_count": 25,
   "metadata": {},
   "outputs": [
    {
     "data": {
      "text/plain": [
       "(520, 696)"
      ]
     },
     "execution_count": 25,
     "metadata": {},
     "output_type": "execute_result"
    }
   ],
   "source": [
    "test_mask_grey.shape"
   ]
  },
  {
   "cell_type": "code",
   "execution_count": 9,
   "metadata": {},
   "outputs": [
    {
     "name": "stderr",
     "output_type": "stream",
     "text": [
      "\n",
      "  0%|          | 0/670 [00:00<?, ?it/s]\u001b[A\n",
      " 12%|█▏        | 79/670 [00:00<00:00, 779.73it/s]\u001b[A\n",
      " 24%|██▍       | 164/670 [00:00<00:00, 813.63it/s]\u001b[A\n",
      " 42%|████▏     | 280/670 [00:00<00:00, 928.03it/s]\u001b[A\n",
      " 57%|█████▋    | 382/670 [00:00<00:00, 950.10it/s]\u001b[A\n",
      "100%|██████████| 670/670 [00:00<00:00, 1354.19it/s]\u001b[A"
     ]
    }
   ],
   "source": [
    "# clean_data_augmentation(image_ids)"
   ]
  },
  {
   "cell_type": "code",
   "execution_count": 10,
   "metadata": {},
   "outputs": [
    {
     "name": "stderr",
     "output_type": "stream",
     "text": [
      "\n",
      "  0%|          | 0/670 [00:00<?, ?it/s]\u001b[A\n",
      "  0%|          | 1/670 [00:00<05:41,  1.96it/s]\u001b[A\n",
      "  0%|          | 2/670 [00:01<06:07,  1.82it/s]\u001b[A\n",
      "  0%|          | 3/670 [00:02<09:23,  1.18it/s]\u001b[A\n",
      "  1%|          | 4/670 [00:04<11:10,  1.01s/it]\u001b[A\n",
      "Exception in thread Thread-4:\n",
      "Traceback (most recent call last):\n",
      "  File \"/home/xiaozhouzou/anaconda/lib/python3.6/threading.py\", line 916, in _bootstrap_inner\n",
      "    self.run()\n",
      "  File \"/home/xiaozhouzou/.local/lib/python3.6/site-packages/tqdm/_monitor.py\", line 63, in run\n",
      "    for instance in self.tqdm_cls._instances:\n",
      "  File \"/home/xiaozhouzou/anaconda/lib/python3.6/_weakrefset.py\", line 60, in __iter__\n",
      "    for itemref in self.data:\n",
      "RuntimeError: Set changed size during iteration\n",
      "\n",
      "100%|██████████| 670/670 [18:19<00:00,  1.64s/it]\n"
     ]
    }
   ],
   "source": [
    "# make_data_augmentation(image_ids,split_num)"
   ]
  },
  {
   "cell_type": "code",
   "execution_count": 8,
   "metadata": {
    "collapsed": true
   },
   "outputs": [],
   "source": [
    "def get_variable(name,shape):\n",
    "    return tf.get_variable(name, shape, initializer = tf.contrib.layers.xavier_initializer())"
   ]
  },
  {
   "cell_type": "code",
   "execution_count": 2,
   "metadata": {},
   "outputs": [
    {
     "ename": "NameError",
     "evalue": "name 'tf' is not defined",
     "output_type": "error",
     "traceback": [
      "\u001b[1;31m---------------------------------------------------------------------------\u001b[0m",
      "\u001b[1;31mNameError\u001b[0m                                 Traceback (most recent call last)",
      "\u001b[1;32m<ipython-input-2-aa420b0fe42d>\u001b[0m in \u001b[0;36m<module>\u001b[1;34m()\u001b[0m\n\u001b[0;32m      1\u001b[0m def add_layer(_input, conv_type, layer_scope, kernel_shape, concat_layer=None,\n\u001b[1;32m----> 2\u001b[1;33m               stride=[1,2,2,1], padding=\"SAME\", act_func=tf.nn.relu, pool=False):\n\u001b[0m\u001b[0;32m      3\u001b[0m     \u001b[1;32mif\u001b[0m \u001b[0mconv_type\u001b[0m \u001b[1;33m==\u001b[0m \u001b[1;34m\"conv\"\u001b[0m\u001b[1;33m:\u001b[0m\u001b[1;33m\u001b[0m\u001b[0m\n\u001b[0;32m      4\u001b[0m         \u001b[1;32mwith\u001b[0m \u001b[0mtf\u001b[0m\u001b[1;33m.\u001b[0m\u001b[0mvariable_scope\u001b[0m\u001b[1;33m(\u001b[0m\u001b[0mlayer_scope\u001b[0m\u001b[1;33m)\u001b[0m\u001b[1;33m:\u001b[0m\u001b[1;33m\u001b[0m\u001b[0m\n\u001b[0;32m      5\u001b[0m             \u001b[0mW\u001b[0m \u001b[1;33m=\u001b[0m \u001b[0mget_variable\u001b[0m\u001b[1;33m(\u001b[0m\u001b[1;34m\"W\"\u001b[0m\u001b[1;33m,\u001b[0m \u001b[0mkernel_shape\u001b[0m\u001b[1;33m)\u001b[0m\u001b[1;33m\u001b[0m\u001b[0m\n",
      "\u001b[1;31mNameError\u001b[0m: name 'tf' is not defined"
     ]
    }
   ],
   "source": [
    "def add_layer(_input, conv_type, layer_scope, kernel_shape, concat_layer=None,\n",
    "              stride=[1,2,2,1], padding=\"SAME\", act_func=tf.nn.relu, pool=False):\n",
    "    if conv_type == \"conv\":\n",
    "        with tf.variable_scope(layer_scope):\n",
    "            W = get_variable(\"W\", kernel_shape)\n",
    "            conv_layer = tf.nn.conv2d(_input, W, strides=stride, padding=padding)\n",
    "            fmaps = act_func(conv_layer)\n",
    "    elif conv_type == \"deconv\":\n",
    "        with tf.variable_scope(layer_scope):\n",
    "            deconv_layer = tf.layers.conv2d_transpose(_input, filters=kernel_shape[2], \n",
    "                                                      kernel_size=kernel_shape[0], \n",
    "                                                      strides=stride[1], padding=padding)\n",
    "            fmaps = act_func(deconv_layer)\n",
    "            if concat_layer is not None:\n",
    "                fmaps = tf.concat([fmaps, concat_layer], 3)            \n",
    "    return fmaps   "
   ]
  },
  {
   "cell_type": "code",
   "execution_count": 21,
   "metadata": {
    "collapsed": true
   },
   "outputs": [],
   "source": [
    "KERNEL_SIZE = 3\n",
    "\n",
    "OUT_NUM_FMAP_1 = 64\n",
    "OUT_NUM_FMAP_2 = 128\n",
    "OUT_NUM_FMAP_3 = 256\n",
    "OUT_NUM_FMAP_4 = 128\n",
    "OUT_NUM_FMAP_5 = 64"
   ]
  },
  {
   "cell_type": "code",
   "execution_count": 26,
   "metadata": {},
   "outputs": [],
   "source": [
    "def myUnet(X):\n",
    "    l1 = add_layer(X, conv_type=\"conv\", layer_scope=\"shrink_1\", \n",
    "                   kernel_shape=[KERNEL_SIZE, KERNEL_SIZE, N_CHANNELS, OUT_NUM_FMAP_1])\n",
    "    l2 = add_layer(l1, conv_type=\"conv\", layer_scope=\"shrink_2\", \n",
    "                   kernel_shape=[KERNEL_SIZE,KERNEL_SIZE, OUT_NUM_FMAP_1, OUT_NUM_FMAP_2])\n",
    "    l3 = add_layer(l2, conv_type=\"conv\", layer_scope=\"shrink_3\", \n",
    "                   kernel_shape=[KERNEL_SIZE,KERNEL_SIZE, OUT_NUM_FMAP_2, OUT_NUM_FMAP_3])\n",
    "    l4 = add_layer(l3, conv_type=\"deconv\", layer_scope=\"expand_1\", concat_layer=l2,\n",
    "                   kernel_shape=[KERNEL_SIZE,KERNEL_SIZE, OUT_NUM_FMAP_4, OUT_NUM_FMAP_3])\n",
    "    l5 = add_layer(l4, conv_type=\"deconv\", layer_scope=\"expand_2\", concat_layer=l1, \n",
    "                   kernel_shape=[KERNEL_SIZE,KERNEL_SIZE, OUT_NUM_FMAP_5, OUT_NUM_FMAP_4])\n",
    "    y_pred = add_layer(l5, conv_type=\"deconv\", layer_scope=\"expand_3\",\n",
    "                       kernel_shape=[KERNEL_SIZE,KERNEL_SIZE, 1, OUT_NUM_FMAP_5])\n",
    "    return y_pred"
   ]
  },
  {
   "cell_type": "code",
   "execution_count": 16,
   "metadata": {
    "collapsed": true
   },
   "outputs": [],
   "source": [
    "def loss_function(y_pred, y_true):\n",
    "    cost = tf.reduce_mean(tf.keras.losses.binary_crossentropy(y_true,y_pred))\n",
    "    return cost\n",
    "\n",
    "def mean_iou(y_pred,y_true):\n",
    "    y_pred_ = tf.to_int64(y_pred > 0.5)\n",
    "    y_true_ = tf.to_int64(y_true > 0.5)\n",
    "    score, up_opt = tf.metrics.mean_iou(y_true_, y_pred_, 2)\n",
    "    with tf.control_dependencies([up_opt]):\n",
    "        score = tf.identity(score)\n",
    "    return score"
   ]
  },
  {
   "cell_type": "code",
   "execution_count": 5,
   "metadata": {
    "collapsed": true
   },
   "outputs": [],
   "source": [
    "def UNet(X):\n",
    "    ### Unit 1 ###\n",
    "    with tf.variable_scope('Unit1'):\n",
    "        W1_1 = get_variable(\"W1_1\", [3,3,4,16] )\n",
    "        Z1 = tf.nn.conv2d(X,W1_1, strides = [1,1,1,1], padding = 'SAME')\n",
    "        A1 = tf.nn.relu(Z1)\n",
    "        W1_2 = get_variable(\"W1_2\", [3,3,16,16] )\n",
    "        Z2 = tf.nn.conv2d(A1,W1_2, strides = [1,1,1,1], padding = 'SAME')\n",
    "        A2 = tf.nn.relu(Z2) \n",
    "        P1 = tf.nn.max_pool(A2, ksize = [1,2,2,1], strides = [1,2,2,1], padding = 'SAME')\n",
    "    ### Unit 2 ###\n",
    "    with tf.variable_scope('Unit2'):\n",
    "        W2_1 = get_variable(\"W2_1\", [3,3,16,32] )\n",
    "        Z3 = tf.nn.conv2d(P1,W2_1, strides = [1,1,1,1], padding = 'SAME')\n",
    "        A3 = tf.nn.relu(Z3)\n",
    "        W2_2 = get_variable(\"W2_2\", [3,3,32,32] )\n",
    "        Z4 = tf.nn.conv2d(A3,W2_2, strides = [1,1,1,1], padding = 'SAME')\n",
    "        A4 = tf.nn.relu(Z4) \n",
    "        P2 = tf.nn.max_pool(A4, ksize = [1,2,2,1], strides = [1,2,2,1], padding = 'SAME')\n",
    "    ### Unit 3 ###\n",
    "    with tf.variable_scope('Unit3'):\n",
    "        W3_1 = get_variable(\"W3_1\", [3,3,32,64] )\n",
    "        Z5 = tf.nn.conv2d(P2,W3_1, strides = [1,1,1,1], padding = 'SAME')\n",
    "        A5 = tf.nn.relu(Z5)\n",
    "        W3_2 = get_variable(\"W3_2\", [3,3,64,64] )\n",
    "        Z6 = tf.nn.conv2d(A5,W3_2, strides = [1,1,1,1], padding = 'SAME')\n",
    "        A6 = tf.nn.relu(Z6) \n",
    "        P3 = tf.nn.max_pool(A6, ksize = [1,2,2,1], strides = [1,2,2,1], padding = 'SAME')\n",
    "    ### Unit 4 ###\n",
    "    with tf.variable_scope('Unit4'):\n",
    "        W4_1 = get_variable(\"W4_1\", [3,3,64,128] )\n",
    "        Z7 = tf.nn.conv2d(P3,W4_1, strides = [1,1,1,1], padding = 'SAME')\n",
    "        A7 = tf.nn.relu(Z7)\n",
    "        W4_2 = get_variable(\"W4_2\", [3,3,128,128] )\n",
    "        Z8 = tf.nn.conv2d(A7,W4_2, strides = [1,1,1,1], padding = 'SAME')\n",
    "        A8 = tf.nn.relu(Z8) \n",
    "        P4 = tf.nn.max_pool(A8, ksize = [1,2,2,1], strides = [1,2,2,1], padding = 'SAME')\n",
    "    ### Unit 5 ###\n",
    "    with tf.variable_scope('Unit5'):\n",
    "        W5_1 = get_variable(\"W5_1\", [3,3,128,256] )\n",
    "        Z9 = tf.nn.conv2d(P4,W5_1, strides = [1,1,1,1], padding = 'SAME')\n",
    "        A9 = tf.nn.relu(Z9)\n",
    "        W5_2 = get_variable(\"W5_2\", [3,3,256,256] )\n",
    "        Z10 = tf.nn.conv2d(A9,W5_2, strides = [1,1,1,1], padding = 'SAME')\n",
    "        A10 = tf.nn.relu(Z10) \n",
    "    ### Unit 6 ###\n",
    "    with tf.variable_scope('Unit6'):\n",
    "        W6_1 = get_variable(\"W6_1\", [3,3,256,128] )\n",
    "        U1 = tf.layers.conv2d_transpose(A10, filters = 128, kernel_size = 2, strides = 2, padding = 'SAME')\n",
    "        U1 = tf.concat([U1, A8],3)\n",
    "        W6_2 = get_variable(\"W6_2\", [3,3,128,128] )\n",
    "        Z11 = tf.nn.conv2d(U1,W6_1, strides = [1,1,1,1], padding = 'SAME')\n",
    "        A11 = tf.nn.relu(Z11)\n",
    "        Z12 = tf.nn.conv2d(A11,W6_2, strides = [1,1,1,1], padding = 'SAME')\n",
    "        A12 = tf.nn.relu(Z12)\n",
    "    ### Unit 7 ###\n",
    "    with tf.variable_scope('Unit7'):\n",
    "        W7_1 = get_variable(\"W7_1\", [3,3,128,64] )\n",
    "        U2 = tf.layers.conv2d_transpose(A12, filters = 64, kernel_size = 2, strides = 2, padding = 'SAME')\n",
    "        U2 = tf.concat([U2, A6],3)\n",
    "        Z13 = tf.nn.conv2d(U2,W7_1, strides = [1,1,1,1], padding = 'SAME')\n",
    "        A13 = tf.nn.relu(Z13)\n",
    "        W7_2 = get_variable(\"W7_2\", [3,3,64,64] )\n",
    "        Z14 = tf.nn.conv2d(A13,W7_2, strides = [1,1,1,1], padding = 'SAME')\n",
    "        A14 = tf.nn.relu(Z14)\n",
    "    ### Unit 8 ###\n",
    "    with tf.variable_scope('Unit8'):\n",
    "        W8_1 = get_variable(\"W8_1\", [3,3,64,32] )\n",
    "        U3 = tf.layers.conv2d_transpose(A14, filters = 32, kernel_size = 2, strides = 2, padding = 'SAME')\n",
    "        U3 = tf.concat([U3, A4],3)\n",
    "        Z15 = tf.nn.conv2d(U3,W8_1, strides = [1,1,1,1], padding = 'SAME')\n",
    "        A15 = tf.nn.relu(Z15)\n",
    "        W8_2 = get_variable(\"W8_2\", [3,3,32,32] )\n",
    "        Z16 = tf.nn.conv2d(A15,W8_2, strides = [1,1,1,1], padding = 'SAME')\n",
    "        A16 = tf.nn.relu(Z16)\n",
    "    ### Unit 9 ###\n",
    "    with tf.variable_scope('Unit9'):\n",
    "        W9_1 = get_variable(\"W9_1\", [3,3,32,16] )\n",
    "        U4 = tf.layers.conv2d_transpose(A16, filters = 16, kernel_size = 2, strides = 2, padding = 'SAME')\n",
    "        U4 = tf.concat([U4, A2],3)\n",
    "        Z17 = tf.nn.conv2d(U4,W9_1, strides = [1,1,1,1], padding = 'SAME')\n",
    "        A17 = tf.nn.relu(Z17)\n",
    "        W9_2 = get_variable(\"W9_2\", [3,3,16,16] )\n",
    "        Z18 = tf.nn.conv2d(A17,W9_2, strides = [1,1,1,1], padding = 'SAME')\n",
    "        A18 = tf.nn.relu(Z18)\n",
    "    ### Unit 10 ###\n",
    "    with tf.variable_scope('out_put'):\n",
    "        W10 = get_variable(\"W10\", [1,1,16,1] )\n",
    "        Z19 = tf.nn.conv2d(A18,W10, strides = [1,1,1,1], padding = 'SAME')\n",
    "        A19 = tf.nn.sigmoid(Z19)\n",
    "        Y_pred = A19\n",
    "    return Y_pred\n",
    "\n",
    "def loss_function(y_pred, y_true):\n",
    "    cost = tf.reduce_mean(tf.keras.losses.binary_crossentropy(y_true,y_pred))\n",
    "    return cost\n",
    "\n",
    "def mean_iou(y_pred,y_true):\n",
    "    y_pred_ = tf.to_int64(y_pred > 0.5)\n",
    "    y_true_ = tf.to_int64(y_true > 0.5)\n",
    "    score, up_opt = tf.metrics.mean_iou(y_true_, y_pred_, 2)\n",
    "    with tf.control_dependencies([up_opt]):\n",
    "        score = tf.identity(score)\n",
    "    return score"
   ]
  },
  {
   "cell_type": "code",
   "execution_count": 19,
   "metadata": {
    "collapsed": true
   },
   "outputs": [],
   "source": [
    "def build_graph():\n",
    "#     with tf.Graph().as_default() as g:\n",
    "#         with tf.device(\"/gpu:0\"):\n",
    "#         with tf.name_scope('input'):\n",
    "    x_ = tf.placeholder(tf.float32, shape=(BATCH_SIZE, RESIZED_HEIGHT, RESIZED_WIDTH, N_CHANNELS))\n",
    "    y_ = tf.placeholder(tf.float32, shape=(BATCH_SIZE, RESIZED_HEIGHT, RESIZED_WIDTH, 1))\n",
    "#     y_pred = UNet(x_)\n",
    "    y_pred = myUnet(x_)\n",
    "#         with tf.name_scope('loss'):\n",
    "    loss = loss_function(y_pred,y_)\n",
    "#         with tf.device(\"/cpu:0\"):\n",
    "#         with tf.name_scope(\"metrics\"):\n",
    "    iou = mean_iou(y_pred,y_)\n",
    "    model_dict = {'inputs': [x_, y_],'Iou':iou,'Loss':loss, 'y_pred':y_pred}\n",
    "    return model_dict"
   ]
  },
  {
   "cell_type": "code",
   "execution_count": 7,
   "metadata": {
    "collapsed": true
   },
   "outputs": [],
   "source": [
    "TRAIN_ITERS = 4\n",
    "\n",
    "LEARNING_RATE = 1e-3"
   ]
  },
  {
   "cell_type": "code",
   "execution_count": 27,
   "metadata": {},
   "outputs": [
    {
     "name": "stdout",
     "output_type": "stream",
     "text": [
      "WARNING:tensorflow:From /home/xiaozhouzou/anaconda/lib/python3.6/site-packages/tensorflow/python/keras/_impl/keras/backend.py:1557: calling reduce_mean (from tensorflow.python.ops.math_ops) with keep_dims is deprecated and will be removed in a future version.\n",
      "Instructions for updating:\n",
      "keep_dims is deprecated, use keepdims instead\n"
     ]
    }
   ],
   "source": [
    "tf.reset_default_graph()\n",
    "model_dict = build_graph()\n",
    "idx = 0"
   ]
  },
  {
   "cell_type": "code",
   "execution_count": 92,
   "metadata": {},
   "outputs": [
    {
     "data": {
      "text/plain": [
       "[<tf.Variable 'Unit1/W1_1:0' shape=(3, 3, 4, 16) dtype=float32_ref>,\n",
       " <tf.Variable 'Unit1/W1_2:0' shape=(3, 3, 16, 16) dtype=float32_ref>,\n",
       " <tf.Variable 'Unit2/W2_1:0' shape=(3, 3, 16, 32) dtype=float32_ref>,\n",
       " <tf.Variable 'Unit2/W2_2:0' shape=(3, 3, 32, 32) dtype=float32_ref>,\n",
       " <tf.Variable 'Unit3/W3_1:0' shape=(3, 3, 32, 64) dtype=float32_ref>,\n",
       " <tf.Variable 'Unit3/W3_2:0' shape=(3, 3, 64, 64) dtype=float32_ref>,\n",
       " <tf.Variable 'Unit4/W4_1:0' shape=(3, 3, 64, 128) dtype=float32_ref>,\n",
       " <tf.Variable 'Unit4/W4_2:0' shape=(3, 3, 128, 128) dtype=float32_ref>,\n",
       " <tf.Variable 'Unit5/W5_1:0' shape=(3, 3, 128, 256) dtype=float32_ref>,\n",
       " <tf.Variable 'Unit5/W5_2:0' shape=(3, 3, 256, 256) dtype=float32_ref>,\n",
       " <tf.Variable 'Unit6/W6_1:0' shape=(3, 3, 256, 128) dtype=float32_ref>,\n",
       " <tf.Variable 'Unit6/conv2d_transpose/kernel:0' shape=(2, 2, 128, 256) dtype=float32_ref>,\n",
       " <tf.Variable 'Unit6/conv2d_transpose/bias:0' shape=(128,) dtype=float32_ref>,\n",
       " <tf.Variable 'Unit6/W6_2:0' shape=(3, 3, 128, 128) dtype=float32_ref>,\n",
       " <tf.Variable 'Unit7/W7_1:0' shape=(3, 3, 128, 64) dtype=float32_ref>,\n",
       " <tf.Variable 'Unit7/conv2d_transpose/kernel:0' shape=(2, 2, 64, 128) dtype=float32_ref>,\n",
       " <tf.Variable 'Unit7/conv2d_transpose/bias:0' shape=(64,) dtype=float32_ref>,\n",
       " <tf.Variable 'Unit7/W7_2:0' shape=(3, 3, 64, 64) dtype=float32_ref>,\n",
       " <tf.Variable 'Unit8/W8_1:0' shape=(3, 3, 64, 32) dtype=float32_ref>,\n",
       " <tf.Variable 'Unit8/conv2d_transpose/kernel:0' shape=(2, 2, 32, 64) dtype=float32_ref>,\n",
       " <tf.Variable 'Unit8/conv2d_transpose/bias:0' shape=(32,) dtype=float32_ref>,\n",
       " <tf.Variable 'Unit8/W8_2:0' shape=(3, 3, 32, 32) dtype=float32_ref>,\n",
       " <tf.Variable 'Unit9/W9_1:0' shape=(3, 3, 32, 16) dtype=float32_ref>,\n",
       " <tf.Variable 'Unit9/conv2d_transpose/kernel:0' shape=(2, 2, 16, 32) dtype=float32_ref>,\n",
       " <tf.Variable 'Unit9/conv2d_transpose/bias:0' shape=(16,) dtype=float32_ref>,\n",
       " <tf.Variable 'Unit9/W9_2:0' shape=(3, 3, 16, 16) dtype=float32_ref>,\n",
       " <tf.Variable 'out_put/W10:0' shape=(1, 1, 16, 1) dtype=float32_ref>]"
      ]
     },
     "execution_count": 92,
     "metadata": {},
     "output_type": "execute_result"
    }
   ],
   "source": [
    "tf.get_collection(tf.GraphKeys.TRAINABLE_VARIABLES)"
   ]
  },
  {
   "cell_type": "code",
   "execution_count": 80,
   "metadata": {},
   "outputs": [
    {
     "data": {
      "text/plain": [
       "'trainable_variables'"
      ]
     },
     "execution_count": 80,
     "metadata": {},
     "output_type": "execute_result"
    }
   ],
   "source": [
    "tf.GraphKeys.TRAINABLE_VARIABLES"
   ]
  },
  {
   "cell_type": "code",
   "execution_count": null,
   "metadata": {
    "collapsed": true
   },
   "outputs": [],
   "source": []
  },
  {
   "cell_type": "code",
   "execution_count": null,
   "metadata": {
    "collapsed": true
   },
   "outputs": [],
   "source": []
  },
  {
   "cell_type": "code",
   "execution_count": null,
   "metadata": {
    "collapsed": true
   },
   "outputs": [],
   "source": []
  },
  {
   "cell_type": "code",
   "execution_count": null,
   "metadata": {},
   "outputs": [
    {
     "name": "stderr",
     "output_type": "stream",
     "text": [
      "/home/xiaozhouzou/anaconda/lib/python3.6/site-packages/skimage/transform/_warps.py:84: UserWarning: The default mode, 'constant', will be changed to 'reflect' in skimage 0.15.\n",
      "  warn(\"The default mode, 'constant', will be changed to 'reflect' in \"\n"
     ]
    }
   ],
   "source": [
    "tf.reset_default_graph()\n",
    "model_dict = build_graph()\n",
    "idx = 0\n",
    "initializer = tf.global_variables_initializer()\n",
    "\n",
    "optimizer = tf.train.AdamOptimizer(learning_rate=LEARNING_RATE)\n",
    "train_op = optimizer.minimize(model_dict['Loss'])\n",
    "\n",
    "with tf.Session() as sess:\n",
    "    sess.run(initializer)\n",
    "    for i in range(TRAIN_ITERS):\n",
    "        idx, batch_img, batch_label = get_next_batch(idx)\n",
    "        sess.run(train_op, feed_dict={model_dict['inputs'][0] : batch_img,\n",
    "                                      model_dict['inputs'][1] : batch_label})"
   ]
  },
  {
   "cell_type": "code",
   "execution_count": 22,
   "metadata": {
    "collapsed": true
   },
   "outputs": [],
   "source": [
    "nx = 572\n",
    "ny = 572\n",
    "cnt = 10\n",
    "r_min = 5\n",
    "r_max = 50\n",
    "border = 92\n",
    "sigma = 20\n",
    "rectangles=False"
   ]
  },
  {
   "cell_type": "code",
   "execution_count": 23,
   "metadata": {
    "collapsed": true
   },
   "outputs": [],
   "source": [
    "image = np.ones((nx, ny, 1))\n",
    "label = np.zeros((nx, ny, 3), dtype=np.bool)\n",
    "mask = np.zeros((nx, ny), dtype=np.bool)"
   ]
  },
  {
   "cell_type": "code",
   "execution_count": 40,
   "metadata": {},
   "outputs": [
    {
     "name": "stdout",
     "output_type": "stream",
     "text": [
      "267\n",
      "198\n",
      "45\n",
      "227\n"
     ]
    }
   ],
   "source": [
    "a = np.random.randint(border, nx-border)\n",
    "print(a)\n",
    "b = np.random.randint(border, ny-border)\n",
    "print(b)\n",
    "r = np.random.randint(r_min, r_max)\n",
    "print(r)\n",
    "h = np.random.randint(1,255)\n",
    "print(h)"
   ]
  },
  {
   "cell_type": "code",
   "execution_count": 41,
   "metadata": {
    "collapsed": true
   },
   "outputs": [],
   "source": [
    "y,x = np.ogrid[-a:nx-a, -b:ny-b]"
   ]
  },
  {
   "cell_type": "code",
   "execution_count": 42,
   "metadata": {},
   "outputs": [
    {
     "data": {
      "text/plain": [
       "array([[-267],\n",
       "       [-266],\n",
       "       [-265],\n",
       "       [-264],\n",
       "       [-263],\n",
       "       [-262],\n",
       "       [-261],\n",
       "       [-260],\n",
       "       [-259],\n",
       "       [-258],\n",
       "       [-257],\n",
       "       [-256],\n",
       "       [-255],\n",
       "       [-254],\n",
       "       [-253],\n",
       "       [-252],\n",
       "       [-251],\n",
       "       [-250],\n",
       "       [-249],\n",
       "       [-248],\n",
       "       [-247],\n",
       "       [-246],\n",
       "       [-245],\n",
       "       [-244],\n",
       "       [-243],\n",
       "       [-242],\n",
       "       [-241],\n",
       "       [-240],\n",
       "       [-239],\n",
       "       [-238],\n",
       "       [-237],\n",
       "       [-236],\n",
       "       [-235],\n",
       "       [-234],\n",
       "       [-233],\n",
       "       [-232],\n",
       "       [-231],\n",
       "       [-230],\n",
       "       [-229],\n",
       "       [-228],\n",
       "       [-227],\n",
       "       [-226],\n",
       "       [-225],\n",
       "       [-224],\n",
       "       [-223],\n",
       "       [-222],\n",
       "       [-221],\n",
       "       [-220],\n",
       "       [-219],\n",
       "       [-218],\n",
       "       [-217],\n",
       "       [-216],\n",
       "       [-215],\n",
       "       [-214],\n",
       "       [-213],\n",
       "       [-212],\n",
       "       [-211],\n",
       "       [-210],\n",
       "       [-209],\n",
       "       [-208],\n",
       "       [-207],\n",
       "       [-206],\n",
       "       [-205],\n",
       "       [-204],\n",
       "       [-203],\n",
       "       [-202],\n",
       "       [-201],\n",
       "       [-200],\n",
       "       [-199],\n",
       "       [-198],\n",
       "       [-197],\n",
       "       [-196],\n",
       "       [-195],\n",
       "       [-194],\n",
       "       [-193],\n",
       "       [-192],\n",
       "       [-191],\n",
       "       [-190],\n",
       "       [-189],\n",
       "       [-188],\n",
       "       [-187],\n",
       "       [-186],\n",
       "       [-185],\n",
       "       [-184],\n",
       "       [-183],\n",
       "       [-182],\n",
       "       [-181],\n",
       "       [-180],\n",
       "       [-179],\n",
       "       [-178],\n",
       "       [-177],\n",
       "       [-176],\n",
       "       [-175],\n",
       "       [-174],\n",
       "       [-173],\n",
       "       [-172],\n",
       "       [-171],\n",
       "       [-170],\n",
       "       [-169],\n",
       "       [-168],\n",
       "       [-167],\n",
       "       [-166],\n",
       "       [-165],\n",
       "       [-164],\n",
       "       [-163],\n",
       "       [-162],\n",
       "       [-161],\n",
       "       [-160],\n",
       "       [-159],\n",
       "       [-158],\n",
       "       [-157],\n",
       "       [-156],\n",
       "       [-155],\n",
       "       [-154],\n",
       "       [-153],\n",
       "       [-152],\n",
       "       [-151],\n",
       "       [-150],\n",
       "       [-149],\n",
       "       [-148],\n",
       "       [-147],\n",
       "       [-146],\n",
       "       [-145],\n",
       "       [-144],\n",
       "       [-143],\n",
       "       [-142],\n",
       "       [-141],\n",
       "       [-140],\n",
       "       [-139],\n",
       "       [-138],\n",
       "       [-137],\n",
       "       [-136],\n",
       "       [-135],\n",
       "       [-134],\n",
       "       [-133],\n",
       "       [-132],\n",
       "       [-131],\n",
       "       [-130],\n",
       "       [-129],\n",
       "       [-128],\n",
       "       [-127],\n",
       "       [-126],\n",
       "       [-125],\n",
       "       [-124],\n",
       "       [-123],\n",
       "       [-122],\n",
       "       [-121],\n",
       "       [-120],\n",
       "       [-119],\n",
       "       [-118],\n",
       "       [-117],\n",
       "       [-116],\n",
       "       [-115],\n",
       "       [-114],\n",
       "       [-113],\n",
       "       [-112],\n",
       "       [-111],\n",
       "       [-110],\n",
       "       [-109],\n",
       "       [-108],\n",
       "       [-107],\n",
       "       [-106],\n",
       "       [-105],\n",
       "       [-104],\n",
       "       [-103],\n",
       "       [-102],\n",
       "       [-101],\n",
       "       [-100],\n",
       "       [ -99],\n",
       "       [ -98],\n",
       "       [ -97],\n",
       "       [ -96],\n",
       "       [ -95],\n",
       "       [ -94],\n",
       "       [ -93],\n",
       "       [ -92],\n",
       "       [ -91],\n",
       "       [ -90],\n",
       "       [ -89],\n",
       "       [ -88],\n",
       "       [ -87],\n",
       "       [ -86],\n",
       "       [ -85],\n",
       "       [ -84],\n",
       "       [ -83],\n",
       "       [ -82],\n",
       "       [ -81],\n",
       "       [ -80],\n",
       "       [ -79],\n",
       "       [ -78],\n",
       "       [ -77],\n",
       "       [ -76],\n",
       "       [ -75],\n",
       "       [ -74],\n",
       "       [ -73],\n",
       "       [ -72],\n",
       "       [ -71],\n",
       "       [ -70],\n",
       "       [ -69],\n",
       "       [ -68],\n",
       "       [ -67],\n",
       "       [ -66],\n",
       "       [ -65],\n",
       "       [ -64],\n",
       "       [ -63],\n",
       "       [ -62],\n",
       "       [ -61],\n",
       "       [ -60],\n",
       "       [ -59],\n",
       "       [ -58],\n",
       "       [ -57],\n",
       "       [ -56],\n",
       "       [ -55],\n",
       "       [ -54],\n",
       "       [ -53],\n",
       "       [ -52],\n",
       "       [ -51],\n",
       "       [ -50],\n",
       "       [ -49],\n",
       "       [ -48],\n",
       "       [ -47],\n",
       "       [ -46],\n",
       "       [ -45],\n",
       "       [ -44],\n",
       "       [ -43],\n",
       "       [ -42],\n",
       "       [ -41],\n",
       "       [ -40],\n",
       "       [ -39],\n",
       "       [ -38],\n",
       "       [ -37],\n",
       "       [ -36],\n",
       "       [ -35],\n",
       "       [ -34],\n",
       "       [ -33],\n",
       "       [ -32],\n",
       "       [ -31],\n",
       "       [ -30],\n",
       "       [ -29],\n",
       "       [ -28],\n",
       "       [ -27],\n",
       "       [ -26],\n",
       "       [ -25],\n",
       "       [ -24],\n",
       "       [ -23],\n",
       "       [ -22],\n",
       "       [ -21],\n",
       "       [ -20],\n",
       "       [ -19],\n",
       "       [ -18],\n",
       "       [ -17],\n",
       "       [ -16],\n",
       "       [ -15],\n",
       "       [ -14],\n",
       "       [ -13],\n",
       "       [ -12],\n",
       "       [ -11],\n",
       "       [ -10],\n",
       "       [  -9],\n",
       "       [  -8],\n",
       "       [  -7],\n",
       "       [  -6],\n",
       "       [  -5],\n",
       "       [  -4],\n",
       "       [  -3],\n",
       "       [  -2],\n",
       "       [  -1],\n",
       "       [   0],\n",
       "       [   1],\n",
       "       [   2],\n",
       "       [   3],\n",
       "       [   4],\n",
       "       [   5],\n",
       "       [   6],\n",
       "       [   7],\n",
       "       [   8],\n",
       "       [   9],\n",
       "       [  10],\n",
       "       [  11],\n",
       "       [  12],\n",
       "       [  13],\n",
       "       [  14],\n",
       "       [  15],\n",
       "       [  16],\n",
       "       [  17],\n",
       "       [  18],\n",
       "       [  19],\n",
       "       [  20],\n",
       "       [  21],\n",
       "       [  22],\n",
       "       [  23],\n",
       "       [  24],\n",
       "       [  25],\n",
       "       [  26],\n",
       "       [  27],\n",
       "       [  28],\n",
       "       [  29],\n",
       "       [  30],\n",
       "       [  31],\n",
       "       [  32],\n",
       "       [  33],\n",
       "       [  34],\n",
       "       [  35],\n",
       "       [  36],\n",
       "       [  37],\n",
       "       [  38],\n",
       "       [  39],\n",
       "       [  40],\n",
       "       [  41],\n",
       "       [  42],\n",
       "       [  43],\n",
       "       [  44],\n",
       "       [  45],\n",
       "       [  46],\n",
       "       [  47],\n",
       "       [  48],\n",
       "       [  49],\n",
       "       [  50],\n",
       "       [  51],\n",
       "       [  52],\n",
       "       [  53],\n",
       "       [  54],\n",
       "       [  55],\n",
       "       [  56],\n",
       "       [  57],\n",
       "       [  58],\n",
       "       [  59],\n",
       "       [  60],\n",
       "       [  61],\n",
       "       [  62],\n",
       "       [  63],\n",
       "       [  64],\n",
       "       [  65],\n",
       "       [  66],\n",
       "       [  67],\n",
       "       [  68],\n",
       "       [  69],\n",
       "       [  70],\n",
       "       [  71],\n",
       "       [  72],\n",
       "       [  73],\n",
       "       [  74],\n",
       "       [  75],\n",
       "       [  76],\n",
       "       [  77],\n",
       "       [  78],\n",
       "       [  79],\n",
       "       [  80],\n",
       "       [  81],\n",
       "       [  82],\n",
       "       [  83],\n",
       "       [  84],\n",
       "       [  85],\n",
       "       [  86],\n",
       "       [  87],\n",
       "       [  88],\n",
       "       [  89],\n",
       "       [  90],\n",
       "       [  91],\n",
       "       [  92],\n",
       "       [  93],\n",
       "       [  94],\n",
       "       [  95],\n",
       "       [  96],\n",
       "       [  97],\n",
       "       [  98],\n",
       "       [  99],\n",
       "       [ 100],\n",
       "       [ 101],\n",
       "       [ 102],\n",
       "       [ 103],\n",
       "       [ 104],\n",
       "       [ 105],\n",
       "       [ 106],\n",
       "       [ 107],\n",
       "       [ 108],\n",
       "       [ 109],\n",
       "       [ 110],\n",
       "       [ 111],\n",
       "       [ 112],\n",
       "       [ 113],\n",
       "       [ 114],\n",
       "       [ 115],\n",
       "       [ 116],\n",
       "       [ 117],\n",
       "       [ 118],\n",
       "       [ 119],\n",
       "       [ 120],\n",
       "       [ 121],\n",
       "       [ 122],\n",
       "       [ 123],\n",
       "       [ 124],\n",
       "       [ 125],\n",
       "       [ 126],\n",
       "       [ 127],\n",
       "       [ 128],\n",
       "       [ 129],\n",
       "       [ 130],\n",
       "       [ 131],\n",
       "       [ 132],\n",
       "       [ 133],\n",
       "       [ 134],\n",
       "       [ 135],\n",
       "       [ 136],\n",
       "       [ 137],\n",
       "       [ 138],\n",
       "       [ 139],\n",
       "       [ 140],\n",
       "       [ 141],\n",
       "       [ 142],\n",
       "       [ 143],\n",
       "       [ 144],\n",
       "       [ 145],\n",
       "       [ 146],\n",
       "       [ 147],\n",
       "       [ 148],\n",
       "       [ 149],\n",
       "       [ 150],\n",
       "       [ 151],\n",
       "       [ 152],\n",
       "       [ 153],\n",
       "       [ 154],\n",
       "       [ 155],\n",
       "       [ 156],\n",
       "       [ 157],\n",
       "       [ 158],\n",
       "       [ 159],\n",
       "       [ 160],\n",
       "       [ 161],\n",
       "       [ 162],\n",
       "       [ 163],\n",
       "       [ 164],\n",
       "       [ 165],\n",
       "       [ 166],\n",
       "       [ 167],\n",
       "       [ 168],\n",
       "       [ 169],\n",
       "       [ 170],\n",
       "       [ 171],\n",
       "       [ 172],\n",
       "       [ 173],\n",
       "       [ 174],\n",
       "       [ 175],\n",
       "       [ 176],\n",
       "       [ 177],\n",
       "       [ 178],\n",
       "       [ 179],\n",
       "       [ 180],\n",
       "       [ 181],\n",
       "       [ 182],\n",
       "       [ 183],\n",
       "       [ 184],\n",
       "       [ 185],\n",
       "       [ 186],\n",
       "       [ 187],\n",
       "       [ 188],\n",
       "       [ 189],\n",
       "       [ 190],\n",
       "       [ 191],\n",
       "       [ 192],\n",
       "       [ 193],\n",
       "       [ 194],\n",
       "       [ 195],\n",
       "       [ 196],\n",
       "       [ 197],\n",
       "       [ 198],\n",
       "       [ 199],\n",
       "       [ 200],\n",
       "       [ 201],\n",
       "       [ 202],\n",
       "       [ 203],\n",
       "       [ 204],\n",
       "       [ 205],\n",
       "       [ 206],\n",
       "       [ 207],\n",
       "       [ 208],\n",
       "       [ 209],\n",
       "       [ 210],\n",
       "       [ 211],\n",
       "       [ 212],\n",
       "       [ 213],\n",
       "       [ 214],\n",
       "       [ 215],\n",
       "       [ 216],\n",
       "       [ 217],\n",
       "       [ 218],\n",
       "       [ 219],\n",
       "       [ 220],\n",
       "       [ 221],\n",
       "       [ 222],\n",
       "       [ 223],\n",
       "       [ 224],\n",
       "       [ 225],\n",
       "       [ 226],\n",
       "       [ 227],\n",
       "       [ 228],\n",
       "       [ 229],\n",
       "       [ 230],\n",
       "       [ 231],\n",
       "       [ 232],\n",
       "       [ 233],\n",
       "       [ 234],\n",
       "       [ 235],\n",
       "       [ 236],\n",
       "       [ 237],\n",
       "       [ 238],\n",
       "       [ 239],\n",
       "       [ 240],\n",
       "       [ 241],\n",
       "       [ 242],\n",
       "       [ 243],\n",
       "       [ 244],\n",
       "       [ 245],\n",
       "       [ 246],\n",
       "       [ 247],\n",
       "       [ 248],\n",
       "       [ 249],\n",
       "       [ 250],\n",
       "       [ 251],\n",
       "       [ 252],\n",
       "       [ 253],\n",
       "       [ 254],\n",
       "       [ 255],\n",
       "       [ 256],\n",
       "       [ 257],\n",
       "       [ 258],\n",
       "       [ 259],\n",
       "       [ 260],\n",
       "       [ 261],\n",
       "       [ 262],\n",
       "       [ 263],\n",
       "       [ 264],\n",
       "       [ 265],\n",
       "       [ 266],\n",
       "       [ 267],\n",
       "       [ 268],\n",
       "       [ 269],\n",
       "       [ 270],\n",
       "       [ 271],\n",
       "       [ 272],\n",
       "       [ 273],\n",
       "       [ 274],\n",
       "       [ 275],\n",
       "       [ 276],\n",
       "       [ 277],\n",
       "       [ 278],\n",
       "       [ 279],\n",
       "       [ 280],\n",
       "       [ 281],\n",
       "       [ 282],\n",
       "       [ 283],\n",
       "       [ 284],\n",
       "       [ 285],\n",
       "       [ 286],\n",
       "       [ 287],\n",
       "       [ 288],\n",
       "       [ 289],\n",
       "       [ 290],\n",
       "       [ 291],\n",
       "       [ 292],\n",
       "       [ 293],\n",
       "       [ 294],\n",
       "       [ 295],\n",
       "       [ 296],\n",
       "       [ 297],\n",
       "       [ 298],\n",
       "       [ 299],\n",
       "       [ 300],\n",
       "       [ 301],\n",
       "       [ 302],\n",
       "       [ 303],\n",
       "       [ 304]])"
      ]
     },
     "execution_count": 42,
     "metadata": {},
     "output_type": "execute_result"
    }
   ],
   "source": [
    "y"
   ]
  },
  {
   "cell_type": "code",
   "execution_count": 43,
   "metadata": {
    "scrolled": false
   },
   "outputs": [
    {
     "data": {
      "text/plain": [
       "array([[-198, -197, -196, -195, -194, -193, -192, -191, -190, -189, -188,\n",
       "        -187, -186, -185, -184, -183, -182, -181, -180, -179, -178, -177,\n",
       "        -176, -175, -174, -173, -172, -171, -170, -169, -168, -167, -166,\n",
       "        -165, -164, -163, -162, -161, -160, -159, -158, -157, -156, -155,\n",
       "        -154, -153, -152, -151, -150, -149, -148, -147, -146, -145, -144,\n",
       "        -143, -142, -141, -140, -139, -138, -137, -136, -135, -134, -133,\n",
       "        -132, -131, -130, -129, -128, -127, -126, -125, -124, -123, -122,\n",
       "        -121, -120, -119, -118, -117, -116, -115, -114, -113, -112, -111,\n",
       "        -110, -109, -108, -107, -106, -105, -104, -103, -102, -101, -100,\n",
       "         -99,  -98,  -97,  -96,  -95,  -94,  -93,  -92,  -91,  -90,  -89,\n",
       "         -88,  -87,  -86,  -85,  -84,  -83,  -82,  -81,  -80,  -79,  -78,\n",
       "         -77,  -76,  -75,  -74,  -73,  -72,  -71,  -70,  -69,  -68,  -67,\n",
       "         -66,  -65,  -64,  -63,  -62,  -61,  -60,  -59,  -58,  -57,  -56,\n",
       "         -55,  -54,  -53,  -52,  -51,  -50,  -49,  -48,  -47,  -46,  -45,\n",
       "         -44,  -43,  -42,  -41,  -40,  -39,  -38,  -37,  -36,  -35,  -34,\n",
       "         -33,  -32,  -31,  -30,  -29,  -28,  -27,  -26,  -25,  -24,  -23,\n",
       "         -22,  -21,  -20,  -19,  -18,  -17,  -16,  -15,  -14,  -13,  -12,\n",
       "         -11,  -10,   -9,   -8,   -7,   -6,   -5,   -4,   -3,   -2,   -1,\n",
       "           0,    1,    2,    3,    4,    5,    6,    7,    8,    9,   10,\n",
       "          11,   12,   13,   14,   15,   16,   17,   18,   19,   20,   21,\n",
       "          22,   23,   24,   25,   26,   27,   28,   29,   30,   31,   32,\n",
       "          33,   34,   35,   36,   37,   38,   39,   40,   41,   42,   43,\n",
       "          44,   45,   46,   47,   48,   49,   50,   51,   52,   53,   54,\n",
       "          55,   56,   57,   58,   59,   60,   61,   62,   63,   64,   65,\n",
       "          66,   67,   68,   69,   70,   71,   72,   73,   74,   75,   76,\n",
       "          77,   78,   79,   80,   81,   82,   83,   84,   85,   86,   87,\n",
       "          88,   89,   90,   91,   92,   93,   94,   95,   96,   97,   98,\n",
       "          99,  100,  101,  102,  103,  104,  105,  106,  107,  108,  109,\n",
       "         110,  111,  112,  113,  114,  115,  116,  117,  118,  119,  120,\n",
       "         121,  122,  123,  124,  125,  126,  127,  128,  129,  130,  131,\n",
       "         132,  133,  134,  135,  136,  137,  138,  139,  140,  141,  142,\n",
       "         143,  144,  145,  146,  147,  148,  149,  150,  151,  152,  153,\n",
       "         154,  155,  156,  157,  158,  159,  160,  161,  162,  163,  164,\n",
       "         165,  166,  167,  168,  169,  170,  171,  172,  173,  174,  175,\n",
       "         176,  177,  178,  179,  180,  181,  182,  183,  184,  185,  186,\n",
       "         187,  188,  189,  190,  191,  192,  193,  194,  195,  196,  197,\n",
       "         198,  199,  200,  201,  202,  203,  204,  205,  206,  207,  208,\n",
       "         209,  210,  211,  212,  213,  214,  215,  216,  217,  218,  219,\n",
       "         220,  221,  222,  223,  224,  225,  226,  227,  228,  229,  230,\n",
       "         231,  232,  233,  234,  235,  236,  237,  238,  239,  240,  241,\n",
       "         242,  243,  244,  245,  246,  247,  248,  249,  250,  251,  252,\n",
       "         253,  254,  255,  256,  257,  258,  259,  260,  261,  262,  263,\n",
       "         264,  265,  266,  267,  268,  269,  270,  271,  272,  273,  274,\n",
       "         275,  276,  277,  278,  279,  280,  281,  282,  283,  284,  285,\n",
       "         286,  287,  288,  289,  290,  291,  292,  293,  294,  295,  296,\n",
       "         297,  298,  299,  300,  301,  302,  303,  304,  305,  306,  307,\n",
       "         308,  309,  310,  311,  312,  313,  314,  315,  316,  317,  318,\n",
       "         319,  320,  321,  322,  323,  324,  325,  326,  327,  328,  329,\n",
       "         330,  331,  332,  333,  334,  335,  336,  337,  338,  339,  340,\n",
       "         341,  342,  343,  344,  345,  346,  347,  348,  349,  350,  351,\n",
       "         352,  353,  354,  355,  356,  357,  358,  359,  360,  361,  362,\n",
       "         363,  364,  365,  366,  367,  368,  369,  370,  371,  372,  373]])"
      ]
     },
     "execution_count": 43,
     "metadata": {},
     "output_type": "execute_result"
    }
   ],
   "source": [
    "x"
   ]
  },
  {
   "cell_type": "code",
   "execution_count": 44,
   "metadata": {
    "collapsed": true
   },
   "outputs": [],
   "source": [
    "m = x*x + y*y <= r*r\n",
    "mask = np.logical_or(mask, m)\n",
    "\n",
    "image[m] = h\n",
    "\n",
    "label[mask, 1] = 1"
   ]
  },
  {
   "cell_type": "code",
   "execution_count": 46,
   "metadata": {
    "collapsed": true
   },
   "outputs": [],
   "source": [
    "image += np.random.normal(scale=sigma, size=image.shape)\n",
    "image -= np.amin(image)\n",
    "image /= np.amax(image)"
   ]
  },
  {
   "cell_type": "code",
   "execution_count": 54,
   "metadata": {},
   "outputs": [
    {
     "data": {
      "text/plain": [
       "<matplotlib.image.AxesImage at 0x7f07945386d8>"
      ]
     },
     "execution_count": 54,
     "metadata": {},
     "output_type": "execute_result"
    },
    {
     "data": {
      "image/png": "[encoded data removed]",
      "text/plain": [
       "<matplotlib.figure.Figure at 0x7f07948bb518>"
      ]
     },
     "metadata": {},
     "output_type": "display_data"
    }
   ],
   "source": [
    "plt.imshow(to_rgb(image))"
   ]
  },
  {
   "cell_type": "code",
   "execution_count": 48,
   "metadata": {},
   "outputs": [
    {
     "data": {
      "text/plain": [
       "array([[[False, False, False],\n",
       "        [False, False, False],\n",
       "        [False, False, False],\n",
       "        ...,\n",
       "        [False, False, False],\n",
       "        [False, False, False],\n",
       "        [False, False, False]],\n",
       "\n",
       "       [[False, False, False],\n",
       "        [False, False, False],\n",
       "        [False, False, False],\n",
       "        ...,\n",
       "        [False, False, False],\n",
       "        [False, False, False],\n",
       "        [False, False, False]],\n",
       "\n",
       "       [[False, False, False],\n",
       "        [False, False, False],\n",
       "        [False, False, False],\n",
       "        ...,\n",
       "        [False, False, False],\n",
       "        [False, False, False],\n",
       "        [False, False, False]],\n",
       "\n",
       "       ...,\n",
       "\n",
       "       [[False, False, False],\n",
       "        [False, False, False],\n",
       "        [False, False, False],\n",
       "        ...,\n",
       "        [False, False, False],\n",
       "        [False, False, False],\n",
       "        [False, False, False]],\n",
       "\n",
       "       [[False, False, False],\n",
       "        [False, False, False],\n",
       "        [False, False, False],\n",
       "        ...,\n",
       "        [False, False, False],\n",
       "        [False, False, False],\n",
       "        [False, False, False]],\n",
       "\n",
       "       [[False, False, False],\n",
       "        [False, False, False],\n",
       "        [False, False, False],\n",
       "        ...,\n",
       "        [False, False, False],\n",
       "        [False, False, False],\n",
       "        [False, False, False]]])"
      ]
     },
     "execution_count": 48,
     "metadata": {},
     "output_type": "execute_result"
    }
   ],
   "source": [
    "label[...]"
   ]
  },
  {
   "cell_type": "code",
   "execution_count": 49,
   "metadata": {
    "collapsed": true
   },
   "outputs": [],
   "source": [
    "a = np.array([[[1,2,3], [4,5,6], [7,8,9]], [[1,2,3], [4,5,6], [7,8,9]]])"
   ]
  },
  {
   "cell_type": "code",
   "execution_count": 50,
   "metadata": {},
   "outputs": [
    {
     "data": {
      "text/plain": [
       "array([[[1, 2, 3],\n",
       "        [4, 5, 6],\n",
       "        [7, 8, 9]],\n",
       "\n",
       "       [[1, 2, 3],\n",
       "        [4, 5, 6],\n",
       "        [7, 8, 9]]])"
      ]
     },
     "execution_count": 50,
     "metadata": {},
     "output_type": "execute_result"
    }
   ],
   "source": [
    "a"
   ]
  },
  {
   "cell_type": "code",
   "execution_count": 51,
   "metadata": {},
   "outputs": [
    {
     "data": {
      "text/plain": [
       "(2, 3, 3)"
      ]
     },
     "execution_count": 51,
     "metadata": {},
     "output_type": "execute_result"
    }
   ],
   "source": [
    "a.shape"
   ]
  },
  {
   "cell_type": "code",
   "execution_count": 52,
   "metadata": {},
   "outputs": [
    {
     "data": {
      "text/plain": [
       "array([[[1, 2, 3],\n",
       "        [4, 5, 6],\n",
       "        [7, 8, 9]],\n",
       "\n",
       "       [[1, 2, 3],\n",
       "        [4, 5, 6],\n",
       "        [7, 8, 9]]])"
      ]
     },
     "execution_count": 52,
     "metadata": {},
     "output_type": "execute_result"
    }
   ],
   "source": [
    "a[...]"
   ]
  },
  {
   "cell_type": "code",
   "execution_count": 53,
   "metadata": {},
   "outputs": [
    {
     "data": {
      "text/plain": [
       "array([[2, 5, 8],\n",
       "       [2, 5, 8]])"
      ]
     },
     "execution_count": 53,
     "metadata": {},
     "output_type": "execute_result"
    }
   ],
   "source": [
    "a[...,1]"
   ]
  },
  {
   "cell_type": "code",
   "execution_count": 55,
   "metadata": {},
   "outputs": [
    {
     "data": {
      "text/plain": [
       "array([[3, 6, 9],\n",
       "       [3, 6, 9]])"
      ]
     },
     "execution_count": 55,
     "metadata": {},
     "output_type": "execute_result"
    }
   ],
   "source": [
    "a[...,2]"
   ]
  },
  {
   "cell_type": "code",
   "execution_count": 38,
   "metadata": {},
   "outputs": [
    {
     "data": {
      "text/plain": [
       "424"
      ]
     },
     "execution_count": 38,
     "metadata": {},
     "output_type": "execute_result"
    }
   ],
   "source": [
    "a"
   ]
  },
  {
   "cell_type": "code",
   "execution_count": 39,
   "metadata": {},
   "outputs": [
    {
     "data": {
      "text/plain": [
       "269"
      ]
     },
     "execution_count": 39,
     "metadata": {},
     "output_type": "execute_result"
    }
   ],
   "source": [
    "b"
   ]
  },
  {
   "cell_type": "code",
   "execution_count": null,
   "metadata": {
    "collapsed": true
   },
   "outputs": [],
   "source": []
  },
  {
   "cell_type": "code",
   "execution_count": 35,
   "metadata": {
    "collapsed": true
   },
   "outputs": [],
   "source": [
    "def to_rgb(img):\n",
    "    img = img.reshape(img.shape[0], img.shape[1])\n",
    "    img[np.isnan(img)] = 0\n",
    "    img -= np.amin(img)\n",
    "    img /= np.amax(img)\n",
    "    blue = np.clip(4*(0.75-img), 0, 1)\n",
    "    red  = np.clip(4*(img-0.25), 0, 1)\n",
    "    green= np.clip(44*np.fabs(img-0.5)-1., 0, 1)\n",
    "    rgb = np.stack((red, green, blue), axis=2)\n",
    "    return rgb"
   ]
  },
  {
   "cell_type": "code",
   "execution_count": null,
   "metadata": {
    "collapsed": true
   },
   "outputs": [],
   "source": []
  },
  {
   "cell_type": "code",
   "execution_count": 27,
   "metadata": {
    "collapsed": true
   },
   "outputs": [],
   "source": [
    "%matplotlib inline"
   ]
  },
  {
   "cell_type": "code",
   "execution_count": 32,
   "metadata": {},
   "outputs": [
    {
     "data": {
      "text/plain": [
       "(572, 572)"
      ]
     },
     "execution_count": 32,
     "metadata": {},
     "output_type": "execute_result"
    }
   ],
   "source": [
    "image[:,:,0].shape"
   ]
  },
  {
   "cell_type": "code",
   "execution_count": 33,
   "metadata": {},
   "outputs": [
    {
     "data": {
      "text/plain": [
       "<matplotlib.image.AxesImage at 0x7f07948f2ac8>"
      ]
     },
     "execution_count": 33,
     "metadata": {},
     "output_type": "execute_result"
    },
    {
     "data": {
      "image/png": "[encoded data removed]",
      "text/plain": [
       "<matplotlib.figure.Figure at 0x7f079492a550>"
      ]
     },
     "metadata": {},
     "output_type": "display_data"
    }
   ],
   "source": [
    "plt.imshow(image[:,:,0])"
   ]
  },
  {
   "cell_type": "code",
   "execution_count": 28,
   "metadata": {},
   "outputs": [
    {
     "data": {
      "text/plain": [
       "<matplotlib.image.AxesImage at 0x7f0795274f98>"
      ]
     },
     "execution_count": 28,
     "metadata": {},
     "output_type": "execute_result"
    },
    {
     "data": {
      "image/png": "[encoded data removed]",
      "text/plain": [
       "<matplotlib.figure.Figure at 0x7f07952b8198>"
      ]
     },
     "metadata": {},
     "output_type": "display_data"
    }
   ],
   "source": [
    "plt.imshow(mask)"
   ]
  },
  {
   "cell_type": "code",
   "execution_count": 29,
   "metadata": {},
   "outputs": [
    {
     "data": {
      "text/plain": [
       "<matplotlib.image.AxesImage at 0x7f0794a57da0>"
      ]
     },
     "execution_count": 29,
     "metadata": {},
     "output_type": "execute_result"
    },
    {
     "name": "stdout",
     "output_type": "stream",
     "text": [
      "Error in callback <function install_repl_displayhook.<locals>.post_execute at 0x7f07aa716a60> (for post_execute):\n"
     ]
    },
    {
     "ename": "ValueError",
     "evalue": "3-dimensional arrays must be of dtype unsigned byte, unsigned short, float32 or float64",
     "output_type": "error",
     "traceback": [
      "\u001b[0;31m---------------------------------------------------------------------------\u001b[0m",
      "\u001b[0;31mValueError\u001b[0m                                Traceback (most recent call last)",
      "\u001b[0;32m~/anaconda/lib/python3.6/site-packages/matplotlib/pyplot.py\u001b[0m in \u001b[0;36mpost_execute\u001b[0;34m()\u001b[0m\n\u001b[1;32m    145\u001b[0m             \u001b[0;32mdef\u001b[0m \u001b[0mpost_execute\u001b[0m\u001b[0;34m(\u001b[0m\u001b[0;34m)\u001b[0m\u001b[0;34m:\u001b[0m\u001b[0;34m\u001b[0m\u001b[0m\n\u001b[1;32m    146\u001b[0m                 \u001b[0;32mif\u001b[0m \u001b[0mmatplotlib\u001b[0m\u001b[0;34m.\u001b[0m\u001b[0mis_interactive\u001b[0m\u001b[0;34m(\u001b[0m\u001b[0;34m)\u001b[0m\u001b[0;34m:\u001b[0m\u001b[0;34m\u001b[0m\u001b[0m\n\u001b[0;32m--> 147\u001b[0;31m                     \u001b[0mdraw_all\u001b[0m\u001b[0;34m(\u001b[0m\u001b[0;34m)\u001b[0m\u001b[0;34m\u001b[0m\u001b[0m\n\u001b[0m\u001b[1;32m    148\u001b[0m \u001b[0;34m\u001b[0m\u001b[0m\n\u001b[1;32m    149\u001b[0m             \u001b[0;31m# IPython >= 2\u001b[0m\u001b[0;34m\u001b[0m\u001b[0;34m\u001b[0m\u001b[0m\n",
      "\u001b[0;32m~/anaconda/lib/python3.6/site-packages/matplotlib/_pylab_helpers.py\u001b[0m in \u001b[0;36mdraw_all\u001b[0;34m(cls, force)\u001b[0m\n\u001b[1;32m    148\u001b[0m         \u001b[0;32mfor\u001b[0m \u001b[0mf_mgr\u001b[0m \u001b[0;32min\u001b[0m \u001b[0mcls\u001b[0m\u001b[0;34m.\u001b[0m\u001b[0mget_all_fig_managers\u001b[0m\u001b[0;34m(\u001b[0m\u001b[0;34m)\u001b[0m\u001b[0;34m:\u001b[0m\u001b[0;34m\u001b[0m\u001b[0m\n\u001b[1;32m    149\u001b[0m             \u001b[0;32mif\u001b[0m \u001b[0mforce\u001b[0m \u001b[0;32mor\u001b[0m \u001b[0mf_mgr\u001b[0m\u001b[0;34m.\u001b[0m\u001b[0mcanvas\u001b[0m\u001b[0;34m.\u001b[0m\u001b[0mfigure\u001b[0m\u001b[0;34m.\u001b[0m\u001b[0mstale\u001b[0m\u001b[0;34m:\u001b[0m\u001b[0;34m\u001b[0m\u001b[0m\n\u001b[0;32m--> 150\u001b[0;31m                 \u001b[0mf_mgr\u001b[0m\u001b[0;34m.\u001b[0m\u001b[0mcanvas\u001b[0m\u001b[0;34m.\u001b[0m\u001b[0mdraw_idle\u001b[0m\u001b[0;34m(\u001b[0m\u001b[0;34m)\u001b[0m\u001b[0;34m\u001b[0m\u001b[0m\n\u001b[0m\u001b[1;32m    151\u001b[0m \u001b[0;34m\u001b[0m\u001b[0m\n\u001b[1;32m    152\u001b[0m \u001b[0matexit\u001b[0m\u001b[0;34m.\u001b[0m\u001b[0mregister\u001b[0m\u001b[0;34m(\u001b[0m\u001b[0mGcf\u001b[0m\u001b[0;34m.\u001b[0m\u001b[0mdestroy_all\u001b[0m\u001b[0;34m)\u001b[0m\u001b[0;34m\u001b[0m\u001b[0m\n",
      "\u001b[0;32m~/anaconda/lib/python3.6/site-packages/matplotlib/backend_bases.py\u001b[0m in \u001b[0;36mdraw_idle\u001b[0;34m(self, *args, **kwargs)\u001b[0m\n\u001b[1;32m   2051\u001b[0m         \u001b[0;32mif\u001b[0m \u001b[0;32mnot\u001b[0m \u001b[0mself\u001b[0m\u001b[0;34m.\u001b[0m\u001b[0m_is_idle_drawing\u001b[0m\u001b[0;34m:\u001b[0m\u001b[0;34m\u001b[0m\u001b[0m\n\u001b[1;32m   2052\u001b[0m             \u001b[0;32mwith\u001b[0m \u001b[0mself\u001b[0m\u001b[0;34m.\u001b[0m\u001b[0m_idle_draw_cntx\u001b[0m\u001b[0;34m(\u001b[0m\u001b[0;34m)\u001b[0m\u001b[0;34m:\u001b[0m\u001b[0;34m\u001b[0m\u001b[0m\n\u001b[0;32m-> 2053\u001b[0;31m                 \u001b[0mself\u001b[0m\u001b[0;34m.\u001b[0m\u001b[0mdraw\u001b[0m\u001b[0;34m(\u001b[0m\u001b[0;34m*\u001b[0m\u001b[0margs\u001b[0m\u001b[0;34m,\u001b[0m \u001b[0;34m**\u001b[0m\u001b[0mkwargs\u001b[0m\u001b[0;34m)\u001b[0m\u001b[0;34m\u001b[0m\u001b[0m\n\u001b[0m\u001b[1;32m   2054\u001b[0m \u001b[0;34m\u001b[0m\u001b[0m\n\u001b[1;32m   2055\u001b[0m     \u001b[0;32mdef\u001b[0m \u001b[0mdraw_cursor\u001b[0m\u001b[0;34m(\u001b[0m\u001b[0mself\u001b[0m\u001b[0;34m,\u001b[0m \u001b[0mevent\u001b[0m\u001b[0;34m)\u001b[0m\u001b[0;34m:\u001b[0m\u001b[0;34m\u001b[0m\u001b[0m\n",
      "\u001b[0;32m~/anaconda/lib/python3.6/site-packages/matplotlib/backends/backend_agg.py\u001b[0m in \u001b[0;36mdraw\u001b[0;34m(self)\u001b[0m\n\u001b[1;32m    428\u001b[0m             \u001b[0;32mif\u001b[0m \u001b[0mtoolbar\u001b[0m\u001b[0;34m:\u001b[0m\u001b[0;34m\u001b[0m\u001b[0m\n\u001b[1;32m    429\u001b[0m                 \u001b[0mtoolbar\u001b[0m\u001b[0;34m.\u001b[0m\u001b[0mset_cursor\u001b[0m\u001b[0;34m(\u001b[0m\u001b[0mcursors\u001b[0m\u001b[0;34m.\u001b[0m\u001b[0mWAIT\u001b[0m\u001b[0;34m)\u001b[0m\u001b[0;34m\u001b[0m\u001b[0m\n\u001b[0;32m--> 430\u001b[0;31m             \u001b[0mself\u001b[0m\u001b[0;34m.\u001b[0m\u001b[0mfigure\u001b[0m\u001b[0;34m.\u001b[0m\u001b[0mdraw\u001b[0m\u001b[0;34m(\u001b[0m\u001b[0mself\u001b[0m\u001b[0;34m.\u001b[0m\u001b[0mrenderer\u001b[0m\u001b[0;34m)\u001b[0m\u001b[0;34m\u001b[0m\u001b[0m\n\u001b[0m\u001b[1;32m    431\u001b[0m         \u001b[0;32mfinally\u001b[0m\u001b[0;34m:\u001b[0m\u001b[0;34m\u001b[0m\u001b[0m\n\u001b[1;32m    432\u001b[0m             \u001b[0;32mif\u001b[0m \u001b[0mtoolbar\u001b[0m\u001b[0;34m:\u001b[0m\u001b[0;34m\u001b[0m\u001b[0m\n",
      "\u001b[0;32m~/anaconda/lib/python3.6/site-packages/matplotlib/artist.py\u001b[0m in \u001b[0;36mdraw_wrapper\u001b[0;34m(artist, renderer, *args, **kwargs)\u001b[0m\n\u001b[1;32m     53\u001b[0m                 \u001b[0mrenderer\u001b[0m\u001b[0;34m.\u001b[0m\u001b[0mstart_filter\u001b[0m\u001b[0;34m(\u001b[0m\u001b[0;34m)\u001b[0m\u001b[0;34m\u001b[0m\u001b[0m\n\u001b[1;32m     54\u001b[0m \u001b[0;34m\u001b[0m\u001b[0m\n\u001b[0;32m---> 55\u001b[0;31m             \u001b[0;32mreturn\u001b[0m \u001b[0mdraw\u001b[0m\u001b[0;34m(\u001b[0m\u001b[0martist\u001b[0m\u001b[0;34m,\u001b[0m \u001b[0mrenderer\u001b[0m\u001b[0;34m,\u001b[0m \u001b[0;34m*\u001b[0m\u001b[0margs\u001b[0m\u001b[0;34m,\u001b[0m \u001b[0;34m**\u001b[0m\u001b[0mkwargs\u001b[0m\u001b[0;34m)\u001b[0m\u001b[0;34m\u001b[0m\u001b[0m\n\u001b[0m\u001b[1;32m     56\u001b[0m         \u001b[0;32mfinally\u001b[0m\u001b[0;34m:\u001b[0m\u001b[0;34m\u001b[0m\u001b[0m\n\u001b[1;32m     57\u001b[0m             \u001b[0;32mif\u001b[0m \u001b[0martist\u001b[0m\u001b[0;34m.\u001b[0m\u001b[0mget_agg_filter\u001b[0m\u001b[0;34m(\u001b[0m\u001b[0;34m)\u001b[0m \u001b[0;32mis\u001b[0m \u001b[0;32mnot\u001b[0m \u001b[0;32mNone\u001b[0m\u001b[0;34m:\u001b[0m\u001b[0;34m\u001b[0m\u001b[0m\n",
      "\u001b[0;32m~/anaconda/lib/python3.6/site-packages/matplotlib/figure.py\u001b[0m in \u001b[0;36mdraw\u001b[0;34m(self, renderer)\u001b[0m\n\u001b[1;32m   1293\u001b[0m \u001b[0;34m\u001b[0m\u001b[0m\n\u001b[1;32m   1294\u001b[0m             mimage._draw_list_compositing_images(\n\u001b[0;32m-> 1295\u001b[0;31m                 renderer, self, artists, self.suppressComposite)\n\u001b[0m\u001b[1;32m   1296\u001b[0m \u001b[0;34m\u001b[0m\u001b[0m\n\u001b[1;32m   1297\u001b[0m             \u001b[0mrenderer\u001b[0m\u001b[0;34m.\u001b[0m\u001b[0mclose_group\u001b[0m\u001b[0;34m(\u001b[0m\u001b[0;34m'figure'\u001b[0m\u001b[0;34m)\u001b[0m\u001b[0;34m\u001b[0m\u001b[0m\n",
      "\u001b[0;32m~/anaconda/lib/python3.6/site-packages/matplotlib/image.py\u001b[0m in \u001b[0;36m_draw_list_compositing_images\u001b[0;34m(renderer, parent, artists, suppress_composite)\u001b[0m\n\u001b[1;32m    136\u001b[0m     \u001b[0;32mif\u001b[0m \u001b[0mnot_composite\u001b[0m \u001b[0;32mor\u001b[0m \u001b[0;32mnot\u001b[0m \u001b[0mhas_images\u001b[0m\u001b[0;34m:\u001b[0m\u001b[0;34m\u001b[0m\u001b[0m\n\u001b[1;32m    137\u001b[0m         \u001b[0;32mfor\u001b[0m \u001b[0ma\u001b[0m \u001b[0;32min\u001b[0m \u001b[0martists\u001b[0m\u001b[0;34m:\u001b[0m\u001b[0;34m\u001b[0m\u001b[0m\n\u001b[0;32m--> 138\u001b[0;31m             \u001b[0ma\u001b[0m\u001b[0;34m.\u001b[0m\u001b[0mdraw\u001b[0m\u001b[0;34m(\u001b[0m\u001b[0mrenderer\u001b[0m\u001b[0;34m)\u001b[0m\u001b[0;34m\u001b[0m\u001b[0m\n\u001b[0m\u001b[1;32m    139\u001b[0m     \u001b[0;32melse\u001b[0m\u001b[0;34m:\u001b[0m\u001b[0;34m\u001b[0m\u001b[0m\n\u001b[1;32m    140\u001b[0m         \u001b[0;31m# Composite any adjacent images together\u001b[0m\u001b[0;34m\u001b[0m\u001b[0;34m\u001b[0m\u001b[0m\n",
      "\u001b[0;32m~/anaconda/lib/python3.6/site-packages/matplotlib/artist.py\u001b[0m in \u001b[0;36mdraw_wrapper\u001b[0;34m(artist, renderer, *args, **kwargs)\u001b[0m\n\u001b[1;32m     53\u001b[0m                 \u001b[0mrenderer\u001b[0m\u001b[0;34m.\u001b[0m\u001b[0mstart_filter\u001b[0m\u001b[0;34m(\u001b[0m\u001b[0;34m)\u001b[0m\u001b[0;34m\u001b[0m\u001b[0m\n\u001b[1;32m     54\u001b[0m \u001b[0;34m\u001b[0m\u001b[0m\n\u001b[0;32m---> 55\u001b[0;31m             \u001b[0;32mreturn\u001b[0m \u001b[0mdraw\u001b[0m\u001b[0;34m(\u001b[0m\u001b[0martist\u001b[0m\u001b[0;34m,\u001b[0m \u001b[0mrenderer\u001b[0m\u001b[0;34m,\u001b[0m \u001b[0;34m*\u001b[0m\u001b[0margs\u001b[0m\u001b[0;34m,\u001b[0m \u001b[0;34m**\u001b[0m\u001b[0mkwargs\u001b[0m\u001b[0;34m)\u001b[0m\u001b[0;34m\u001b[0m\u001b[0m\n\u001b[0m\u001b[1;32m     56\u001b[0m         \u001b[0;32mfinally\u001b[0m\u001b[0;34m:\u001b[0m\u001b[0;34m\u001b[0m\u001b[0m\n\u001b[1;32m     57\u001b[0m             \u001b[0;32mif\u001b[0m \u001b[0martist\u001b[0m\u001b[0;34m.\u001b[0m\u001b[0mget_agg_filter\u001b[0m\u001b[0;34m(\u001b[0m\u001b[0;34m)\u001b[0m \u001b[0;32mis\u001b[0m \u001b[0;32mnot\u001b[0m \u001b[0;32mNone\u001b[0m\u001b[0;34m:\u001b[0m\u001b[0;34m\u001b[0m\u001b[0m\n",
      "\u001b[0;32m~/anaconda/lib/python3.6/site-packages/matplotlib/axes/_base.py\u001b[0m in \u001b[0;36mdraw\u001b[0;34m(self, renderer, inframe)\u001b[0m\n\u001b[1;32m   2397\u001b[0m             \u001b[0mrenderer\u001b[0m\u001b[0;34m.\u001b[0m\u001b[0mstop_rasterizing\u001b[0m\u001b[0;34m(\u001b[0m\u001b[0;34m)\u001b[0m\u001b[0;34m\u001b[0m\u001b[0m\n\u001b[1;32m   2398\u001b[0m \u001b[0;34m\u001b[0m\u001b[0m\n\u001b[0;32m-> 2399\u001b[0;31m         \u001b[0mmimage\u001b[0m\u001b[0;34m.\u001b[0m\u001b[0m_draw_list_compositing_images\u001b[0m\u001b[0;34m(\u001b[0m\u001b[0mrenderer\u001b[0m\u001b[0;34m,\u001b[0m \u001b[0mself\u001b[0m\u001b[0;34m,\u001b[0m \u001b[0martists\u001b[0m\u001b[0;34m)\u001b[0m\u001b[0;34m\u001b[0m\u001b[0m\n\u001b[0m\u001b[1;32m   2400\u001b[0m \u001b[0;34m\u001b[0m\u001b[0m\n\u001b[1;32m   2401\u001b[0m         \u001b[0mrenderer\u001b[0m\u001b[0;34m.\u001b[0m\u001b[0mclose_group\u001b[0m\u001b[0;34m(\u001b[0m\u001b[0;34m'axes'\u001b[0m\u001b[0;34m)\u001b[0m\u001b[0;34m\u001b[0m\u001b[0m\n",
      "\u001b[0;32m~/anaconda/lib/python3.6/site-packages/matplotlib/image.py\u001b[0m in \u001b[0;36m_draw_list_compositing_images\u001b[0;34m(renderer, parent, artists, suppress_composite)\u001b[0m\n\u001b[1;32m    136\u001b[0m     \u001b[0;32mif\u001b[0m \u001b[0mnot_composite\u001b[0m \u001b[0;32mor\u001b[0m \u001b[0;32mnot\u001b[0m \u001b[0mhas_images\u001b[0m\u001b[0;34m:\u001b[0m\u001b[0;34m\u001b[0m\u001b[0m\n\u001b[1;32m    137\u001b[0m         \u001b[0;32mfor\u001b[0m \u001b[0ma\u001b[0m \u001b[0;32min\u001b[0m \u001b[0martists\u001b[0m\u001b[0;34m:\u001b[0m\u001b[0;34m\u001b[0m\u001b[0m\n\u001b[0;32m--> 138\u001b[0;31m             \u001b[0ma\u001b[0m\u001b[0;34m.\u001b[0m\u001b[0mdraw\u001b[0m\u001b[0;34m(\u001b[0m\u001b[0mrenderer\u001b[0m\u001b[0;34m)\u001b[0m\u001b[0;34m\u001b[0m\u001b[0m\n\u001b[0m\u001b[1;32m    139\u001b[0m     \u001b[0;32melse\u001b[0m\u001b[0;34m:\u001b[0m\u001b[0;34m\u001b[0m\u001b[0m\n\u001b[1;32m    140\u001b[0m         \u001b[0;31m# Composite any adjacent images together\u001b[0m\u001b[0;34m\u001b[0m\u001b[0;34m\u001b[0m\u001b[0m\n",
      "\u001b[0;32m~/anaconda/lib/python3.6/site-packages/matplotlib/artist.py\u001b[0m in \u001b[0;36mdraw_wrapper\u001b[0;34m(artist, renderer, *args, **kwargs)\u001b[0m\n\u001b[1;32m     53\u001b[0m                 \u001b[0mrenderer\u001b[0m\u001b[0;34m.\u001b[0m\u001b[0mstart_filter\u001b[0m\u001b[0;34m(\u001b[0m\u001b[0;34m)\u001b[0m\u001b[0;34m\u001b[0m\u001b[0m\n\u001b[1;32m     54\u001b[0m \u001b[0;34m\u001b[0m\u001b[0m\n\u001b[0;32m---> 55\u001b[0;31m             \u001b[0;32mreturn\u001b[0m \u001b[0mdraw\u001b[0m\u001b[0;34m(\u001b[0m\u001b[0martist\u001b[0m\u001b[0;34m,\u001b[0m \u001b[0mrenderer\u001b[0m\u001b[0;34m,\u001b[0m \u001b[0;34m*\u001b[0m\u001b[0margs\u001b[0m\u001b[0;34m,\u001b[0m \u001b[0;34m**\u001b[0m\u001b[0mkwargs\u001b[0m\u001b[0;34m)\u001b[0m\u001b[0;34m\u001b[0m\u001b[0m\n\u001b[0m\u001b[1;32m     56\u001b[0m         \u001b[0;32mfinally\u001b[0m\u001b[0;34m:\u001b[0m\u001b[0;34m\u001b[0m\u001b[0m\n\u001b[1;32m     57\u001b[0m             \u001b[0;32mif\u001b[0m \u001b[0martist\u001b[0m\u001b[0;34m.\u001b[0m\u001b[0mget_agg_filter\u001b[0m\u001b[0;34m(\u001b[0m\u001b[0;34m)\u001b[0m \u001b[0;32mis\u001b[0m \u001b[0;32mnot\u001b[0m \u001b[0;32mNone\u001b[0m\u001b[0;34m:\u001b[0m\u001b[0;34m\u001b[0m\u001b[0m\n",
      "\u001b[0;32m~/anaconda/lib/python3.6/site-packages/matplotlib/image.py\u001b[0m in \u001b[0;36mdraw\u001b[0;34m(self, renderer, *args, **kwargs)\u001b[0m\n\u001b[1;32m    546\u001b[0m         \u001b[0;32melse\u001b[0m\u001b[0;34m:\u001b[0m\u001b[0;34m\u001b[0m\u001b[0m\n\u001b[1;32m    547\u001b[0m             im, l, b, trans = self.make_image(\n\u001b[0;32m--> 548\u001b[0;31m                 renderer, renderer.get_image_magnification())\n\u001b[0m\u001b[1;32m    549\u001b[0m             \u001b[0;32mif\u001b[0m \u001b[0mim\u001b[0m \u001b[0;32mis\u001b[0m \u001b[0;32mnot\u001b[0m \u001b[0;32mNone\u001b[0m\u001b[0;34m:\u001b[0m\u001b[0;34m\u001b[0m\u001b[0m\n\u001b[1;32m    550\u001b[0m                 \u001b[0mrenderer\u001b[0m\u001b[0;34m.\u001b[0m\u001b[0mdraw_image\u001b[0m\u001b[0;34m(\u001b[0m\u001b[0mgc\u001b[0m\u001b[0;34m,\u001b[0m \u001b[0ml\u001b[0m\u001b[0;34m,\u001b[0m \u001b[0mb\u001b[0m\u001b[0;34m,\u001b[0m \u001b[0mim\u001b[0m\u001b[0;34m)\u001b[0m\u001b[0;34m\u001b[0m\u001b[0m\n",
      "\u001b[0;32m~/anaconda/lib/python3.6/site-packages/matplotlib/image.py\u001b[0m in \u001b[0;36mmake_image\u001b[0;34m(self, renderer, magnification, unsampled)\u001b[0m\n\u001b[1;32m    772\u001b[0m         return self._make_image(\n\u001b[1;32m    773\u001b[0m             \u001b[0mself\u001b[0m\u001b[0;34m.\u001b[0m\u001b[0m_A\u001b[0m\u001b[0;34m,\u001b[0m \u001b[0mbbox\u001b[0m\u001b[0;34m,\u001b[0m \u001b[0mtransformed_bbox\u001b[0m\u001b[0;34m,\u001b[0m \u001b[0mself\u001b[0m\u001b[0;34m.\u001b[0m\u001b[0maxes\u001b[0m\u001b[0;34m.\u001b[0m\u001b[0mbbox\u001b[0m\u001b[0;34m,\u001b[0m \u001b[0mmagnification\u001b[0m\u001b[0;34m,\u001b[0m\u001b[0;34m\u001b[0m\u001b[0m\n\u001b[0;32m--> 774\u001b[0;31m             unsampled=unsampled)\n\u001b[0m\u001b[1;32m    775\u001b[0m \u001b[0;34m\u001b[0m\u001b[0m\n\u001b[1;32m    776\u001b[0m     \u001b[0;32mdef\u001b[0m \u001b[0m_check_unsampled_image\u001b[0m\u001b[0;34m(\u001b[0m\u001b[0mself\u001b[0m\u001b[0;34m,\u001b[0m \u001b[0mrenderer\u001b[0m\u001b[0;34m)\u001b[0m\u001b[0;34m:\u001b[0m\u001b[0;34m\u001b[0m\u001b[0m\n",
      "\u001b[0;32m~/anaconda/lib/python3.6/site-packages/matplotlib/image.py\u001b[0m in \u001b[0;36m_make_image\u001b[0;34m(self, A, in_bbox, out_bbox, clip_bbox, magnification, unsampled, round_to_pixel_border)\u001b[0m\n\u001b[1;32m    459\u001b[0m                     \u001b[0mA\u001b[0m\u001b[0;34m,\u001b[0m \u001b[0moutput\u001b[0m\u001b[0;34m,\u001b[0m \u001b[0mt\u001b[0m\u001b[0;34m,\u001b[0m \u001b[0m_interpd_\u001b[0m\u001b[0;34m[\u001b[0m\u001b[0mself\u001b[0m\u001b[0;34m.\u001b[0m\u001b[0mget_interpolation\u001b[0m\u001b[0;34m(\u001b[0m\u001b[0;34m)\u001b[0m\u001b[0;34m]\u001b[0m\u001b[0;34m,\u001b[0m\u001b[0;34m\u001b[0m\u001b[0m\n\u001b[1;32m    460\u001b[0m                     \u001b[0mself\u001b[0m\u001b[0;34m.\u001b[0m\u001b[0mget_resample\u001b[0m\u001b[0;34m(\u001b[0m\u001b[0;34m)\u001b[0m\u001b[0;34m,\u001b[0m \u001b[0malpha\u001b[0m\u001b[0;34m,\u001b[0m\u001b[0;34m\u001b[0m\u001b[0m\n\u001b[0;32m--> 461\u001b[0;31m                     self.get_filternorm() or 0.0, self.get_filterrad() or 0.0)\n\u001b[0m\u001b[1;32m    462\u001b[0m \u001b[0;34m\u001b[0m\u001b[0m\n\u001b[1;32m    463\u001b[0m             \u001b[0;31m# at this point output is either a 2D array of normed data\u001b[0m\u001b[0;34m\u001b[0m\u001b[0;34m\u001b[0m\u001b[0m\n",
      "\u001b[0;31mValueError\u001b[0m: 3-dimensional arrays must be of dtype unsigned byte, unsigned short, float32 or float64"
     ]
    },
    {
     "ename": "ValueError",
     "evalue": "3-dimensional arrays must be of dtype unsigned byte, unsigned short, float32 or float64",
     "output_type": "error",
     "traceback": [
      "\u001b[0;31m---------------------------------------------------------------------------\u001b[0m",
      "\u001b[0;31mValueError\u001b[0m                                Traceback (most recent call last)",
      "\u001b[0;32m~/anaconda/lib/python3.6/site-packages/IPython/core/formatters.py\u001b[0m in \u001b[0;36m__call__\u001b[0;34m(self, obj)\u001b[0m\n\u001b[1;32m    330\u001b[0m                 \u001b[0;32mpass\u001b[0m\u001b[0;34m\u001b[0m\u001b[0m\n\u001b[1;32m    331\u001b[0m             \u001b[0;32melse\u001b[0m\u001b[0;34m:\u001b[0m\u001b[0;34m\u001b[0m\u001b[0m\n\u001b[0;32m--> 332\u001b[0;31m                 \u001b[0;32mreturn\u001b[0m \u001b[0mprinter\u001b[0m\u001b[0;34m(\u001b[0m\u001b[0mobj\u001b[0m\u001b[0;34m)\u001b[0m\u001b[0;34m\u001b[0m\u001b[0m\n\u001b[0m\u001b[1;32m    333\u001b[0m             \u001b[0;31m# Finally look for special method names\u001b[0m\u001b[0;34m\u001b[0m\u001b[0;34m\u001b[0m\u001b[0m\n\u001b[1;32m    334\u001b[0m             \u001b[0mmethod\u001b[0m \u001b[0;34m=\u001b[0m \u001b[0mget_real_method\u001b[0m\u001b[0;34m(\u001b[0m\u001b[0mobj\u001b[0m\u001b[0;34m,\u001b[0m \u001b[0mself\u001b[0m\u001b[0;34m.\u001b[0m\u001b[0mprint_method\u001b[0m\u001b[0;34m)\u001b[0m\u001b[0;34m\u001b[0m\u001b[0m\n",
      "\u001b[0;32m~/anaconda/lib/python3.6/site-packages/IPython/core/pylabtools.py\u001b[0m in \u001b[0;36m<lambda>\u001b[0;34m(fig)\u001b[0m\n\u001b[1;32m    235\u001b[0m \u001b[0;34m\u001b[0m\u001b[0m\n\u001b[1;32m    236\u001b[0m     \u001b[0;32mif\u001b[0m \u001b[0;34m'png'\u001b[0m \u001b[0;32min\u001b[0m \u001b[0mformats\u001b[0m\u001b[0;34m:\u001b[0m\u001b[0;34m\u001b[0m\u001b[0m\n\u001b[0;32m--> 237\u001b[0;31m         \u001b[0mpng_formatter\u001b[0m\u001b[0;34m.\u001b[0m\u001b[0mfor_type\u001b[0m\u001b[0;34m(\u001b[0m\u001b[0mFigure\u001b[0m\u001b[0;34m,\u001b[0m \u001b[0;32mlambda\u001b[0m \u001b[0mfig\u001b[0m\u001b[0;34m:\u001b[0m \u001b[0mprint_figure\u001b[0m\u001b[0;34m(\u001b[0m\u001b[0mfig\u001b[0m\u001b[0;34m,\u001b[0m \u001b[0;34m'png'\u001b[0m\u001b[0;34m,\u001b[0m \u001b[0;34m**\u001b[0m\u001b[0mkwargs\u001b[0m\u001b[0;34m)\u001b[0m\u001b[0;34m)\u001b[0m\u001b[0;34m\u001b[0m\u001b[0m\n\u001b[0m\u001b[1;32m    238\u001b[0m     \u001b[0;32mif\u001b[0m \u001b[0;34m'retina'\u001b[0m \u001b[0;32min\u001b[0m \u001b[0mformats\u001b[0m \u001b[0;32mor\u001b[0m \u001b[0;34m'png2x'\u001b[0m \u001b[0;32min\u001b[0m \u001b[0mformats\u001b[0m\u001b[0;34m:\u001b[0m\u001b[0;34m\u001b[0m\u001b[0m\n\u001b[1;32m    239\u001b[0m         \u001b[0mpng_formatter\u001b[0m\u001b[0;34m.\u001b[0m\u001b[0mfor_type\u001b[0m\u001b[0;34m(\u001b[0m\u001b[0mFigure\u001b[0m\u001b[0;34m,\u001b[0m \u001b[0;32mlambda\u001b[0m \u001b[0mfig\u001b[0m\u001b[0;34m:\u001b[0m \u001b[0mretina_figure\u001b[0m\u001b[0;34m(\u001b[0m\u001b[0mfig\u001b[0m\u001b[0;34m,\u001b[0m \u001b[0;34m**\u001b[0m\u001b[0mkwargs\u001b[0m\u001b[0;34m)\u001b[0m\u001b[0;34m)\u001b[0m\u001b[0;34m\u001b[0m\u001b[0m\n",
      "\u001b[0;32m~/anaconda/lib/python3.6/site-packages/IPython/core/pylabtools.py\u001b[0m in \u001b[0;36mprint_figure\u001b[0;34m(fig, fmt, bbox_inches, **kwargs)\u001b[0m\n\u001b[1;32m    119\u001b[0m \u001b[0;34m\u001b[0m\u001b[0m\n\u001b[1;32m    120\u001b[0m     \u001b[0mbytes_io\u001b[0m \u001b[0;34m=\u001b[0m \u001b[0mBytesIO\u001b[0m\u001b[0;34m(\u001b[0m\u001b[0;34m)\u001b[0m\u001b[0;34m\u001b[0m\u001b[0m\n\u001b[0;32m--> 121\u001b[0;31m     \u001b[0mfig\u001b[0m\u001b[0;34m.\u001b[0m\u001b[0mcanvas\u001b[0m\u001b[0;34m.\u001b[0m\u001b[0mprint_figure\u001b[0m\u001b[0;34m(\u001b[0m\u001b[0mbytes_io\u001b[0m\u001b[0;34m,\u001b[0m \u001b[0;34m**\u001b[0m\u001b[0mkw\u001b[0m\u001b[0;34m)\u001b[0m\u001b[0;34m\u001b[0m\u001b[0m\n\u001b[0m\u001b[1;32m    122\u001b[0m     \u001b[0mdata\u001b[0m \u001b[0;34m=\u001b[0m \u001b[0mbytes_io\u001b[0m\u001b[0;34m.\u001b[0m\u001b[0mgetvalue\u001b[0m\u001b[0;34m(\u001b[0m\u001b[0;34m)\u001b[0m\u001b[0;34m\u001b[0m\u001b[0m\n\u001b[1;32m    123\u001b[0m     \u001b[0;32mif\u001b[0m \u001b[0mfmt\u001b[0m \u001b[0;34m==\u001b[0m \u001b[0;34m'svg'\u001b[0m\u001b[0;34m:\u001b[0m\u001b[0;34m\u001b[0m\u001b[0m\n",
      "\u001b[0;32m~/anaconda/lib/python3.6/site-packages/matplotlib/backend_bases.py\u001b[0m in \u001b[0;36mprint_figure\u001b[0;34m(self, filename, dpi, facecolor, edgecolor, orientation, format, **kwargs)\u001b[0m\n\u001b[1;32m   2206\u001b[0m                     \u001b[0morientation\u001b[0m\u001b[0;34m=\u001b[0m\u001b[0morientation\u001b[0m\u001b[0;34m,\u001b[0m\u001b[0;34m\u001b[0m\u001b[0m\n\u001b[1;32m   2207\u001b[0m                     \u001b[0mdryrun\u001b[0m\u001b[0;34m=\u001b[0m\u001b[0;32mTrue\u001b[0m\u001b[0;34m,\u001b[0m\u001b[0;34m\u001b[0m\u001b[0m\n\u001b[0;32m-> 2208\u001b[0;31m                     **kwargs)\n\u001b[0m\u001b[1;32m   2209\u001b[0m                 \u001b[0mrenderer\u001b[0m \u001b[0;34m=\u001b[0m \u001b[0mself\u001b[0m\u001b[0;34m.\u001b[0m\u001b[0mfigure\u001b[0m\u001b[0;34m.\u001b[0m\u001b[0m_cachedRenderer\u001b[0m\u001b[0;34m\u001b[0m\u001b[0m\n\u001b[1;32m   2210\u001b[0m                 \u001b[0mbbox_inches\u001b[0m \u001b[0;34m=\u001b[0m \u001b[0mself\u001b[0m\u001b[0;34m.\u001b[0m\u001b[0mfigure\u001b[0m\u001b[0;34m.\u001b[0m\u001b[0mget_tightbbox\u001b[0m\u001b[0;34m(\u001b[0m\u001b[0mrenderer\u001b[0m\u001b[0;34m)\u001b[0m\u001b[0;34m\u001b[0m\u001b[0m\n",
      "\u001b[0;32m~/anaconda/lib/python3.6/site-packages/matplotlib/backends/backend_agg.py\u001b[0m in \u001b[0;36mprint_png\u001b[0;34m(self, filename_or_obj, *args, **kwargs)\u001b[0m\n\u001b[1;32m    505\u001b[0m \u001b[0;34m\u001b[0m\u001b[0m\n\u001b[1;32m    506\u001b[0m     \u001b[0;32mdef\u001b[0m \u001b[0mprint_png\u001b[0m\u001b[0;34m(\u001b[0m\u001b[0mself\u001b[0m\u001b[0;34m,\u001b[0m \u001b[0mfilename_or_obj\u001b[0m\u001b[0;34m,\u001b[0m \u001b[0;34m*\u001b[0m\u001b[0margs\u001b[0m\u001b[0;34m,\u001b[0m \u001b[0;34m**\u001b[0m\u001b[0mkwargs\u001b[0m\u001b[0;34m)\u001b[0m\u001b[0;34m:\u001b[0m\u001b[0;34m\u001b[0m\u001b[0m\n\u001b[0;32m--> 507\u001b[0;31m         \u001b[0mFigureCanvasAgg\u001b[0m\u001b[0;34m.\u001b[0m\u001b[0mdraw\u001b[0m\u001b[0;34m(\u001b[0m\u001b[0mself\u001b[0m\u001b[0;34m)\u001b[0m\u001b[0;34m\u001b[0m\u001b[0m\n\u001b[0m\u001b[1;32m    508\u001b[0m         \u001b[0mrenderer\u001b[0m \u001b[0;34m=\u001b[0m \u001b[0mself\u001b[0m\u001b[0;34m.\u001b[0m\u001b[0mget_renderer\u001b[0m\u001b[0;34m(\u001b[0m\u001b[0;34m)\u001b[0m\u001b[0;34m\u001b[0m\u001b[0m\n\u001b[1;32m    509\u001b[0m         \u001b[0moriginal_dpi\u001b[0m \u001b[0;34m=\u001b[0m \u001b[0mrenderer\u001b[0m\u001b[0;34m.\u001b[0m\u001b[0mdpi\u001b[0m\u001b[0;34m\u001b[0m\u001b[0m\n",
      "\u001b[0;32m~/anaconda/lib/python3.6/site-packages/matplotlib/backends/backend_agg.py\u001b[0m in \u001b[0;36mdraw\u001b[0;34m(self)\u001b[0m\n\u001b[1;32m    428\u001b[0m             \u001b[0;32mif\u001b[0m \u001b[0mtoolbar\u001b[0m\u001b[0;34m:\u001b[0m\u001b[0;34m\u001b[0m\u001b[0m\n\u001b[1;32m    429\u001b[0m                 \u001b[0mtoolbar\u001b[0m\u001b[0;34m.\u001b[0m\u001b[0mset_cursor\u001b[0m\u001b[0;34m(\u001b[0m\u001b[0mcursors\u001b[0m\u001b[0;34m.\u001b[0m\u001b[0mWAIT\u001b[0m\u001b[0;34m)\u001b[0m\u001b[0;34m\u001b[0m\u001b[0m\n\u001b[0;32m--> 430\u001b[0;31m             \u001b[0mself\u001b[0m\u001b[0;34m.\u001b[0m\u001b[0mfigure\u001b[0m\u001b[0;34m.\u001b[0m\u001b[0mdraw\u001b[0m\u001b[0;34m(\u001b[0m\u001b[0mself\u001b[0m\u001b[0;34m.\u001b[0m\u001b[0mrenderer\u001b[0m\u001b[0;34m)\u001b[0m\u001b[0;34m\u001b[0m\u001b[0m\n\u001b[0m\u001b[1;32m    431\u001b[0m         \u001b[0;32mfinally\u001b[0m\u001b[0;34m:\u001b[0m\u001b[0;34m\u001b[0m\u001b[0m\n\u001b[1;32m    432\u001b[0m             \u001b[0;32mif\u001b[0m \u001b[0mtoolbar\u001b[0m\u001b[0;34m:\u001b[0m\u001b[0;34m\u001b[0m\u001b[0m\n",
      "\u001b[0;32m~/anaconda/lib/python3.6/site-packages/matplotlib/artist.py\u001b[0m in \u001b[0;36mdraw_wrapper\u001b[0;34m(artist, renderer, *args, **kwargs)\u001b[0m\n\u001b[1;32m     53\u001b[0m                 \u001b[0mrenderer\u001b[0m\u001b[0;34m.\u001b[0m\u001b[0mstart_filter\u001b[0m\u001b[0;34m(\u001b[0m\u001b[0;34m)\u001b[0m\u001b[0;34m\u001b[0m\u001b[0m\n\u001b[1;32m     54\u001b[0m \u001b[0;34m\u001b[0m\u001b[0m\n\u001b[0;32m---> 55\u001b[0;31m             \u001b[0;32mreturn\u001b[0m \u001b[0mdraw\u001b[0m\u001b[0;34m(\u001b[0m\u001b[0martist\u001b[0m\u001b[0;34m,\u001b[0m \u001b[0mrenderer\u001b[0m\u001b[0;34m,\u001b[0m \u001b[0;34m*\u001b[0m\u001b[0margs\u001b[0m\u001b[0;34m,\u001b[0m \u001b[0;34m**\u001b[0m\u001b[0mkwargs\u001b[0m\u001b[0;34m)\u001b[0m\u001b[0;34m\u001b[0m\u001b[0m\n\u001b[0m\u001b[1;32m     56\u001b[0m         \u001b[0;32mfinally\u001b[0m\u001b[0;34m:\u001b[0m\u001b[0;34m\u001b[0m\u001b[0m\n\u001b[1;32m     57\u001b[0m             \u001b[0;32mif\u001b[0m \u001b[0martist\u001b[0m\u001b[0;34m.\u001b[0m\u001b[0mget_agg_filter\u001b[0m\u001b[0;34m(\u001b[0m\u001b[0;34m)\u001b[0m \u001b[0;32mis\u001b[0m \u001b[0;32mnot\u001b[0m \u001b[0;32mNone\u001b[0m\u001b[0;34m:\u001b[0m\u001b[0;34m\u001b[0m\u001b[0m\n",
      "\u001b[0;32m~/anaconda/lib/python3.6/site-packages/matplotlib/figure.py\u001b[0m in \u001b[0;36mdraw\u001b[0;34m(self, renderer)\u001b[0m\n\u001b[1;32m   1293\u001b[0m \u001b[0;34m\u001b[0m\u001b[0m\n\u001b[1;32m   1294\u001b[0m             mimage._draw_list_compositing_images(\n\u001b[0;32m-> 1295\u001b[0;31m                 renderer, self, artists, self.suppressComposite)\n\u001b[0m\u001b[1;32m   1296\u001b[0m \u001b[0;34m\u001b[0m\u001b[0m\n\u001b[1;32m   1297\u001b[0m             \u001b[0mrenderer\u001b[0m\u001b[0;34m.\u001b[0m\u001b[0mclose_group\u001b[0m\u001b[0;34m(\u001b[0m\u001b[0;34m'figure'\u001b[0m\u001b[0;34m)\u001b[0m\u001b[0;34m\u001b[0m\u001b[0m\n",
      "\u001b[0;32m~/anaconda/lib/python3.6/site-packages/matplotlib/image.py\u001b[0m in \u001b[0;36m_draw_list_compositing_images\u001b[0;34m(renderer, parent, artists, suppress_composite)\u001b[0m\n\u001b[1;32m    136\u001b[0m     \u001b[0;32mif\u001b[0m \u001b[0mnot_composite\u001b[0m \u001b[0;32mor\u001b[0m \u001b[0;32mnot\u001b[0m \u001b[0mhas_images\u001b[0m\u001b[0;34m:\u001b[0m\u001b[0;34m\u001b[0m\u001b[0m\n\u001b[1;32m    137\u001b[0m         \u001b[0;32mfor\u001b[0m \u001b[0ma\u001b[0m \u001b[0;32min\u001b[0m \u001b[0martists\u001b[0m\u001b[0;34m:\u001b[0m\u001b[0;34m\u001b[0m\u001b[0m\n\u001b[0;32m--> 138\u001b[0;31m             \u001b[0ma\u001b[0m\u001b[0;34m.\u001b[0m\u001b[0mdraw\u001b[0m\u001b[0;34m(\u001b[0m\u001b[0mrenderer\u001b[0m\u001b[0;34m)\u001b[0m\u001b[0;34m\u001b[0m\u001b[0m\n\u001b[0m\u001b[1;32m    139\u001b[0m     \u001b[0;32melse\u001b[0m\u001b[0;34m:\u001b[0m\u001b[0;34m\u001b[0m\u001b[0m\n\u001b[1;32m    140\u001b[0m         \u001b[0;31m# Composite any adjacent images together\u001b[0m\u001b[0;34m\u001b[0m\u001b[0;34m\u001b[0m\u001b[0m\n",
      "\u001b[0;32m~/anaconda/lib/python3.6/site-packages/matplotlib/artist.py\u001b[0m in \u001b[0;36mdraw_wrapper\u001b[0;34m(artist, renderer, *args, **kwargs)\u001b[0m\n\u001b[1;32m     53\u001b[0m                 \u001b[0mrenderer\u001b[0m\u001b[0;34m.\u001b[0m\u001b[0mstart_filter\u001b[0m\u001b[0;34m(\u001b[0m\u001b[0;34m)\u001b[0m\u001b[0;34m\u001b[0m\u001b[0m\n\u001b[1;32m     54\u001b[0m \u001b[0;34m\u001b[0m\u001b[0m\n\u001b[0;32m---> 55\u001b[0;31m             \u001b[0;32mreturn\u001b[0m \u001b[0mdraw\u001b[0m\u001b[0;34m(\u001b[0m\u001b[0martist\u001b[0m\u001b[0;34m,\u001b[0m \u001b[0mrenderer\u001b[0m\u001b[0;34m,\u001b[0m \u001b[0;34m*\u001b[0m\u001b[0margs\u001b[0m\u001b[0;34m,\u001b[0m \u001b[0;34m**\u001b[0m\u001b[0mkwargs\u001b[0m\u001b[0;34m)\u001b[0m\u001b[0;34m\u001b[0m\u001b[0m\n\u001b[0m\u001b[1;32m     56\u001b[0m         \u001b[0;32mfinally\u001b[0m\u001b[0;34m:\u001b[0m\u001b[0;34m\u001b[0m\u001b[0m\n\u001b[1;32m     57\u001b[0m             \u001b[0;32mif\u001b[0m \u001b[0martist\u001b[0m\u001b[0;34m.\u001b[0m\u001b[0mget_agg_filter\u001b[0m\u001b[0;34m(\u001b[0m\u001b[0;34m)\u001b[0m \u001b[0;32mis\u001b[0m \u001b[0;32mnot\u001b[0m \u001b[0;32mNone\u001b[0m\u001b[0;34m:\u001b[0m\u001b[0;34m\u001b[0m\u001b[0m\n",
      "\u001b[0;32m~/anaconda/lib/python3.6/site-packages/matplotlib/axes/_base.py\u001b[0m in \u001b[0;36mdraw\u001b[0;34m(self, renderer, inframe)\u001b[0m\n\u001b[1;32m   2397\u001b[0m             \u001b[0mrenderer\u001b[0m\u001b[0;34m.\u001b[0m\u001b[0mstop_rasterizing\u001b[0m\u001b[0;34m(\u001b[0m\u001b[0;34m)\u001b[0m\u001b[0;34m\u001b[0m\u001b[0m\n\u001b[1;32m   2398\u001b[0m \u001b[0;34m\u001b[0m\u001b[0m\n\u001b[0;32m-> 2399\u001b[0;31m         \u001b[0mmimage\u001b[0m\u001b[0;34m.\u001b[0m\u001b[0m_draw_list_compositing_images\u001b[0m\u001b[0;34m(\u001b[0m\u001b[0mrenderer\u001b[0m\u001b[0;34m,\u001b[0m \u001b[0mself\u001b[0m\u001b[0;34m,\u001b[0m \u001b[0martists\u001b[0m\u001b[0;34m)\u001b[0m\u001b[0;34m\u001b[0m\u001b[0m\n\u001b[0m\u001b[1;32m   2400\u001b[0m \u001b[0;34m\u001b[0m\u001b[0m\n\u001b[1;32m   2401\u001b[0m         \u001b[0mrenderer\u001b[0m\u001b[0;34m.\u001b[0m\u001b[0mclose_group\u001b[0m\u001b[0;34m(\u001b[0m\u001b[0;34m'axes'\u001b[0m\u001b[0;34m)\u001b[0m\u001b[0;34m\u001b[0m\u001b[0m\n",
      "\u001b[0;32m~/anaconda/lib/python3.6/site-packages/matplotlib/image.py\u001b[0m in \u001b[0;36m_draw_list_compositing_images\u001b[0;34m(renderer, parent, artists, suppress_composite)\u001b[0m\n\u001b[1;32m    136\u001b[0m     \u001b[0;32mif\u001b[0m \u001b[0mnot_composite\u001b[0m \u001b[0;32mor\u001b[0m \u001b[0;32mnot\u001b[0m \u001b[0mhas_images\u001b[0m\u001b[0;34m:\u001b[0m\u001b[0;34m\u001b[0m\u001b[0m\n\u001b[1;32m    137\u001b[0m         \u001b[0;32mfor\u001b[0m \u001b[0ma\u001b[0m \u001b[0;32min\u001b[0m \u001b[0martists\u001b[0m\u001b[0;34m:\u001b[0m\u001b[0;34m\u001b[0m\u001b[0m\n\u001b[0;32m--> 138\u001b[0;31m             \u001b[0ma\u001b[0m\u001b[0;34m.\u001b[0m\u001b[0mdraw\u001b[0m\u001b[0;34m(\u001b[0m\u001b[0mrenderer\u001b[0m\u001b[0;34m)\u001b[0m\u001b[0;34m\u001b[0m\u001b[0m\n\u001b[0m\u001b[1;32m    139\u001b[0m     \u001b[0;32melse\u001b[0m\u001b[0;34m:\u001b[0m\u001b[0;34m\u001b[0m\u001b[0m\n\u001b[1;32m    140\u001b[0m         \u001b[0;31m# Composite any adjacent images together\u001b[0m\u001b[0;34m\u001b[0m\u001b[0;34m\u001b[0m\u001b[0m\n",
      "\u001b[0;32m~/anaconda/lib/python3.6/site-packages/matplotlib/artist.py\u001b[0m in \u001b[0;36mdraw_wrapper\u001b[0;34m(artist, renderer, *args, **kwargs)\u001b[0m\n\u001b[1;32m     53\u001b[0m                 \u001b[0mrenderer\u001b[0m\u001b[0;34m.\u001b[0m\u001b[0mstart_filter\u001b[0m\u001b[0;34m(\u001b[0m\u001b[0;34m)\u001b[0m\u001b[0;34m\u001b[0m\u001b[0m\n\u001b[1;32m     54\u001b[0m \u001b[0;34m\u001b[0m\u001b[0m\n\u001b[0;32m---> 55\u001b[0;31m             \u001b[0;32mreturn\u001b[0m \u001b[0mdraw\u001b[0m\u001b[0;34m(\u001b[0m\u001b[0martist\u001b[0m\u001b[0;34m,\u001b[0m \u001b[0mrenderer\u001b[0m\u001b[0;34m,\u001b[0m \u001b[0;34m*\u001b[0m\u001b[0margs\u001b[0m\u001b[0;34m,\u001b[0m \u001b[0;34m**\u001b[0m\u001b[0mkwargs\u001b[0m\u001b[0;34m)\u001b[0m\u001b[0;34m\u001b[0m\u001b[0m\n\u001b[0m\u001b[1;32m     56\u001b[0m         \u001b[0;32mfinally\u001b[0m\u001b[0;34m:\u001b[0m\u001b[0;34m\u001b[0m\u001b[0m\n\u001b[1;32m     57\u001b[0m             \u001b[0;32mif\u001b[0m \u001b[0martist\u001b[0m\u001b[0;34m.\u001b[0m\u001b[0mget_agg_filter\u001b[0m\u001b[0;34m(\u001b[0m\u001b[0;34m)\u001b[0m \u001b[0;32mis\u001b[0m \u001b[0;32mnot\u001b[0m \u001b[0;32mNone\u001b[0m\u001b[0;34m:\u001b[0m\u001b[0;34m\u001b[0m\u001b[0m\n",
      "\u001b[0;32m~/anaconda/lib/python3.6/site-packages/matplotlib/image.py\u001b[0m in \u001b[0;36mdraw\u001b[0;34m(self, renderer, *args, **kwargs)\u001b[0m\n\u001b[1;32m    546\u001b[0m         \u001b[0;32melse\u001b[0m\u001b[0;34m:\u001b[0m\u001b[0;34m\u001b[0m\u001b[0m\n\u001b[1;32m    547\u001b[0m             im, l, b, trans = self.make_image(\n\u001b[0;32m--> 548\u001b[0;31m                 renderer, renderer.get_image_magnification())\n\u001b[0m\u001b[1;32m    549\u001b[0m             \u001b[0;32mif\u001b[0m \u001b[0mim\u001b[0m \u001b[0;32mis\u001b[0m \u001b[0;32mnot\u001b[0m \u001b[0;32mNone\u001b[0m\u001b[0;34m:\u001b[0m\u001b[0;34m\u001b[0m\u001b[0m\n\u001b[1;32m    550\u001b[0m                 \u001b[0mrenderer\u001b[0m\u001b[0;34m.\u001b[0m\u001b[0mdraw_image\u001b[0m\u001b[0;34m(\u001b[0m\u001b[0mgc\u001b[0m\u001b[0;34m,\u001b[0m \u001b[0ml\u001b[0m\u001b[0;34m,\u001b[0m \u001b[0mb\u001b[0m\u001b[0;34m,\u001b[0m \u001b[0mim\u001b[0m\u001b[0;34m)\u001b[0m\u001b[0;34m\u001b[0m\u001b[0m\n",
      "\u001b[0;32m~/anaconda/lib/python3.6/site-packages/matplotlib/image.py\u001b[0m in \u001b[0;36mmake_image\u001b[0;34m(self, renderer, magnification, unsampled)\u001b[0m\n\u001b[1;32m    772\u001b[0m         return self._make_image(\n\u001b[1;32m    773\u001b[0m             \u001b[0mself\u001b[0m\u001b[0;34m.\u001b[0m\u001b[0m_A\u001b[0m\u001b[0;34m,\u001b[0m \u001b[0mbbox\u001b[0m\u001b[0;34m,\u001b[0m \u001b[0mtransformed_bbox\u001b[0m\u001b[0;34m,\u001b[0m \u001b[0mself\u001b[0m\u001b[0;34m.\u001b[0m\u001b[0maxes\u001b[0m\u001b[0;34m.\u001b[0m\u001b[0mbbox\u001b[0m\u001b[0;34m,\u001b[0m \u001b[0mmagnification\u001b[0m\u001b[0;34m,\u001b[0m\u001b[0;34m\u001b[0m\u001b[0m\n\u001b[0;32m--> 774\u001b[0;31m             unsampled=unsampled)\n\u001b[0m\u001b[1;32m    775\u001b[0m \u001b[0;34m\u001b[0m\u001b[0m\n\u001b[1;32m    776\u001b[0m     \u001b[0;32mdef\u001b[0m \u001b[0m_check_unsampled_image\u001b[0m\u001b[0;34m(\u001b[0m\u001b[0mself\u001b[0m\u001b[0;34m,\u001b[0m \u001b[0mrenderer\u001b[0m\u001b[0;34m)\u001b[0m\u001b[0;34m:\u001b[0m\u001b[0;34m\u001b[0m\u001b[0m\n",
      "\u001b[0;32m~/anaconda/lib/python3.6/site-packages/matplotlib/image.py\u001b[0m in \u001b[0;36m_make_image\u001b[0;34m(self, A, in_bbox, out_bbox, clip_bbox, magnification, unsampled, round_to_pixel_border)\u001b[0m\n\u001b[1;32m    459\u001b[0m                     \u001b[0mA\u001b[0m\u001b[0;34m,\u001b[0m \u001b[0moutput\u001b[0m\u001b[0;34m,\u001b[0m \u001b[0mt\u001b[0m\u001b[0;34m,\u001b[0m \u001b[0m_interpd_\u001b[0m\u001b[0;34m[\u001b[0m\u001b[0mself\u001b[0m\u001b[0;34m.\u001b[0m\u001b[0mget_interpolation\u001b[0m\u001b[0;34m(\u001b[0m\u001b[0;34m)\u001b[0m\u001b[0;34m]\u001b[0m\u001b[0;34m,\u001b[0m\u001b[0;34m\u001b[0m\u001b[0m\n\u001b[1;32m    460\u001b[0m                     \u001b[0mself\u001b[0m\u001b[0;34m.\u001b[0m\u001b[0mget_resample\u001b[0m\u001b[0;34m(\u001b[0m\u001b[0;34m)\u001b[0m\u001b[0;34m,\u001b[0m \u001b[0malpha\u001b[0m\u001b[0;34m,\u001b[0m\u001b[0;34m\u001b[0m\u001b[0m\n\u001b[0;32m--> 461\u001b[0;31m                     self.get_filternorm() or 0.0, self.get_filterrad() or 0.0)\n\u001b[0m\u001b[1;32m    462\u001b[0m \u001b[0;34m\u001b[0m\u001b[0m\n\u001b[1;32m    463\u001b[0m             \u001b[0;31m# at this point output is either a 2D array of normed data\u001b[0m\u001b[0;34m\u001b[0m\u001b[0;34m\u001b[0m\u001b[0m\n",
      "\u001b[0;31mValueError\u001b[0m: 3-dimensional arrays must be of dtype unsigned byte, unsigned short, float32 or float64"
     ]
    },
    {
     "data": {
      "text/plain": [
       "<matplotlib.figure.Figure at 0x7f079528a278>"
      ]
     },
     "metadata": {},
     "output_type": "display_data"
    }
   ],
   "source": [
    "plt.imshow(label)"
   ]
  },
  {
   "cell_type": "code",
   "execution_count": null,
   "metadata": {
    "collapsed": true
   },
   "outputs": [],
   "source": []
  }
 ],
 "metadata": {
  "kernelspec": {
   "display_name": "Python 3",
   "language": "python",
   "name": "python3"
  },
  "language_info": {
   "codemirror_mode": {
    "name": "ipython",
    "version": 3
   },
   "file_extension": ".py",
   "mimetype": "text/x-python",
   "name": "python",
   "nbconvert_exporter": "python",
   "pygments_lexer": "ipython3",
   "version": "3.6.4"
  }
 },
 "nbformat": 4,
 "nbformat_minor": 1
}
